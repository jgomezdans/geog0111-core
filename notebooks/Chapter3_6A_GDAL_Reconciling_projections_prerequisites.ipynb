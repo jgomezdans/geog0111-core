{
 "cells": [
  {
   "cell_type": "markdown",
   "metadata": {},
   "source": [
    "# 3.6 Reconciling projections"
   ]
  },
  {
   "cell_type": "markdown",
   "metadata": {
    "toc": "true"
   },
   "source": [
    "<h1>Table of Contents<span class=\"tocSkip\"></span></h1>\n",
    "<div class=\"toc\"><ul class=\"toc-item\"><li><span><a href=\"#3.6-Reconciling-projections\" data-toc-modified-id=\"3.6-Reconciling-projections-1\">3.6 Reconciling projections</a></span><ul class=\"toc-item\"><li><span><a href=\"#3.6.A-Introduction\" data-toc-modified-id=\"3.6.A-Introduction-1.1\">3.6.A Introduction</a></span></li><li><span><a href=\"#3.6.A.1-Requirements\" data-toc-modified-id=\"3.6.A.1-Requirements-1.2\">3.6.A.1 Requirements</a></span><ul class=\"toc-item\"><li><span><a href=\"#3.6.A.2-Get-the-MODIS-LAI-datasets-for-2016/2017-for-W.-Europe\" data-toc-modified-id=\"3.6.A.2-Get-the-MODIS-LAI-datasets-for-2016/2017-for-W.-Europe-1.2.1\">3.6.A.2 Get the MODIS LAI datasets for 2016/2017 for W. Europe</a></span></li><li><span><a href=\"#3.6.A.3-Get-the-shapefile-for-country-borders\" data-toc-modified-id=\"3.6.A.3-Get-the-shapefile-for-country-borders-1.2.2\">3.6.A.3 Get the shapefile for country borders</a></span></li><li><span><a href=\"#3.6.A.4-Read-the-LAI-dataset-for-a-given-country-and-year\" data-toc-modified-id=\"3.6.A.4-Read-the-LAI-dataset-for-a-given-country-and-year-1.2.3\">3.6.A.4 Read the LAI dataset for a given country and year</a></span></li><li><span><a href=\"#3.6.A.5-register-with-ECMWF-and-install-the-API\" data-toc-modified-id=\"3.6.A.5-register-with-ECMWF-and-install-the-API-1.2.4\">3.6.A.5 register with ECMWF and install the API</a></span></li><li><span><a href=\"#3.6.2.4-Get-the-2t-dataset-from-ECMWF-for-Europe\" data-toc-modified-id=\"3.6.2.4-Get-the-2t-dataset-from-ECMWF-for-Europe-1.2.5\">3.6.2.4 Get the 2t dataset from ECMWF for Europe</a></span></li><li><span><a href=\"#3.6.2.5-Generate-dataset-wkt-and-correct-ECMWF-file\" data-toc-modified-id=\"3.6.2.5-Generate-dataset-wkt-and-correct-ECMWF-file-1.2.6\">3.6.2.5 Generate dataset wkt and correct ECMWF file</a></span></li><li><span><a href=\"#3.6.2.6-Get-land-cover-data\" data-toc-modified-id=\"3.6.2.6-Get-land-cover-data-1.2.7\">3.6.2.6 Get land cover data</a></span></li></ul></li></ul></li></ul></div>"
   ]
  },
  {
   "cell_type": "markdown",
   "metadata": {},
   "source": [
    "## 3.6.A Introduction\n",
    "\n",
    "This section of notes is optional to the course, and the tutor may decide *not* to go through this in class. That said, the information and obexamples contained here can be very useful for accessing and processing certain types of geospatial data.\n",
    "\n",
    "In particular, we deal with obtaining climate data records from [ECMWF](http://apps.ecmwf.int/datasets/data/era40-daily/levtype=sfc) that we will later use for model fitting. These data come in a [netcdf](https://confluence.ecmwf.int/display/CKB/What+are+NetCDF+files+and+how+can+I+read+them) format (commonly used for climate data) with a grid in latitude/longitude. To 'overlay' these data with another dataset (e.g. the MODIS LAI product that we have been using) in a different (equal area) projection, we use the `gdal` function\n",
    "\n",
    "    gdal.ReprojectImage(src, dst, src_proj, dst_proj, interp)\n",
    "       \n",
    "where:\n",
    "\n",
    "    src      : a source dataset that we want to process \n",
    "    dst      : a blank destination dataset that we set up with the \n",
    "               required (output) data type, shape, and geotransform and projection\n",
    "    src_proj : the source dataset projection wkt \n",
    "    dst_proj : the destination projection wkt \n",
    "    interp   : the required interpolation method, e.g. gdalconst.GRA_Bilinear\n",
    "    \n",
    "where wkt stands for [well known text](https://en.wikipedia.org/wiki/Well-known_text) and is a projection format string.\n",
    "\n",
    "Other codes we use are ones we have developed earlier.\n",
    "\n",
    "In these notes, we will learn:\n",
    "\n",
    "    * how to access an ECMWF daily climate dataset (from ERA interim)\n",
    "    * how to reproject the dataset to match another spatial dataset (MODIS LAI)\n",
    "    \n",
    "We will then save some datasets that we will use later in the notes. For this reason, it's possile to skip this section, and return to it later."
   ]
  },
  {
   "cell_type": "markdown",
   "metadata": {},
   "source": [
    "## 3.6.A.1 Requirements\n",
    "\n",
    "We will need to:\n",
    "\n",
    "* make sure we have the MODIS LAI dataset locally\n",
    "* read them in for a given country.\n",
    "* generate and interpolated LAI dataset\n",
    "* register with ecmwf, install ecmwfapi\n",
    "* get the temperature datasset from ECMWF for 2006 and 2017 for Europe\n",
    "* get the country borders shapefile"
   ]
  },
  {
   "cell_type": "code",
   "execution_count": 1,
   "metadata": {},
   "outputs": [],
   "source": [
    "# required general imports\n",
    "import matplotlib.pyplot as plt\n",
    "%matplotlib inline\n",
    "import numpy as np\n",
    "import sys\n",
    "import os\n",
    "from pathlib import Path\n",
    "import gdal\n",
    "from datetime import datetime, timedelta\n",
    "year = 2016\n",
    "country_code = 'LU'"
   ]
  },
  {
   "cell_type": "markdown",
   "metadata": {},
   "source": [
    "You can run all of the below with the script, unless you want to change any of the conditions (e.g. year or country):"
   ]
  },
  {
   "cell_type": "code",
   "execution_count": 2,
   "metadata": {},
   "outputs": [
    {
     "name": "stdout",
     "output_type": "stream",
     "text": [
      "['geog0111/Chapter3_6A_prerequisites.py', 'LU', '2016'] 2016 LU\n",
      "europe_data_2016_2017.nc exists\n",
      "GEOGCS[\"Coordinate System imported from GRIB file\",DATUM[\"unknown\",SPHEROID[\"Sphere\",6371200,0]],PRIMEM[\"Greenwich\",0],UNIT[\"degree\",0.0174532925199433]]\n",
      "Refreshing nc file europe_data_2016_2017.nc\n",
      "data/europe_data_2016.nc\n",
      "data/europe_data_2017.nc\n",
      "Running outside UCL Geography. Will try to download data.\n",
      " landcover_data_2017_LU.npz \n",
      "This might take a while!\n",
      "trying http://www2.geog.ucl.ac.uk/~plewis/geog0111_data/lai_files/\n",
      "trying http://www2.geog.ucl.ac.uk/~plewis/geog0111_data/\n",
      "trying http://www2.geog.ucl.ac.uk/~ucfajlg/geog0111_data/\n",
      "server may be down\n"
     ]
    }
   ],
   "source": [
    "# This does the same as the cells below but in one script\n",
    "%run geog0111/Chapter3_6A_prerequisites.py $country_code $year"
   ]
  },
  {
   "cell_type": "markdown",
   "metadata": {},
   "source": [
    "### 3.6.A.2 Get the MODIS LAI datasets for 2016/2017 for W. Europe\n",
    "\n",
    "You will probably already have this dataset, but running the code below will make sure that you do."
   ]
  },
  {
   "cell_type": "code",
   "execution_count": 3,
   "metadata": {},
   "outputs": [],
   "source": [
    "# get the MODIS LAI dataset for 2016/2017 for W. Europe\n",
    "# should be 736 files \n",
    "from geog0111.geog_data import procure_dataset\n",
    "from pathlib import Path\n",
    "\n",
    "num_hdf = len(list(Path('data').glob('MCD15A3H*hdf')))\n",
    "if num_hdf < 736:\n",
    "    _ = procure_dataset(\"lai_files\",verbose=False)"
   ]
  },
  {
   "cell_type": "markdown",
   "metadata": {},
   "source": [
    "### 3.6.A.3 Get the shapefile for country borders\n",
    "\n",
    "Again, you should already have this, but just to make sure:"
   ]
  },
  {
   "cell_type": "code",
   "execution_count": 4,
   "metadata": {},
   "outputs": [],
   "source": [
    "import requests\n",
    "import shutil\n",
    "from pathlib import Path\n",
    "\n",
    "force = False\n",
    "# zip file\n",
    "zipfile = 'TM_WORLD_BORDERS-0.3.zip'\n",
    "# URL\n",
    "tm_borders_url = f\"http://thematicmapping.org/downloads/{zipfile}\"\n",
    "# destibnation folder\n",
    "destination_folder = Path('data')\n",
    "\n",
    "# set up some filenames\n",
    "zip_file = destination_folder.joinpath(zipfile)\n",
    "shape_file = zip_file.with_name(zipfile.replace('zip', 'shp'))\n",
    "\n",
    "# download zip if need to\n",
    "if not Path(zip_file).exists():\n",
    "    r = requests.get(tm_borders_url)\n",
    "    with open(zip_file, 'wb') as fp:\n",
    "        fp.write(r.content)\n",
    "\n",
    "# extract shp from zip if need to\n",
    "if force or not Path(shape_file).exists():\n",
    "    shutil.unpack_archive(zip_file.as_posix(), extract_dir=destination_folder)\n",
    "    "
   ]
  },
  {
   "cell_type": "markdown",
   "metadata": {},
   "source": [
    "### 3.6.A.4 Read the LAI dataset for a given country and year\n",
    "\n",
    "Run the code below to read in the LAI dataset for a given year and country. This uses codes we have developed in previous sections, interfaced through `process_timeseries()`.\n",
    "\n",
    "In the code, we can save the dataset as an `npz` file, so that we can access it faster next time."
   ]
  },
  {
   "cell_type": "code",
   "execution_count": 5,
   "metadata": {},
   "outputs": [],
   "source": [
    "# read in the LAI data for given country code\n",
    "from geog0111.process_timeseries import process_timeseries\n",
    "import scipy\n",
    "import scipy.ndimage.filters\n",
    "'''\n",
    "Note, the saved npz file can be quite large\n",
    "e.g. 8.1 G for France.\n",
    "\n",
    "You can override saving it by setting save = False\n",
    "but if it is saved, it will be faster to access\n",
    "data the next time you need it.\n",
    "\n",
    "If you have a slow network, you might set download=False\n",
    "\n",
    "Does interpolation of dataset with Gaussian smoother width sigma\n",
    "'''\n",
    "save = True\n",
    "download = True\n",
    "# want sigma as low as we can deal with, whilst \n",
    "# still interpolating effectively\n",
    "sigma = 3\n",
    "\n",
    "\n",
    "tiles = []\n",
    "for h in [17, 18]:\n",
    "    for v in [3, 4]:\n",
    "        tiles.append(f\"h{h:02d}v{v:02d}\")\n",
    "        \n",
    "fname = f'lai_data_{year}_{country_code}.npz'\n",
    "ofile = Path('data')/fname\n",
    "done = False\n",
    "\n",
    "if ofile.exists():\n",
    "    done = True\n",
    "    \n",
    "# try to download it from server\n",
    "if download:\n",
    "    done = procure_dataset(fname,verbose=True)\n",
    "\n",
    "if not done:\n",
    "    # else generate it\n",
    "    dates, lai_array, weights_array = process_timeseries(year,tiles,frmat='MEM',\\\n",
    "                                                     country_code=country_code)\n",
    " \n",
    "    lai = {'dates':dates, 'lai':lai_array, 'weights':weights_array}\n",
    "\n",
    "    # set up filter\n",
    "    x = np.arange(-3*sigma,3*sigma+1)\n",
    "    gaussian = np.exp((-(x/sigma)**2)/2.0)\n",
    "\n",
    "    FIPS = country_code\n",
    "    dates, lai_array, weights_array = lai['dates'],lai['lai'],lai['weights']\n",
    "    print(lai_array.shape, weights_array.shape) #Check the output array shapes\n",
    "    print('interpolating ...')\n",
    "    numerator = scipy.ndimage.filters.convolve1d(lai_array * weights_array, gaussian, axis=2,mode='wrap')\n",
    "    denominator = scipy.ndimage.filters.convolve1d(weights_array, gaussian, axis=2,mode='wrap')\n",
    "\n",
    "    # avoid divide by 0 problems by setting zero values\n",
    "    # of the denominator to not a number (NaN)\n",
    "    denominator[denominator==0] = np.nan\n",
    "\n",
    "    interpolated_lai = numerator/denominator\n",
    "    print(interpolated_lai.shape)\n",
    "\n",
    "    # need to convert to dict to be able to assign\n",
    "    lai['interpolated_lai'] = interpolated_lai\n",
    "    print('saving ...')\n",
    "    if save:\n",
    "        np.savez_compressed(ofile,**lai)"
   ]
  },
  {
   "cell_type": "code",
   "execution_count": 6,
   "metadata": {},
   "outputs": [
    {
     "name": "stdout",
     "output_type": "stream",
     "text": [
      "[12.46488359 12.9707779  12.66668052 12.57172487 12.5430109  12.38457132\n",
      " 12.23579545 12.27250554 12.26942905 12.43250647 12.48960643 12.60697062\n",
      " 12.57322154 12.36961382 12.51265244 12.52181264 12.50411123 12.66635717\n",
      " 12.75169531 12.26231061 12.86824649 12.99491408 12.97218681 13.04568551\n",
      " 13.2463969  13.28130081 12.77618718 13.17412232 12.98403548 13.40995935\n",
      " 12.5675813  12.53988821 13.8197755  14.04873891 13.772949   13.5904102\n",
      " 14.19393016 13.86867609 13.686165   13.58825758 14.10188008 13.86718404\n",
      " 13.85474409 13.53060329 13.50408814 13.1711105  13.75550166 13.87436253\n",
      " 13.7763119  13.36458333 13.30586197 13.46170085 13.10407428 13.24387934\n",
      " 13.86328529 13.04242424 13.41308666 12.96385347 13.70315503 13.45206486\n",
      " 13.80310421 13.93165188 12.91742886 13.32721268 13.45185698 13.4931772\n",
      " 13.83985588 13.49764412 13.10169993 12.66001016 12.77271803 13.33361511\n",
      " 13.03124076 12.59559775 12.72172949 12.95489191 12.98522265 12.38168422\n",
      " 12.22975795 12.65463784 12.55263766 13.11926275 12.82906042 12.97523097\n",
      " 12.24103843 12.50066057 12.27802568 12.41912879 12.26183019 12.24083518\n",
      " 12.72493071 12.60570953]\n",
      "[0.19874654 0.19874654 0.19874654 0.19874654 0.283081   0.35662385\n",
      " 0.26963431 0.19570155 0.21511234 0.47091527 0.50809763 0.5203252\n",
      " 0.49158247 0.3148385  0.4751026  0.46047539 0.40051971 0.5203252\n",
      " 0.52023698 0.14255856 0.52021934 0.51956649 0.51778441 0.49043559\n",
      " 0.51111483 0.5004929  0.28549586 0.46042246 0.41188271 0.49391153\n",
      " 0.21685914 0.19552705 0.47160901 0.43956678 0.4637749  0.38629833\n",
      " 0.42763916 0.44436605 0.41216502 0.37258863 0.43220906 0.44254868\n",
      " 0.44187819 0.42624525 0.44708329 0.35459134 0.45583491 0.43577323\n",
      " 0.44803609 0.3884333  0.37978754 0.35983172 0.35277396 0.28014961\n",
      " 0.43859633 0.26876897 0.40346633 0.30571634 0.45274714 0.47630242\n",
      " 0.45258834 0.42075784 0.28426075 0.39557928 0.42928009 0.46751551\n",
      " 0.44337797 0.46513351 0.3877981  0.23727371 0.31272117 0.50028116\n",
      " 0.51651401 0.36189612 0.45934615 0.50984443 0.51780205 0.36099151\n",
      " 0.17427367 0.46317168 0.33834976 0.20008836 0.19874654 0.19874654\n",
      " 0.19874654 0.19874654 0.19874654 0.19874654 0.19874654 0.19874654\n",
      " 0.19874654 0.19874654]\n",
      "[0.65610413 0.65800351 0.62776398 0.57380242 0.51343854 0.4643343\n",
      " 0.4385093  0.43811953 0.45779979 0.48876735 0.52140917 0.55237027\n",
      " 0.58166253 0.61216015 0.64970439 0.70132282 0.77204754 0.86270811\n",
      " 0.97294838 1.09576577 1.22270548 1.3418187  1.44579277 1.53184345\n",
      " 1.59929471 1.65154397 1.6967618  1.75069782 1.82931007 1.94638937\n",
      " 2.10579342 2.29535476 2.48920358 2.66158148 2.79585874 2.88889225\n",
      " 2.94499235 2.97291018 2.97854192 2.96459096 2.93244254 2.88443324\n",
      " 2.82565677 2.76352022 2.70607503 2.65675994 2.61066125 2.56344996\n",
      " 2.50817913 2.44477369 2.37730315 2.31850576 2.27771294 2.25864496\n",
      " 2.26110334 2.28101681 2.31142542 2.34757848 2.38048346 2.40196121\n",
      " 2.40629592 2.39235872 2.36532757 2.32891928 2.28460233 2.22955228\n",
      " 2.15469741 2.05423776 1.92709977 1.78558512 1.64338691 1.51373368\n",
      " 1.40292473 1.30638887 1.22091165 1.14252163 1.07085676 1.00815965\n",
      " 0.95794105 0.92136489 0.89487309 0.86823828 0.82945063 0.76814057\n",
      " 0.68530332 0.59536944 0.5209187  0.4812206  0.48085913 0.51419636\n",
      " 0.56841624 0.62179996]\n"
     ]
    }
   ],
   "source": [
    "# test that LAI is sensible\n",
    "# a quick look at some stats to see if there are data there\n",
    "# and they are sensible\n",
    "lai = np.load(ofile)\n",
    "print(np.nanmean(lai['lai'],axis=(0,1)))\n",
    "print(np.nanmean(lai['weights'],axis=(0,1)))\n",
    "# does it have the interpolated value?\n",
    "if 'interpolated_lai' in list(lai.keys()):\n",
    "    print(np.nanmean(lai['interpolated_lai'],axis=(0,1)))"
   ]
  },
  {
   "cell_type": "markdown",
   "metadata": {},
   "source": [
    "### 3.6.A.5 register with ECMWF and install the API\n",
    "\n",
    "Follow the [ECMWF instructions](https://confluence.ecmwf.int/display/WEBAPI/Access+ECMWF+Public+Datasets)\n",
    "\n",
    "First, you should [register as a user with ECMWF](https://apps.ecmwf.int/auth/login).\n",
    "\n",
    "The first time:\n",
    "\n",
    "* register and follow the emailed instructions.\n",
    "\n",
    "* read and acknowledge the [conditions of access and related information](https://www.ecmwf.int/en/computing/access-computing-facilities/conditions-access-ecmwf-computing-services).\n",
    "\n",
    "* follow the instructions on [how to access datasets](https://confluence.ecmwf.int/display/WEBAPI/Access+ECMWF+Public+Datasets) to receive and set up [an ECMWF key](https://confluence.ecmwf.int/display/WEBAPI/Access+ECMWF+Public+Datasets#AccessECMWFPublicDatasets-key)\n",
    "\n",
    "Help is available [online](https://confluence.ecmwf.int/display/UDOC/User+Documentation)."
   ]
  },
  {
   "cell_type": "code",
   "execution_count": 7,
   "metadata": {},
   "outputs": [],
   "source": [
    "# install ecmwf api -- do this once only\n",
    "ECMWF = 'https://software.ecmwf.int/wiki/download/attachments/56664858/ecmwf-api-client-python.tgz'\n",
    "try:\n",
    "    from ecmwfapi import ECMWFDataServer\n",
    "except:\n",
    "    import os\n",
    "    if os.name == 'nt':\n",
    "        # on windows\n",
    "        !pip install $ECMWF\n",
    "    else:\n",
    "        # on Unix/Linux\n",
    "        !pip install --user $ECMWF"
   ]
  },
  {
   "cell_type": "markdown",
   "metadata": {},
   "source": [
    "### 3.6.2.4 Get the 2t dataset from ECMWF for Europe\n",
    "\n",
    "Run the code below to request and download the daily 2m temperature dataset for 2016 and 2017 (0.25 degree resolution) from the ECMWF ERA interim data.\n",
    "\n",
    "If the file already exists locally, the request will be ignored.\n",
    "\n",
    "If you do need to run the request, it may take several hours, depending on the ECMWF queue at the time."
   ]
  },
  {
   "cell_type": "code",
   "execution_count": 8,
   "metadata": {},
   "outputs": [
    {
     "name": "stdout",
     "output_type": "stream",
     "text": [
      "europe_data_2016_2017.nc exists\n"
     ]
    }
   ],
   "source": [
    "from ecmwfapi import ECMWFDataServer\n",
    "from pathlib import Path\n",
    "from geog0111.geog_data import procure_dataset\n",
    "\n",
    "ecmwf_file = 'europe_data_2016_2017.nc'\n",
    "\n",
    "if not (Path('data')/ecmwf_file).exists():\n",
    "    # try to get it from UCL servers\n",
    "    done = procure_dataset(ofile,verbose=True)\n",
    "    if not done:\n",
    "        server = ECMWFDataServer()\n",
    "        print('requesting data ... may take some time')\n",
    "        server.retrieve({\n",
    "            \"class\": \"ei\",\n",
    "            \"dataset\": \"interim\",\n",
    "            \"date\": \"2016-01-01/to/2017-12-31\", # Time period\n",
    "            \"expver\": \"1\",\n",
    "            \"levtype\": \"sfc\",\n",
    "            \"param\": \"2t\",           # Parameters. Here we use 2m Temperature (2t)  See the ECMWF parameter database, at http://apps.ecmwf.int/codes/grib/param-db\n",
    "            \"stream\": \"oper\",\n",
    "            \"type\": \"an\",\n",
    "            \"time\": \"12\",\n",
    "            \"step\": \"0\",\n",
    "            \"area\": \"75/-20/10/60\",    # Subset or clip to an area, here to Europe. Specify as North/West/South/East in Geographic lat/long degrees. Southern latitudes and Western longitudes must be given as negative numbers.\n",
    "            \"grid\": \"0.25/0.25\",        # Regrid from the default grid to a regular lat/lon with specified resolution. The first number is east-west resolution (longitude) and the second is north-south (latitude).\n",
    "            \"format\": \"netcdf\",         # Convert the output file from the default GRIB format to NetCDF format. Requires \"grid\" to be set to a regular lat/lon grid.\n",
    "            \"target\": f\"data/{ecmwf_file}\",  # The output file name. Set this to whatever you like.\n",
    "        })\n",
    "else: print(f'{ecmwf_file} exists')"
   ]
  },
  {
   "cell_type": "markdown",
   "metadata": {},
   "source": [
    "### 3.6.2.5 Generate dataset wkt and correct ECMWF file\n",
    "\n",
    "The coordinate system of the ECMWF is peculiar in that it has a non-standard Earth spheroid.\n",
    "\n",
    "According to [ECMWF](https://confluence.ecmwf.int/plugins/servlet/mobile?contentId=56658069#content/view/56658069), the \n",
    "Earth model assumed for GRIB data (and inherited for other data products) uses a sphere with radius 6367.47 km, as defined in the [WMO GRIB Edition 1 specifications, Table 7, GDS Octet 17](http://www.wmo.int/pages/prog/www/WMOCodes/Guides/GRIB/GRIB1-Contents.html).\n",
    "\n",
    "We will mostly be dealing with netcdf files, as above. But it is not straightforward to get this projection information from the netcdf file.\n",
    "\n",
    "Instead, we access an example grib format file and save it as `data/Pacific.wind.7days.grb`. We then generate a wkt (well known text) format file [`data/grb.wkt`](data/grb.wkt) and insert this into the file using `gdal.Translate()`.\n",
    "\n",
    "The code below is quite complicated, buit needed to fix file format problems. It also converts the integer data into physical units (temperature in K) using the `-unscale` option."
   ]
  },
  {
   "cell_type": "code",
   "execution_count": 9,
   "metadata": {},
   "outputs": [
    {
     "name": "stdout",
     "output_type": "stream",
     "text": [
      "data/europe_data_2016.nc\n",
      "data/europe_data_2017.nc\n"
     ]
    }
   ],
   "source": [
    "from osgeo import gdal\n",
    "import requests\n",
    "from pathlib import Path\n",
    "import numpy as np\n",
    "from datetime import datetime,timedelta\n",
    "\n",
    "# download example grib file from\n",
    "url = \"http://gribs2.gmn-usa.com/cgi-bin/\" +\\\n",
    "        \"weather_fetch.pl?parameter=wind&days=7&region=Pacific&dataset=nww3\"\n",
    "ofile = 'data/Pacific.wind.7days.grb'\n",
    "overwrite = False\n",
    "\n",
    "# get the example grib datafile\n",
    "# see\n",
    "# https://gis.stackexchange.com/questions/\n",
    "# 289314/using-gdal-to-read-data-from-grib-file-in-python\n",
    "output_fname = Path(ofile)\n",
    "with requests.Session() as session:\n",
    "    r1 = session.request('get',url)\n",
    "    if r1.url:\n",
    "        r2 = session.get(r1.url)\n",
    "        data = r2.content\n",
    "        d = 0\n",
    "        if overwrite or (not output_fname.exists()):  \n",
    "            with open(output_fname, 'wb') as fp:\n",
    "                d = fp.write(data)\n",
    "\n",
    "dataset = gdal.Open(ofile)\n",
    "wkt = dataset.GetProjection()\n",
    "with open('data/grb.wkt', 'w') as fp:\n",
    "    # write wkt to file\n",
    "    d = fp.write(wkt)\n",
    "    \n",
    "# use this to fix the downloaded file\n",
    "# which is ecmwf_file\n",
    "ifile = f\"data/{ecmwf_file}\"\n",
    "\n",
    "# need to sort the metadata\n",
    "meta = gdal.Open(ifile).GetMetadata()\n",
    "# get time info\n",
    "timer = np.array([(datetime(1900,1,1) + timedelta(days=float(i)/24.)) \\\n",
    "for i in meta['NETCDF_DIM_time_VALUES'][1:-1].split(',')])\n",
    "\n",
    "# pull the years info from ifile\n",
    "# if the file is multiple years eg europe_data_2010_2011.nc\n",
    "# then split it into multiple files\n",
    "years = np.array(Path(ifile).stem.split('_'))[2:].astype(int)\n",
    "\n",
    "# filter data for required year\n",
    "\n",
    "for year in years:\n",
    "    ofile = f'data/europe_data_{year}.nc'\n",
    "    mask = np.logical_and(timer >= datetime(year,1,1),timer <= datetime(year+1,1,1))\n",
    "    timer2 = timer[mask]\n",
    "    bands = ' '.join([f'-b {i}' for i in (np.where(mask)[0]+1)])    \n",
    "    timer3 = '{'+','.join(np.array(meta['NETCDF_DIM_time_VALUES'][1:-1].split(','))[mask])+'}'\n",
    "    timer4 = '{'+str(mask.sum())+',4}'\n",
    "    options = f\"-of netcdf -unscale -ot Float32 {bands} -mo NETCDF_DIM_time_VALUES={timer3}\" + \\\n",
    "              f\" -mo NETCDF_DIM_time_DEF={timer4} -a_srs data/grb.wkt\"\n",
    "    gdal.Translate(ofile+'tmp',ifile,options=options)\n",
    "    Path(ofile+'tmp').replace(ofile)\n",
    "    print(ofile)"
   ]
  },
  {
   "cell_type": "code",
   "execution_count": 10,
   "metadata": {},
   "outputs": [
    {
     "name": "stdout",
     "output_type": "stream",
     "text": [
      "['PROJCS[\"MODIS Sinusoidal\",GEOGCS[\"WGS 84\",DATUM[\"WGS_1984\",SPHEROID[\"WGS 84\",6378137,298.257223563,AUTHORITY[\"EPSG\",\"7030\"]],AUTHORITY[\"EPSG\",\"6326\"]],PRIMEM[\"Greenwich\",0,AUTHORITY[\"EPSG\",\"8901\"]],UNIT[\"degree\",0.01745329251994328,AUTHORITY[\"EPSG\",\"9122\"]],AUTHORITY[\"EPSG\",\"4326\"]],PROJECTION[\"Sinusoidal\"],PARAMETER[\"false_easting\",0.0],PARAMETER[\"false_northing\",0.0],PARAMETER[\"central_meridian\",0.0],PARAMETER[\"semi_major\",6371007.181],PARAMETER[\"semi_minor\",6371007.181],UNIT[\"m\",1.0],AUTHORITY[\"SR-ORG\",\"6974\"]]']\n"
     ]
    }
   ],
   "source": [
    "from osgeo import gdal\n",
    "import requests\n",
    "from pathlib import Path\n",
    "import numpy as np\n",
    "\n",
    "'''\n",
    "Get the SRS 6974 for MODIS in case we want to use it\n",
    "'''\n",
    "\n",
    "url = 'http://spatialreference.org/ref/sr-org/6974/ogcwkt/'\n",
    "ofile = 'data/modis_6974.wkt'\n",
    "overwrite = False\n",
    "\n",
    "# http://spatialreference.org/ref/sr-org/6974\n",
    "output_fname = Path(ofile)\n",
    "with requests.Session() as session:\n",
    "    r1 = session.request('get',url)\n",
    "    if r1.url:\n",
    "        r2 = session.get(r1.url)\n",
    "        data = r2.text\n",
    "        d = 0\n",
    "        if overwrite or (not output_fname.exists()):  \n",
    "            with open(output_fname, 'w') as fp:\n",
    "                d = fp.write(data)\n",
    "\n",
    "# test opening it\n",
    "wkt2 = open(ofile,'r').readlines()\n",
    "\n",
    "print(wkt2)"
   ]
  },
  {
   "cell_type": "markdown",
   "metadata": {},
   "source": [
    "### 3.6.2.6 Get land cover data\n",
    "\n",
    "The MODIS land cover product [MCD12Q1](https://lpdaac.usgs.gov/dataset_discovery/modis/modis_products_table/mcd12q1_v006) we need is on the server:\n",
    "\n",
    "    https://e4ftl01.cr.usgs.gov//MODV6_Cmp_C/MOTA/\n",
    "    \n",
    "This is an annual dataset, with access date `YYYY.01.01`.\n",
    "\n",
    "We will use\n",
    "\n",
    "    Land Cover Type 3: Annual Leaf Area Index (LAI) classification\n",
    "    \n",
    "referenced as `\"LC_Type3\"` (valid range 0 to 10).\n",
    "\n",
    "This is interpreted as:\n",
    "\n",
    "\n",
    "| Name | Value | Description |  \n",
    "|------|-------|-------------|\n",
    "|Water Bodies|0|At least 60% of area is covered by permanent water bodies.|\n",
    "|Grasslands|1|Dominated by herbaceous annuals (<2m) includ- ing cereal croplands.|\n",
    "|Shrublands|2|Shrub (1-2m) cover >10%.|\n",
    "|Broadleaf Croplands|3|Dominated by herbaceous annuals (<2m) that are cultivated with broadleaf crops.|\n",
    "|Savannas|4|Between 10-60% tree cover (>2m).|\n",
    "|Evergreen Broadleaf Forests|5|Dominated by evergreen broadleaf and palmate trees (>2m). Tree cover >60%.|\n",
    "|Deciduous Broadleaf Forests|6|Dominated by deciduous broadleaf trees (>2m). Tree cover >60%.|\n",
    "|Evergreen Needleleaf Forests|7|Dominated by evergreen conifer trees (>2m). Tree cover >60%.|\n",
    "|Deciduous Needleleaf Forests|8|Dominated by deciduous needleleaf (larch) trees (>2m). Tree cover >60%.|\n",
    "|Non-Vegetated Lands|9|At least 60% of area is non-vegetated barren (sand, rock, soil) or permanent snow and ice with less than 10% vegetation.|\n",
    "|Urban and Built-up Lands|10|At least 30% impervious surface area including building materials, asphalt, and vehicles.|\n",
    "|Unclassified|255|Has not received a map label because of missing inputs.|"
   ]
  },
  {
   "cell_type": "code",
   "execution_count": 11,
   "metadata": {},
   "outputs": [
    {
     "name": "stdout",
     "output_type": "stream",
     "text": [
      "server may be down\n"
     ]
    }
   ],
   "source": [
    "from geog0111.get_modis_files import get_modis_files\n",
    "'''\n",
    "Get the MODIS LC files from the server\n",
    "to store in data\n",
    "'''\n",
    "try:\n",
    "    url = 'https://e4ftl01.cr.usgs.gov//MODV6_Cmp_C/MOTA/'\n",
    "    filename = get_modis_files(1,year,[tiles],base_url=url,\\\n",
    "                                               version=6,verbose=True,\\\n",
    "                                               destination_folder='data',\\\n",
    "                                               product='MCD12Q1')[0]\n",
    "    print(filename)\n",
    "except:\n",
    "    print('server may be down')"
   ]
  },
  {
   "cell_type": "code",
   "execution_count": 12,
   "metadata": {},
   "outputs": [],
   "source": [
    "from geog0111.process_timeseries import mosaic_and_clip\n",
    "\n",
    "'''\n",
    "Extract and clip the dataset\n",
    "'''\n",
    "lc_data = mosaic_and_clip(tiles,\n",
    "                    1,\n",
    "                    year,\n",
    "                    folder='data',\n",
    "                    layer=\"LC_Type3\",\n",
    "                    shpfile='data/TM_WORLD_BORDERS-0.3.shp',\n",
    "                    country_code=country_code,\n",
    "                    product='MCD12Q1',\n",
    "                    frmat=\"MEM\")"
   ]
  },
  {
   "cell_type": "code",
   "execution_count": 13,
   "metadata": {},
   "outputs": [],
   "source": [
    "'''\n",
    "Define LC table from userguide\n",
    "https://lpdaac.usgs.gov/sites/default/\\\n",
    "        files/public/product_documentation/\\\n",
    "        mcd12_user_guide_v6.pdf\n",
    "'''\n",
    "\n",
    "table = '''\n",
    "|Water Bodies|0|At least 60% of area is covered by permanent water bodies.|\n",
    "|Grasslands|1|Dominated by herbaceous annuals (<2m) includ- ing cereal croplands.|\n",
    "|Shrublands|2|Shrub (1-2m) cover >10%.|\n",
    "|Broadleaf Croplands|3|Dominated by herbaceous annuals (<2m) that are cultivated with broadleaf crops.|\n",
    "|Savannas|4|Between 10-60% tree cover (>2m).|\n",
    "|Evergreen Broadleaf Forests|5|Dominated by evergreen broadleaf and palmate trees (>2m). Tree cover >60%.|\n",
    "|Deciduous Broadleaf Forests|6|Dominated by deciduous broadleaf trees (>2m). Tree cover >60%.|\n",
    "|Evergreen Needleleaf Forests|7|Dominated by evergreen conifer trees (>2m). Tree cover >60%.|\n",
    "|Deciduous Needleleaf Forests|8|Dominated by deciduous needleleaf (larch) trees (>2m). Tree cover >60%.|\n",
    "|Non-Vegetated Lands|9|At least 60% of area is non-vegetated barren (sand, rock, soil) or permanent snow and ice with less than 10% vegetation.|\n",
    "|Urban and Built-up Lands|10|At least 30% impervious surface area including building materials, asphalt, and vehicles.|\n",
    "|Unclassified|255|Has not received a map label because of missing inputs.|\n",
    "'''\n",
    "\n",
    "LC_Type3 = np.array([s.split('|')[1:-1] for s in table.split('\\n')[1:-1]]).T\n",
    "    \n",
    "\n",
    "np.savez_compressed(f'data/landcover_{year}_{country_code}.npz',\n",
    "                   LC_Type3=LC_Type3,lc_data=lc_data)"
   ]
  },
  {
   "cell_type": "code",
   "execution_count": 21,
   "metadata": {},
   "outputs": [
    {
     "name": "stdout",
     "output_type": "stream",
     "text": [
      "['Grasslands' 'Broadleaf Croplands' 'Savannas'\n",
      " 'Evergreen Broadleaf Forests' 'Deciduous Broadleaf Forests'\n",
      " 'Evergreen Needleleaf Forests' 'Urban and Built-up Lands']\n"
     ]
    },
    {
     "data": {
      "image/png": "[encoded data removed]",
      "text/plain": [
       "<Figure size 720x720 with 2 Axes>"
      ]
     },
     "metadata": {
      "needs_background": "light"
     },
     "output_type": "display_data"
    }
   ],
   "source": [
    "# Unique values for \"LC_Type3\"\n",
    "def plot_land_cover(lc_data,year,country_code,cmap='tab20b'):\n",
    "    '''\n",
    "    Define LC table from userguide\n",
    "    https://lpdaac.usgs.gov/sites/default/\\\n",
    "            files/public/product_documentation/\\\n",
    "            mcd12_user_guide_v6.pdf\n",
    "    '''\n",
    "\n",
    "    table = '''\n",
    "    |Water Bodies|0|At least 60% of area is covered by permanent water bodies.|\n",
    "    |Grasslands|1|Dominated by herbaceous annuals (<2m) includ- ing cereal croplands.|\n",
    "    |Shrublands|2|Shrub (1-2m) cover >10%.|\n",
    "    |Broadleaf Croplands|3|Dominated by herbaceous annuals (<2m) that are cultivated with broadleaf crops.|\n",
    "    |Savannas|4|Between 10-60% tree cover (>2m).|\n",
    "    |Evergreen Broadleaf Forests|5|Dominated by evergreen broadleaf and palmate trees (>2m). Tree cover >60%.|\n",
    "    |Deciduous Broadleaf Forests|6|Dominated by deciduous broadleaf trees (>2m). Tree cover >60%.|\n",
    "    |Evergreen Needleleaf Forests|7|Dominated by evergreen conifer trees (>2m). Tree cover >60%.|\n",
    "    |Deciduous Needleleaf Forests|8|Dominated by deciduous needleleaf (larch) trees (>2m). Tree cover >60%.|\n",
    "    |Non-Vegetated Lands|9|At least 60% of area is non-vegetated barren (sand, rock, soil) or permanent snow and ice with less than 10% vegetation.|\n",
    "    |Urban and Built-up Lands|10|At least 30% impervious surface area including building materials, asphalt, and vehicles.|\n",
    "    |Unclassified|255|Has not received a map label because of missing inputs.|\n",
    "    '''\n",
    "\n",
    "    LC_Type3 = np.array([s.split('|')[1:-1] for s in table.split('\\n')[1:-1]]).T\n",
    "    \n",
    "    \n",
    "    '''\n",
    "    First, lets get the codes and names of the LCs used\n",
    "    '''\n",
    "    flc_data = lc_data.astype(float)\n",
    "    flc_data[lc_data == 255] = np.nan\n",
    "    land_covers_present = np.unique(lc_data[lc_data!=255])\n",
    "    land_cover_names = LC_Type3[0]\n",
    "    '''\n",
    "    For categorical data we want a quantitative colormap\n",
    "\n",
    "    The core options are:\n",
    "    https://matplotlib.org/tutorials/colors/colormaps.html\n",
    "\n",
    "    qcmaps = ['Pastel1', 'Pastel2', 'Paired', 'Accent',\n",
    "             'Dark2', 'Set1', 'Set2', 'Set3',\n",
    "              'tab10', 'tab20', 'tab20b', 'tab20c']\n",
    "    '''\n",
    "\n",
    "    '''\n",
    "    Now learn how to plot with categorical labels\n",
    "    following example in\n",
    "    https://gist.github.com/jakevdp/8a992f606899ac24b711\n",
    "    FuncFormatter to put labels \n",
    "    '''\n",
    "\n",
    "    ncov = land_covers_present.max()\n",
    "    # This function formatter will replace integers with target names\n",
    "    formatter = plt.FuncFormatter(lambda val, loc: land_cover_names[val])\n",
    "    plt.figure(figsize=(10,10))\n",
    "    plt.title(f'MODIS LAI Land cover LC_Type3 from MCD12Q1 {year} {country_code}')\n",
    "    plt.imshow(flc_data,vmax=ncov,vmin=0,\\\n",
    "               cmap=plt.cm.get_cmap(cmap,ncov))\n",
    "    plt.colorbar(ticks=np.arange(ncov+2).astype(int), \\\n",
    "                 format=formatter)\n",
    "    return(land_cover_names[land_covers_present])\n",
    "    \n",
    "from geog0111.plot_landcover import plot_land_cover\n",
    "print(plot_land_cover(lc_data,year,country_code))"
   ]
  },
  {
   "cell_type": "code",
   "execution_count": 26,
   "metadata": {},
   "outputs": [
    {
     "name": "stdout",
     "output_type": "stream",
     "text": [
      "Dominated by herbaceous annuals (<2m) includ- ing cereal croplands.\n"
     ]
    },
    {
     "data": {
      "image/png": "[encoded data removed]",
      "text/plain": [
       "<Figure size 720x720 with 1 Axes>"
      ]
     },
     "metadata": {
      "needs_background": "light"
     },
     "output_type": "display_data"
    }
   ],
   "source": [
    "lc = 1\n",
    "\n",
    "flc_data = lc_data.astype(float)\n",
    "flc_data[lc_data != lc] = np.nan\n",
    "plt.figure(figsize=(10,10))\n",
    "plt.imshow(flc_data.astype(int))\n",
    "plt.title(LC_Type3[0,lc])\n",
    "print(LC_Type3[2,lc])"
   ]
  },
  {
   "cell_type": "code",
   "execution_count": 15,
   "metadata": {
    "scrolled": false
   },
   "outputs": [],
   "source": [
    "# uncomment to run all LCs\n",
    "_='''for year in [2016,2017]:\n",
    "    for country_code in ['BE','DA','EI','FR','GM','IM','LU','NL','SP','SZ','UK']:\n",
    "        %run geog0111/get_landcover.py $country_code $year'''"
   ]
  }
 ],
 "metadata": {
  "kernelspec": {
   "display_name": "Python 3",
   "language": "python",
   "name": "python3"
  },
  "language_info": {
   "codemirror_mode": {
    "name": "ipython",
    "version": 3
   },
   "file_extension": ".py",
   "mimetype": "text/x-python",
   "name": "python",
   "nbconvert_exporter": "python",
   "pygments_lexer": "ipython3",
   "version": "3.6.6"
  },
  "latex_envs": {
   "LaTeX_envs_menu_present": true,
   "autocomplete": true,
   "bibliofile": "biblio.bib",
   "cite_by": "apalike",
   "current_citInitial": 1,
   "eqLabelWithNumbers": true,
   "eqNumInitial": 1,
   "hotkeys": {
    "equation": "Ctrl-E",
    "itemize": "Ctrl-I"
   },
   "labels_anchors": false,
   "latex_user_defs": false,
   "report_style_numbering": false,
   "user_envs_cfg": false
  },
  "toc": {
   "base_numbering": 1,
   "nav_menu": {},
   "number_sections": false,
   "sideBar": true,
   "skip_h1_title": false,
   "title_cell": "Table of Contents",
   "title_sidebar": "Contents",
   "toc_cell": true,
   "toc_position": {},
   "toc_section_display": "block",
   "toc_window_display": true
  }
 },
 "nbformat": 4,
 "nbformat_minor": 1
}
