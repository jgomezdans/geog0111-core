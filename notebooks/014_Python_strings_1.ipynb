{
 "cells": [
  {
   "cell_type": "markdown",
   "metadata": {},
   "source": [
    "# 014 String formatting\n",
    "\n",
    "## Introduction\n",
    "\n",
    "### Purpose\n",
    "\n",
    "In this section we will learn some more depth about strings: features and formatting.\n",
    "\n",
    "\n",
    "### Prerequisites\n",
    "\n",
    "You will need some understanding of the following:\n",
    "\n",
    "\n",
    "* [001 Using Notebooks](001_Notebook_use.ipynb)\n",
    "* [005 Getting help](005_Help.ipynb)\n",
    "* [010 Variables, comments and print()](010_Python_Introduction.ipynb)\n",
    "* [011 Data types](011_Python_data_types.ipynb) In particular, you should be understand strings.\n",
    "* [012 Groups](012_Python_groups.ipynb) In particular, lists.\n",
    "* [013 Control](013_Python_control.ipynb) In particular, `if`.\n",
    "\n",
    "### Timing\n",
    "\n",
    "The session should take around XX hours.\n",
    "\n"
   ]
  },
  {
   "cell_type": "markdown",
   "metadata": {},
   "source": [
    "## String features"
   ]
  },
  {
   "cell_type": "markdown",
   "metadata": {},
   "source": [
    "### Quotes and escapes\n",
    "\n",
    "We have seen strings before, and noted that they are collections of characters (`a`, `b`, `1`, ...). Strings and characters are input by surrounding the relevant text in either double (`\"`) or single (`'`) quotes. You can use this feature to print out a string with quotes, for example:"
   ]
  },
  {
   "cell_type": "code",
   "execution_count": 6,
   "metadata": {
    "scrolled": true
   },
   "outputs": [
    {
     "name": "stdout",
     "output_type": "stream",
     "text": [
      "'a string in single quotes'\n",
      "\"a string in double quotes\"\n"
     ]
    }
   ],
   "source": [
    "print (\"'a string in single quotes'\")\n",
    "print ('\"a string in double quotes\"')"
   ]
  },
  {
   "cell_type": "markdown",
   "metadata": {},
   "source": [
    "We have seen that some elements of the string may be special codes for print formatting, such as newline `\\n` or tab `\\t`. If we insert these in the string, they will add a newline or a tab respectively. Both of these might *look like* multiple characters, but rather are interpreted instead as a single character.\n",
    "\n",
    "What if we needed to print out `\\n` as part of the string, e.g. print the string:\n",
    "\n",
    "        \"beware of \\n and \\t\"\n",
    "        \n",
    "we will find that they are (as we probably suspected) interpreted. Using single or double quotes will make no difference:"
   ]
  },
  {
   "cell_type": "code",
   "execution_count": 31,
   "metadata": {},
   "outputs": [
    {
     "name": "stdout",
     "output_type": "stream",
     "text": [
      "beware of \n",
      " and \t\n",
      "beware of \n",
      " and \t\n"
     ]
    }
   ],
   "source": [
    "print(\"beware of \\n and \\t\")\n",
    "print('beware of \\n and \\t')"
   ]
  },
  {
   "cell_type": "markdown",
   "metadata": {},
   "source": [
    "What we need to do is to present the `print()` with two characters `\\` and `n`, instead of the single character `\\n`. The problem now is that `\\` has special meaning in a string: it *escapes* the following character, i.e. it makes the interpreter ignore the meaning of the following character. If we tried to generate a string:\n",
    "\n",
    "        \"\\\"\n",
    " \n",
    " the code would fail, because `\\\"` means *don't* interpret `\"` in its usual sense (i.e. as a quote) and we would have an unclosed string.\n",
    " \n",
    " The trick then, is to use `\\` to escape the meaning of `\\`. So, if we want to print `\\`, we set the string as `\\\\`:"
   ]
  },
  {
   "cell_type": "code",
   "execution_count": 33,
   "metadata": {},
   "outputs": [
    {
     "name": "stdout",
     "output_type": "stream",
     "text": [
      "\\\n"
     ]
    }
   ],
   "source": [
    "print(\"\\\\\")"
   ]
  },
  {
   "cell_type": "markdown",
   "metadata": {
    "solution2": "hidden",
    "solution2_first": true
   },
   "source": [
    "#### Exercise\n",
    "\n",
    "* insert a new cell below here\n",
    "* Use what we have learned above to print the phrase `\"beware of \\n and \\t\"`, including quotes."
   ]
  },
  {
   "cell_type": "code",
   "execution_count": 80,
   "metadata": {
    "solution2": "hidden"
   },
   "outputs": [
    {
     "name": "stdout",
     "output_type": "stream",
     "text": [
      "wrong:\t\t beware of \n",
      " and \t\n",
      "good:\t\t beware of \\n and \\t \t\tbut no quotes\n",
      "great:\t\t \"beware of \\n and \\t\"\n",
      "great:\t\t \"beware of \\n and \\t\"\n"
     ]
    }
   ],
   "source": [
    "# Use what we have learned above to print the phrase\n",
    "# \"beware of \\n and \\t\", including quotes.\n",
    "\n",
    "# try this first\n",
    "string = \"beware of \\n and \\t\"\n",
    "print('wrong:\\t\\t',string)\n",
    "\n",
    "# now escape the \\ characters\n",
    "string = \"beware of \\\\n and \\\\t\"\n",
    "print('good:\\t\\t',string,'\\t\\tbut no quotes')\n",
    "\n",
    "# now escape the \\ characters\n",
    "# and add quotes\n",
    "string = '\"beware of \\\\n and \\\\t\"'\n",
    "print('great:\\t\\t',string)\n",
    "\n",
    "# now escape the \\ characters\n",
    "# and add quotes by escaping\n",
    "string = \"\\\"beware of \\\\n and \\\\t\\\"\"\n",
    "print('great:\\t\\t',string)"
   ]
  },
  {
   "cell_type": "markdown",
   "metadata": {},
   "source": [
    "Another time we use the `\\` as an escape character is in trying to make long strings in our code more readable. We can do this by putting an escape `\\` **just before** we hit the return key (newline!) on the keyboard, and so spread what would be a command or variable over a single long line over multiple lines.\n",
    "\n",
    "For example:"
   ]
  },
  {
   "cell_type": "code",
   "execution_count": 74,
   "metadata": {},
   "outputs": [
    {
     "name": "stdout",
     "output_type": "stream",
     "text": [
      "Remote sensing is the process of detecting and monitoring the physical characteristics of an area by measuring its reflected and emitted radiation at a distance (typically from satellite or aircraft).\n"
     ]
    }
   ],
   "source": [
    "# from https://www.usgs.gov/faqs/what-remote-sensing-and-what-it-used?\n",
    "string = \\\n",
    "\"Remote sensing is the process of detecting and \\\n",
    "monitoring the physical characteristics of an \\\n",
    "area by measuring its reflected and emitted \\\n",
    "radiation at a distance (typically from \\\n",
    "satellite or aircraft).\"\n",
    "\n",
    "print(string)"
   ]
  },
  {
   "cell_type": "markdown",
   "metadata": {},
   "source": [
    "Here, when we type `string = ` on the first line, the Python interpreter expects a string to be specified next. By using instead `\\` *just before we hit the return*, we are essentially escaping that newline, and the rest of the command (the string definition here) can take place on the following line. We repeat this idea to spread the string over multiple lines."
   ]
  },
  {
   "cell_type": "markdown",
   "metadata": {},
   "source": [
    "This can be really useful. \n",
    "\n",
    "In the special case of a string that we want to define over multiple lines though, Python has a special format using triple quotes (single or double):\n",
    "\n",
    "    '''\n",
    "    multiple \n",
    "    line\n",
    "    string\n",
    "    '''\n",
    "    \n",
    "that means we don't need to escape each end of line within the text."
   ]
  },
  {
   "cell_type": "code",
   "execution_count": 56,
   "metadata": {},
   "outputs": [
    {
     "name": "stdout",
     "output_type": "stream",
     "text": [
      "\n",
      "Remote sensing is the process of detecting and \n",
      "monitoring the physical characteristics of an \n",
      "area by measuring its reflected and emitted \n",
      "radiation at a distance (typically from \n",
      "satellite or aircraft).\n",
      "\n"
     ]
    }
   ],
   "source": [
    "# from https://www.usgs.gov/faqs/what-remote-sensing-and-what-it-used?\n",
    "string = '''\n",
    "Remote sensing is the process of detecting and \n",
    "monitoring the physical characteristics of an \n",
    "area by measuring its reflected and emitted \n",
    "radiation at a distance (typically from \n",
    "satellite or aircraft).\n",
    "'''\n",
    "\n",
    "print(string)"
   ]
  },
  {
   "cell_type": "markdown",
   "metadata": {},
   "source": [
    "Notice how this is different to the case when we escaped the newline characters withing the string. In fact, at the end of each line of text, this string contains `\\n` newline characters (we just don't see them)."
   ]
  },
  {
   "cell_type": "markdown",
   "metadata": {
    "solution2": "hidden",
    "solution2_first": true
   },
   "source": [
    "#### Exercise\n",
    "\n",
    "* Insert a new cell below here\n",
    "* Write Python code that prints a string containing the following text, spaced over four lines as intended. There should be no space at the start of the line.\n",
    "\n",
    "        The Owl and the Pussy-cat went to sea \n",
    "        In a beautiful pea-green boat, \n",
    "        They took some honey, and plenty of money, \n",
    "        Wrapped up in a five-pound note.\n",
    "\n",
    "* Write Python code that prints a string containing the above text, all on a single line."
   ]
  },
  {
   "cell_type": "code",
   "execution_count": 58,
   "metadata": {
    "solution2": "hidden"
   },
   "outputs": [
    {
     "name": "stdout",
     "output_type": "stream",
     "text": [
      "\n",
      "The Owl and the Pussy-cat went to sea\n",
      "In a beautiful pea-green boat,\n",
      "They took some honey, and plenty of money,\n",
      "Wrapped up in a five-pound note.\n",
      "  \n"
     ]
    }
   ],
   "source": [
    "# ANSWER\n",
    "\n",
    "# Write Python code that prints a string containing \n",
    "# the following text, spaced over four lines as intended.\n",
    "\n",
    "lear = '''\n",
    "The Owl and the Pussy-cat went to sea\n",
    "In a beautiful pea-green boat,\n",
    "They took some honey, and plenty of money,\n",
    "Wrapped up in a five-pound note.\n",
    "  '''\n",
    "print(lear)"
   ]
  },
  {
   "cell_type": "code",
   "execution_count": 61,
   "metadata": {
    "solution2": "hidden"
   },
   "outputs": [
    {
     "name": "stdout",
     "output_type": "stream",
     "text": [
      "The Owl and the Pussy-cat went to sea In a beautiful pea-green boat, They took some honey, and plenty of money, Wrapped up in a five-pound note.\n"
     ]
    }
   ],
   "source": [
    "# ANSWER\n",
    "\n",
    "# Write Python code that prints a string \n",
    "# containing the above text, all on a single line.\n",
    "\n",
    "# we escape the new lines now\n",
    "lear = \"\\\n",
    "The Owl and the Pussy-cat went to sea \\\n",
    "In a beautiful pea-green boat, \\\n",
    "They took some honey, and plenty of money, \\\n",
    "Wrapped up in a five-pound note.\"\n",
    "print(lear)"
   ]
  },
  {
   "cell_type": "code",
   "execution_count": 44,
   "metadata": {
    "solution2": "hidden"
   },
   "outputs": [
    {
     "name": "stdout",
     "output_type": "stream",
     "text": [
      "wrong: beware of \n",
      " and \t\n",
      "good:\t\t beware of \\n and \\t \tbut no quotes\n",
      "great:\t\t \"beware of \\n and \\t\"\n",
      "great again:\t \"beware of \\n and \\t\"\n"
     ]
    }
   ],
   "source": [
    "# ANSWER\n",
    "\n",
    "# lets set up a variable called string to make this clearer\n",
    "# and do this piece by piece\n",
    "string = 'beware of \\n and \\t'\n",
    "print(\"wrong:\", string)\n",
    "\n",
    "# escape the \\\n",
    "string = 'beware of \\\\n and \\\\t'\n",
    "print(\"good:\\t\\t\", string, '\\tbut no quotes')\n",
    "\n",
    "# escape the \\\n",
    "string = '\"beware of \\\\n and \\\\t\"'\n",
    "print(\"great:\\t\\t\", string)\n",
    "\n",
    "# or ... escape the quotes. as well!\n",
    "string = \"\\\"beware of \\\\n and \\\\t\\\"\"\n",
    "print(\"great again:\\t\", string)"
   ]
  },
  {
   "cell_type": "code",
   "execution_count": 141,
   "metadata": {
    "solution2": "hidden"
   },
   "outputs": [
    {
     "name": "stdout",
     "output_type": "stream",
     "text": [
      "Hello World 11\n",
      "HloWrd\n"
     ]
    }
   ],
   "source": [
    "# ANSWER\n",
    "\n",
    "s = \"Hello World\"\n",
    "print (s,len(s))\n",
    "\n",
    "# based on the example above, print the string starting \n",
    "# from the default start value, up to the default stop value, in steps of `2`.\n",
    "\n",
    "# default start -> None\n",
    "start = None\n",
    "# default stop -> None\n",
    "stop  = None\n",
    "skip  = 2\n",
    "print (s[start:stop:skip])"
   ]
  },
  {
   "cell_type": "code",
   "execution_count": 143,
   "metadata": {
    "solution2": "hidden"
   },
   "outputs": [
    {
     "name": "stdout",
     "output_type": "stream",
     "text": [
      "l\n"
     ]
    }
   ],
   "source": [
    "# ANSWER\n",
    "\n",
    "s = \"Hello World\"\n",
    "# write code to print out the 4 𝑡ℎ  letter (character) of the string s.\n",
    "# index 3 is the 4th character !!!\n",
    "print(s[3])"
   ]
  },
  {
   "cell_type": "markdown",
   "metadata": {},
   "source": [
    "## String formating\n",
    "\n",
    "### `str.format()`\n",
    "\n",
    "We know that we can join strings together with `+` or, from a list with `str.join()`. \n",
    "\n",
    "Whilst we have seen that you can print a string with some variables in it, e.g.:"
   ]
  },
  {
   "cell_type": "code",
   "execution_count": 147,
   "metadata": {},
   "outputs": [
    {
     "name": "stdout",
     "output_type": "stream",
     "text": [
      "The number you are thinking of is 10.6 but I guessed 13.4\n"
     ]
    }
   ],
   "source": [
    "float_val = 10.6\n",
    "guess_value = 13.4\n",
    "print(\"The number you are thinking of is\",float_val,'but I guessed',guess_value)"
   ]
  },
  {
   "cell_type": "markdown",
   "metadata": {},
   "source": [
    "strings of that nature can soon become unwieldy. We could have converted each item to a string, and then joined the strings:"
   ]
  },
  {
   "cell_type": "code",
   "execution_count": 154,
   "metadata": {},
   "outputs": [
    {
     "name": "stdout",
     "output_type": "stream",
     "text": [
      "The number you are thinking of is 10.6 but I guessed 13.4\n",
      "The number you are thinking of is 10.6 but I guessed 13.4\n"
     ]
    }
   ],
   "source": [
    "float_val = 10.6\n",
    "guess_value = 13.4\n",
    "# using + & inserting the correct white spaces\n",
    "string = \"The number you are thinking of is \" + \\\n",
    "          str(float_val) + \\\n",
    "         ' but I guessed ' + \\\n",
    "          str(guess_value)\n",
    "print(string)\n",
    "\n",
    "## OR as a comma separated list\n",
    "string = [\"The number you are thinking of is\",\\\n",
    "          str(float_val),\\\n",
    "         'but I guessed',\\\n",
    "          str(guess_value)]\n",
    "print(' '.join(string))"
   ]
  },
  {
   "cell_type": "markdown",
   "metadata": {},
   "source": [
    "but neither of these is very readable, or indeed very re-useable.\n",
    "\n",
    "A neater way to form a string with variable inserts is to use the `format()` method:"
   ]
  },
  {
   "cell_type": "markdown",
   "metadata": {},
   "source": [
    "    str.format(...)\n",
    "     |      S.format(*args, **kwargs) -> str\n",
    "     |      \n",
    "     |      Return a formatted version of S, using substitutions from args and kwargs.\n",
    "     |      The substitutions are identified by braces ('{' and '}').\n",
    "     |  "
   ]
  },
  {
   "cell_type": "markdown",
   "metadata": {},
   "source": [
    "Using this approach, we would set up a template:\n",
    "\n",
    "    string_template = \\\n",
    "    \"The number you are thinking of is {think} but I guessed {guess}\"\n",
    "\n",
    "with variables `float_val` and `guess_value` defined between braces `{}`.\n",
    "\n",
    "To insert values into this template, we use the string method `format()`. If the template variables are named (as in `{think}` and `{guess}` here), then we use **keyword arguments** with `format()`. For example:"
   ]
  },
  {
   "cell_type": "code",
   "execution_count": 166,
   "metadata": {},
   "outputs": [
    {
     "name": "stdout",
     "output_type": "stream",
     "text": [
      "The number you are thinking of is 10.6 but I guessed 13.4\n"
     ]
    }
   ],
   "source": [
    "string_template = \\\n",
    "    \"The number you are thinking of is {think} but I guessed {guess}\"\n",
    "\n",
    "float_val = 10.6\n",
    "guess_value = 13.4\n",
    "\n",
    "print(string_template.format(think=float_val,\\\n",
    "                             guess=guess_value))"
   ]
  },
  {
   "cell_type": "markdown",
   "metadata": {},
   "source": [
    "This has the advantage that the template is easily re-useable, that we have been explicit about the variables we insert."
   ]
  },
  {
   "cell_type": "markdown",
   "metadata": {},
   "source": [
    "### `f-string`\n",
    "\n",
    "An alternative way of formatting a string that can be useful is the use of the `f-string`. In this, we place an `f` character at the start of the string. It is a sort of short-hand for what we do with the format statement, where the variables given in the braces are directly inserted."
   ]
  },
  {
   "cell_type": "code",
   "execution_count": 176,
   "metadata": {},
   "outputs": [
    {
     "name": "stdout",
     "output_type": "stream",
     "text": [
      "The number you are thinking of is 10.6 but I guessed 13.4\n"
     ]
    }
   ],
   "source": [
    "string = \\\n",
    "f'The number you are thinking of is {float_val} but I guessed {guess_value}'\n",
    "print(string)"
   ]
  },
  {
   "cell_type": "markdown",
   "metadata": {
    "solution2": "hidden",
    "solution2_first": true
   },
   "source": [
    "#### Exercise\n",
    "\n",
    "* Insert a new cell below here\n",
    "* create a template string of the form:\n",
    "\n",
    "        \"what have the {people} ever done for us?\"\n",
    "        \n",
    "* assign the word `Romans` to the variable `people`\n",
    "* use the `str.format()` method to insert this into the string, and print it out.\n",
    "* repeat thisl using an f-string directly."
   ]
  },
  {
   "cell_type": "code",
   "execution_count": 178,
   "metadata": {
    "solution2": "hidden"
   },
   "outputs": [
    {
     "name": "stdout",
     "output_type": "stream",
     "text": [
      "what have the Romans ever done for us?\n",
      "what have the Romans ever done for us?\n"
     ]
    }
   ],
   "source": [
    "# ANSWER\n",
    "\n",
    "# create a template string of the form:\n",
    "template = \"what have the {people} ever done for us?\"\n",
    "\n",
    "# assign the word Romans to the variable people\n",
    "people = 'Romans'\n",
    "\n",
    "# use the str.format() method to insert this into the string, and print it out.\n",
    "print(template.format(people=people))\n",
    "\n",
    "# repeat thisl using an f-string directly.\n",
    "people = 'Romans'\n",
    "string = f\"what have the {people} ever done for us?\"\n",
    "print(string)\n"
   ]
  },
  {
   "cell_type": "markdown",
   "metadata": {},
   "source": [
    "## Summary\n",
    "\n",
    "In this section, we have introduced some more detail on string, especially regarding some special features of strings and string methods. There are many more methods you can use, but we have tried to cover the main ones here, but there are many [resources](https://www.w3schools.com/python/python_strings.asp#:~:text=Strings%20are%20Arrays,access%20elements%20of%20the%20string.) you can use to follow up."
   ]
  }
 ],
 "metadata": {
  "kernelspec": {
   "display_name": "Python 3",
   "language": "python",
   "name": "python3"
  },
  "language_info": {
   "codemirror_mode": {
    "name": "ipython",
    "version": 3
   },
   "file_extension": ".py",
   "mimetype": "text/x-python",
   "name": "python",
   "nbconvert_exporter": "python",
   "pygments_lexer": "ipython3",
   "version": "3.7.6"
  },
  "latex_envs": {
   "LaTeX_envs_menu_present": true,
   "autocomplete": true,
   "bibliofile": "biblio.bib",
   "cite_by": "apalike",
   "current_citInitial": 1,
   "eqLabelWithNumbers": true,
   "eqNumInitial": 1,
   "hotkeys": {
    "equation": "Ctrl-E",
    "itemize": "Ctrl-I"
   },
   "labels_anchors": false,
   "latex_user_defs": false,
   "report_style_numbering": false,
   "user_envs_cfg": false
  },
  "nbTranslate": {
   "displayLangs": [
    "*"
   ],
   "hotkey": "alt-t",
   "langInMainMenu": true,
   "sourceLang": "en",
   "targetLang": "fr",
   "useGoogleTranslate": true
  },
  "toc": {
   "base_numbering": 1,
   "nav_menu": {},
   "number_sections": false,
   "sideBar": true,
   "skip_h1_title": false,
   "title_cell": "Table of Contents",
   "title_sidebar": "Contents",
   "toc_cell": true,
   "toc_position": {
    "height": "calc(100% - 180px)",
    "left": "10px",
    "top": "150px",
    "width": "207px"
   },
   "toc_section_display": true,
   "toc_window_display": false
  },
  "varInspector": {
   "cols": {
    "lenName": 16,
    "lenType": 16,
    "lenVar": 40
   },
   "kernels_config": {
    "python": {
     "delete_cmd_postfix": "",
     "delete_cmd_prefix": "del ",
     "library": "var_list.py",
     "varRefreshCmd": "print(var_dic_list())"
    },
    "r": {
     "delete_cmd_postfix": ") ",
     "delete_cmd_prefix": "rm(",
     "library": "var_list.r",
     "varRefreshCmd": "cat(var_dic_list()) "
    }
   },
   "types_to_exclude": [
    "module",
    "function",
    "builtin_function_or_method",
    "instance",
    "_Feature"
   ],
   "window_display": false
  }
 },
 "nbformat": 4,
 "nbformat_minor": 1
}
