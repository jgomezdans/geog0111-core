{
 "cells": [
  {
   "cell_type": "markdown",
   "metadata": {},
   "source": [
    "# Introduction to Python data types"
   ]
  },
  {
   "cell_type": "markdown",
   "metadata": {},
   "source": [
    "## Introduction\n",
    "\n",
    "[Python](https://anaconda.org/anaconda/python) is a popular general purpose, free language. As opposed to other systems that are focused towards a particular task (e.g. R for statistics), Python has a strong following on the web, on systems operations and in data analysis. For scientific computing, a large number of useful add-ons (\"libraries\") are available to help you analyse and process data. This is an invaluable resource.\n",
    "\n",
    "In addition to being free, Python is also very portable, and easy to pick up. \n",
    "\n",
    "\n",
    "### Purpose\n",
    "\n",
    "In this section we will learn some of the fundamental concepts in Python concerning variables, as well as writing comments and the use of the function `print()` and newline and tab characters.\n",
    "\n",
    "### Prerequisites\n",
    "\n",
    "You will need some understanding of the following:\n",
    "\n",
    "* Using Notebooks\n",
    "* Getting help\n",
    "\n",
    "Remember that you can 'run' the code in a code block using the 'run' widget (above) or hitting the keys ('typing') <shift> and <return> at the same time. \n",
    "\n",
    "### Timing\n",
    "\n",
    "The session should take around XX hours."
   ]
  },
  {
   "cell_type": "markdown",
   "metadata": {},
   "source": [
    "## Some basics"
   ]
  },
  {
   "cell_type": "markdown",
   "metadata": {},
   "source": [
    "### Comments \n",
    "\n",
    "Comments are statements ignored by the language interpreter.\n",
    "\n",
    "Any text after a `#` in a *code block* is a comment."
   ]
  },
  {
   "cell_type": "markdown",
   "metadata": {},
   "source": [
    "   \n",
    "#### Exercise\n",
    "* Try running the code block below\n",
    "* Explain what happened ('what the computer did')"
   ]
  },
  {
   "cell_type": "code",
   "execution_count": 1,
   "metadata": {
    "solution2": "hidden",
    "solution2_first": true
   },
   "outputs": [],
   "source": [
    "# Hello world"
   ]
  },
  {
   "cell_type": "markdown",
   "metadata": {
    "solution2": "hidden"
   },
   "source": [
    "<mark>**ANSWER**\n",
    "    \n",
    "<mark>Nothing 'apparently' happened, but really, the code block was interpreted as a set of Python commands and executed. As there is only a comment, there was no output."
   ]
  },
  {
   "cell_type": "markdown",
   "metadata": {},
   "source": [
    "### `print()`\n"
   ]
  },
  {
   "cell_type": "code",
   "execution_count": 2,
   "metadata": {
    "ExecuteTime": {
     "end_time": "2020-07-22T14:28:42.215616Z",
     "start_time": "2020-07-22T14:28:42.212303Z"
    }
   },
   "outputs": [
    {
     "name": "stdout",
     "output_type": "stream",
     "text": [
      "Help on built-in function print in module builtins:\n",
      "\n",
      "print(...)\n",
      "    print(value, ..., sep=' ', end='\\n', file=sys.stdout, flush=False)\n",
      "    \n",
      "    Prints the values to a stream, or to sys.stdout by default.\n",
      "    Optional keyword arguments:\n",
      "    file:  a file-like object (stream); defaults to the current sys.stdout.\n",
      "    sep:   string inserted between values, default a space.\n",
      "    end:   string appended after the last value, default a newline.\n",
      "    flush: whether to forcibly flush the stream.\n",
      "\n"
     ]
    }
   ],
   "source": [
    "help(print)"
   ]
  },
  {
   "cell_type": "markdown",
   "metadata": {},
   "source": [
    "To print some value (by default, to the terminal you are using, knows as the standard output `stdout`), use the `print(...)` function.\n",
    "\n"
   ]
  },
  {
   "cell_type": "code",
   "execution_count": 3,
   "metadata": {},
   "outputs": [
    {
     "name": "stdout",
     "output_type": "stream",
     "text": [
      "hello world\n",
      "hello world\n"
     ]
    }
   ],
   "source": [
    "# For example, to print the string 'hello world':\n",
    "print('hello world')\n",
    "\n",
    "# to print the list ('hello','world'):\n",
    "print('hello', 'world')"
   ]
  },
  {
   "cell_type": "markdown",
   "metadata": {
    "solution2": "hidden",
    "solution2_first": true
   },
   "source": [
    "#### Exercise\n",
    "\n",
    "* Insert a new cell below here\n",
    "* Print out the string `Today I am learning Python`."
   ]
  },
  {
   "cell_type": "markdown",
   "metadata": {},
   "source": [
    "### newline and tab\n",
    "\n",
    "We can gain more control over our printing by understanding some special characters we use in print formatting:\n",
    "\n",
    "    newline \\n\n",
    "    tab     \\t\n",
    "    \n",
    "When we specify these characters in a print statement, they have the impact of starting text on the following time, and aligning text the next tab location respectively. These are concepts you will be familiar with from word processing, although you may not have thought about them explicitly.\n",
    "\n",
    "Any time we place these characters in a string that we print out, they will affect the formatting out our printed statement:"
   ]
  },
  {
   "cell_type": "code",
   "execution_count": 3,
   "metadata": {},
   "outputs": [
    {
     "name": "stdout",
     "output_type": "stream",
     "text": [
      "hello world\n",
      "hello\n",
      "world\n",
      "hello\tworld\n"
     ]
    }
   ],
   "source": [
    "# For example, to print the string 'hello world'\n",
    "# with a simple space\n",
    "print('hello world')\n",
    "\n",
    "# with a newline in the middle\n",
    "print('hello\\nworld')\n",
    "\n",
    "# with a tab in the middle\n",
    "print('hello\\tworld')"
   ]
  },
  {
   "cell_type": "markdown",
   "metadata": {
    "solution2": "hidden",
    "solution2_first": true
   },
   "source": [
    "#### Exercise\n",
    "\n",
    "* Insert a new cell below here\n",
    "* print a string `\"all the world's a stage and all the men and women merely players\"`\n",
    "* print this same string, but with each word on a new line\n",
    "* print this same string with two columns of words, for as many lines as needed"
   ]
  },
  {
   "cell_type": "code",
   "execution_count": 14,
   "metadata": {
    "solution2": "hidden"
   },
   "outputs": [
    {
     "name": "stdout",
     "output_type": "stream",
     "text": [
      "all the world's a stage and all the men and women merely players\n"
     ]
    }
   ],
   "source": [
    "#ANSWER\n",
    "\n",
    "# print a string \"all the world's a stage\"\n",
    "print(\"all the world's a stage and all the men and women merely players\")"
   ]
  },
  {
   "cell_type": "code",
   "execution_count": 9,
   "metadata": {
    "scrolled": true,
    "solution2": "hidden"
   },
   "outputs": [
    {
     "name": "stdout",
     "output_type": "stream",
     "text": [
      "Today I am learning Python\n",
      "Today I am learning Python\n"
     ]
    }
   ],
   "source": [
    "# Answer\n",
    "# Notice that the string must be in quotes\n",
    "print('Today I am learning Python')\n",
    "\n",
    "# Or, as a list:\n",
    "print('Today', 'I', 'am', 'learning', 'Python')"
   ]
  },
  {
   "cell_type": "code",
   "execution_count": 15,
   "metadata": {
    "solution2": "hidden"
   },
   "outputs": [
    {
     "name": "stdout",
     "output_type": "stream",
     "text": [
      "all\n",
      "the\n",
      "world's\n",
      "a\n",
      "stage\n",
      "and\n",
      "all\n",
      "the\n",
      "men\n",
      "and\n",
      "women\n",
      "merely\n",
      "players\n"
     ]
    }
   ],
   "source": [
    "#ANSWER\n",
    "\n",
    "# print this same string, but with each word on a new line\n",
    "print(\"all\\nthe\\nworld's\\na\\nstage\\nand\\nall\\nthe\\nmen\\nand\\nwomen\\nmerely\\nplayers\")"
   ]
  },
  {
   "cell_type": "code",
   "execution_count": 17,
   "metadata": {
    "scrolled": true,
    "solution2": "hidden"
   },
   "outputs": [
    {
     "name": "stdout",
     "output_type": "stream",
     "text": [
      "all\tthe\n",
      "world's\ta\n",
      "stage\tand\n",
      "all\tthe\n",
      "men\tand\n",
      "women\tmerely\n",
      "players\n"
     ]
    }
   ],
   "source": [
    "# print this same string with two columns of words, for as many lines as needed\n",
    "# This needs alternating newline and tab\n",
    "print(\"all\\tthe\\nworld's\\ta\\nstage\\tand\\nall\\tthe\\nmen\\tand\\nwomen\\tmerely\\nplayers\")"
   ]
  },
  {
   "cell_type": "markdown",
   "metadata": {},
   "source": [
    "## Variables and Values "
   ]
  },
  {
   "cell_type": "markdown",
   "metadata": {},
   "source": [
    "### Variables and values\n",
    "\n",
    "The idea of **variables** is fundamental to any programming. \n",
    "\n",
    "You can think of this as the *name* of *something*, so it is a way of allowing us to refer to some object in the language. A related idea we will find useful is to think of the variable name as a **key**. What the variable *is* set to is called its **value**.\n",
    "\n",
    "Putting these ideas together, we can think of the variable name and its value as a `key: value` pair:\n",
    "\n",
    "    key: value\n",
    "\n",
    "**Remember: the `key` is the name of the variable, the `value` is what is stored in the variable.**"
   ]
  },
  {
   "cell_type": "markdown",
   "metadata": {},
   "source": [
    "So let's start with a variable we will call (*declare to be*) `my_store`.\n",
    "\n",
    "We will give a *value* of the string `'one'` to this variable:"
   ]
  },
  {
   "cell_type": "code",
   "execution_count": 14,
   "metadata": {},
   "outputs": [
    {
     "name": "stdout",
     "output_type": "stream",
     "text": [
      "one\n"
     ]
    }
   ],
   "source": [
    "# assign the value 'one' to the variable (key) my_store\n",
    "my_store = 'one'\n",
    "\n",
    "# Print the value of my_store\n",
    "print(my_store)"
   ]
  },
  {
   "cell_type": "markdown",
   "metadata": {
    "solution2": "hidden",
    "solution2_first": true
   },
   "source": [
    "#### Exercise\n",
    "\n",
    "* Insert a new cell below here\n",
    "* set a variable called `message` to contain the string `hello world`\n",
    "* print the value of the variable `message`"
   ]
  },
  {
   "cell_type": "code",
   "execution_count": 13,
   "metadata": {
    "solution2": "hidden"
   },
   "outputs": [
    {
     "name": "stdout",
     "output_type": "stream",
     "text": [
      "hello world\n"
     ]
    }
   ],
   "source": [
    "# ANSWER\n",
    "\n",
    "message = 'hello world'\n",
    "print(message)"
   ]
  },
  {
   "cell_type": "markdown",
   "metadata": {
    "solution2": "hidden"
   },
   "source": [
    "Alternatively, we might notice that `n` is the 14th letter of the alphabet, and `e`the 5th, so the code seems to be `97 + N` where `N` is the order the letter appears in the alphabet. We can confirm this with the 15th letter `o` which we see from above has the code `111`. "
   ]
  },
  {
   "cell_type": "code",
   "execution_count": 92,
   "metadata": {
    "solution2": "hidden"
   },
   "outputs": [
    {
     "name": "stdout",
     "output_type": "stream",
     "text": [
      "value is hello world\n",
      "type is <class 'str'>\n"
     ]
    }
   ],
   "source": [
    "# ANSWER\n",
    "\n",
    "message = 'hello world'\n",
    "print('value is', message)\n",
    "print('type is', type(message))"
   ]
  },
  {
   "cell_type": "markdown",
   "metadata": {},
   "source": [
    "## Summary\n",
    "\n",
    "In this section, you have had an introduction to the Python programming language, running in a [`jupyter notebook`](http://jupyter.org) environment.\n",
    "\n",
    "You have seen how to write comments in code, how to form `print` statements, `\\n` and `\\'t` and basic concepts of variables and values."
   ]
  }
 ],
 "metadata": {
  "kernelspec": {
   "display_name": "Python 3",
   "language": "python",
   "name": "python3"
  },
  "language_info": {
   "codemirror_mode": {
    "name": "ipython",
    "version": 3
   },
   "file_extension": ".py",
   "mimetype": "text/x-python",
   "name": "python",
   "nbconvert_exporter": "python",
   "pygments_lexer": "ipython3",
   "version": "3.7.6"
  },
  "latex_envs": {
   "LaTeX_envs_menu_present": true,
   "autocomplete": true,
   "bibliofile": "biblio.bib",
   "cite_by": "apalike",
   "current_citInitial": 1,
   "eqLabelWithNumbers": true,
   "eqNumInitial": 1,
   "hotkeys": {
    "equation": "Ctrl-E",
    "itemize": "Ctrl-I"
   },
   "labels_anchors": false,
   "latex_user_defs": false,
   "report_style_numbering": false,
   "user_envs_cfg": false
  },
  "toc": {
   "base_numbering": 1,
   "nav_menu": {},
   "number_sections": false,
   "sideBar": false,
   "skip_h1_title": false,
   "title_cell": "Table of Contents",
   "title_sidebar": "Contents",
   "toc_cell": false,
   "toc_position": {
    "height": "calc(100% - 180px)",
    "left": "10px",
    "top": "150px",
    "width": "207px"
   },
   "toc_section_display": false,
   "toc_window_display": false
  },
  "varInspector": {
   "cols": {
    "lenName": 16,
    "lenType": 16,
    "lenVar": 40
   },
   "kernels_config": {
    "python": {
     "delete_cmd_postfix": "",
     "delete_cmd_prefix": "del ",
     "library": "var_list.py",
     "varRefreshCmd": "print(var_dic_list())"
    },
    "r": {
     "delete_cmd_postfix": ") ",
     "delete_cmd_prefix": "rm(",
     "library": "var_list.r",
     "varRefreshCmd": "cat(var_dic_list()) "
    }
   },
   "types_to_exclude": [
    "module",
    "function",
    "builtin_function_or_method",
    "instance",
    "_Feature"
   ],
   "window_display": false
  }
 },
 "nbformat": 4,
 "nbformat_minor": 1
}
