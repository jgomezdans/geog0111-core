{
 "cells": [
  {
   "cell_type": "markdown",
   "metadata": {},
   "source": [
    "# 015 String methods\n",
    "\n",
    "## Introduction\n",
    "\n",
    "### Purpose\n",
    "\n",
    "In this section we will learn some more depth about strings, in particular, string methods.\n",
    "\n",
    "\n",
    "### Prerequisites\n",
    "\n",
    "You will need some understanding of the following:\n",
    "\n",
    "\n",
    "* [001 Using Notebooks](001_Notebook_use.ipynb)\n",
    "* [005 Getting help](005_Help.ipynb)\n",
    "* [010 Variables, comments and print()](010_Python_Introduction.ipynb)\n",
    "* [011 Data types](011_Python_data_types.ipynb) In particular, you should be understand strings.\n",
    "* [012 Groups](012_Python_groups.ipynb) In particular, lists.\n",
    "* [013 Control](013_Python_control.ipynb) In particular, `if`.\n",
    "* [014 String formatting](014_Python_strings_1.ipynb)\n",
    "\n",
    "### Timing\n",
    "\n",
    "The session should take around XX hours.\n",
    "\n"
   ]
  },
  {
   "cell_type": "code",
   "execution_count": 58,
   "metadata": {
    "solution2": "hidden"
   },
   "outputs": [
    {
     "name": "stdout",
     "output_type": "stream",
     "text": [
      "\n",
      "The Owl and the Pussy-cat went to sea\n",
      "In a beautiful pea-green boat,\n",
      "They took some honey, and plenty of money,\n",
      "Wrapped up in a five-pound note.\n",
      "  \n"
     ]
    }
   ],
   "source": [
    "# ANSWER\n",
    "\n",
    "# Write Python code that prints a string containing \n",
    "# the following text, spaced over four lines as intended.\n",
    "\n",
    "lear = '''\n",
    "The Owl and the Pussy-cat went to sea\n",
    "In a beautiful pea-green boat,\n",
    "They took some honey, and plenty of money,\n",
    "Wrapped up in a five-pound note.\n",
    "  '''\n",
    "print(lear)"
   ]
  },
  {
   "cell_type": "code",
   "execution_count": 61,
   "metadata": {
    "solution2": "hidden"
   },
   "outputs": [
    {
     "name": "stdout",
     "output_type": "stream",
     "text": [
      "The Owl and the Pussy-cat went to sea In a beautiful pea-green boat, They took some honey, and plenty of money, Wrapped up in a five-pound note.\n"
     ]
    }
   ],
   "source": [
    "# ANSWER\n",
    "\n",
    "# Write Python code that prints a string \n",
    "# containing the above text, all on a single line.\n",
    "\n",
    "# we escape the new lines now\n",
    "lear = \"\\\n",
    "The Owl and the Pussy-cat went to sea \\\n",
    "In a beautiful pea-green boat, \\\n",
    "They took some honey, and plenty of money, \\\n",
    "Wrapped up in a five-pound note.\"\n",
    "print(lear)"
   ]
  },
  {
   "cell_type": "code",
   "execution_count": 44,
   "metadata": {
    "solution2": "hidden"
   },
   "outputs": [
    {
     "name": "stdout",
     "output_type": "stream",
     "text": [
      "wrong: beware of \n",
      " and \t\n",
      "good:\t\t beware of \\n and \\t \tbut no quotes\n",
      "great:\t\t \"beware of \\n and \\t\"\n",
      "great again:\t \"beware of \\n and \\t\"\n"
     ]
    }
   ],
   "source": [
    "# ANSWER\n",
    "\n",
    "# lets set up a variable called string to make this clearer\n",
    "# and do this piece by piece\n",
    "string = 'beware of \\n and \\t'\n",
    "print(\"wrong:\", string)\n",
    "\n",
    "# escape the \\\n",
    "string = 'beware of \\\\n and \\\\t'\n",
    "print(\"good:\\t\\t\", string, '\\tbut no quotes')\n",
    "\n",
    "# escape the \\\n",
    "string = '\"beware of \\\\n and \\\\t\"'\n",
    "print(\"great:\\t\\t\", string)\n",
    "\n",
    "# or ... escape the quotes. as well!\n",
    "string = \"\\\"beware of \\\\n and \\\\t\\\"\"\n",
    "print(\"great again:\\t\", string)"
   ]
  },
  {
   "cell_type": "markdown",
   "metadata": {},
   "source": [
    "## String Methods\n",
    "\n",
    "### Concatenate strings: `+` and `len()`"
   ]
  },
  {
   "cell_type": "markdown",
   "metadata": {},
   "source": [
    "We can do a number of things with strings, which are very useful. These so-called string methods are defined on all strings by Python by default, and can be used with every string. As \n",
    "\n",
    "For one, we can concatenate strings using the `+` symbol:"
   ]
  },
  {
   "cell_type": "code",
   "execution_count": 7,
   "metadata": {},
   "outputs": [
    {
     "name": "stdout",
     "output_type": "stream",
     "text": [
      "hello world\n"
     ]
    }
   ],
   "source": [
    "string1 = 'hello'\n",
    "string2 = 'world'\n",
    "spacer = ' '\n",
    "\n",
    "# concatenate these\n",
    "result = string1 + spacer + string2\n",
    "print(result)"
   ]
  },
  {
   "cell_type": "markdown",
   "metadata": {},
   "source": [
    "Another method we will find useful with strings is the `len()` function."
   ]
  },
  {
   "cell_type": "code",
   "execution_count": 11,
   "metadata": {},
   "outputs": [
    {
     "name": "stdout",
     "output_type": "stream",
     "text": [
      "Help on built-in function len in module builtins:\n",
      "\n",
      "len(obj, /)\n",
      "    Return the number of items in a container.\n",
      "\n"
     ]
    }
   ],
   "source": [
    "help(len)"
   ]
  },
  {
   "cell_type": "markdown",
   "metadata": {},
   "source": [
    "When the object is a string, the 'number of items' refers to the number of characters, so `len(str)` returns the length of the string."
   ]
  },
  {
   "cell_type": "code",
   "execution_count": 18,
   "metadata": {},
   "outputs": [
    {
     "name": "stdout",
     "output_type": "stream",
     "text": [
      "the length of  is 0\n",
      "the length of \"Hellothereeveryone\" is 18\n"
     ]
    }
   ],
   "source": [
    "# generate a string called t\n",
    "# and see how long it is\n",
    "t = ''\n",
    "print ('the length of',t,'is',len(t))\n",
    "\n",
    "# generate a string called s\n",
    "# and see how long it is\n",
    "quote = '\"'\n",
    "s = \"Hello\" + \"there\" + \"everyone\"\n",
    "print ('the length of',quote+s+quote,'is',len(s))"
   ]
  },
  {
   "cell_type": "markdown",
   "metadata": {
    "solution2": "hidden",
    "solution2_first": true
   },
   "source": [
    "#### Exercise\n",
    "\n",
    "* insert a new cell below here\n",
    "* what might a zero-length string look like? Try to generate one, and check its length.\n",
    "* the `Hello there everyone` example above has no spaces between the words. Copy the code and modify it to have spaces.\n",
    "* confirm that you get the expected increase in length."
   ]
  },
  {
   "cell_type": "markdown",
   "metadata": {},
   "source": [
    "### `replace()` and `strip()`"
   ]
  },
  {
   "cell_type": "code",
   "execution_count": 62,
   "metadata": {},
   "outputs": [
    {
     "name": "stdout",
     "output_type": "stream",
     "text": [
      "Help on method_descriptor:\n",
      "\n",
      "replace(self, old, new, count=-1, /)\n",
      "    Return a copy with all occurrences of substring old replaced by new.\n",
      "    \n",
      "      count\n",
      "        Maximum number of occurrences to replace.\n",
      "        -1 (the default value) means replace all occurrences.\n",
      "    \n",
      "    If the optional argument count is given, only the first count occurrences are\n",
      "    replaced.\n",
      "\n"
     ]
    }
   ],
   "source": [
    "help(str.replace)"
   ]
  },
  {
   "cell_type": "markdown",
   "metadata": {},
   "source": [
    "The string method `replace()` replaces substrings defined in `old` with those defined in `new`. \n",
    "\n",
    "In the example below, we replace the sub-string `\"happy\"` with a new string containing the emoji \"😃\": "
   ]
  },
  {
   "cell_type": "code",
   "execution_count": 72,
   "metadata": {},
   "outputs": [
    {
     "name": "stdout",
     "output_type": "stream",
     "text": [
      "original:\t I'm a very happy string\n",
      "new:\t\t I'm a very 😀 string\n"
     ]
    }
   ],
   "source": [
    "original_string = \"I'm a very happy string\"\n",
    "print('original:\\t',original_string)\n",
    "\n",
    "new_string = original_string.replace(\"happy\", \"😀\")\n",
    "print ('new:\\t\\t',new_string)"
   ]
  },
  {
   "cell_type": "code",
   "execution_count": 94,
   "metadata": {},
   "outputs": [
    {
     "name": "stdout",
     "output_type": "stream",
     "text": [
      "Help on method_descriptor:\n",
      "\n",
      "strip(self, chars=None, /)\n",
      "    Return a copy of the string with leading and trailing whitespace removed.\n",
      "    \n",
      "    If chars is given and not None, remove characters in chars instead.\n",
      "\n"
     ]
    }
   ],
   "source": [
    "help(str.strip)"
   ]
  },
  {
   "cell_type": "markdown",
   "metadata": {},
   "source": [
    "`strip()` is very useful in string formatting and general tidying up.\n",
    "\n",
    "Suppose we had the string:\n",
    "\n",
    "    \":::😀:😀:😀::::::\"\n",
    "    \n",
    "but what we wanted was:\n",
    "\n",
    "    \"😀:😀:😀\"\n",
    "    \n",
    "i.e. we want to strip the `:` characters from the right and left ends of the string. We can't easily use `replace()` without affecting the `:` characters we want to keep. We can achieve this with the `strip()` method though."
   ]
  },
  {
   "cell_type": "code",
   "execution_count": 98,
   "metadata": {},
   "outputs": [
    {
     "name": "stdout",
     "output_type": "stream",
     "text": [
      ":::😀:😀:😀::::::\n",
      "😀:😀:😀\n"
     ]
    }
   ],
   "source": [
    "old_string = \":::😀:😀:😀::::::\"\n",
    "print(old_string)\n",
    "\n",
    "new_string = old_string.strip(':')\n",
    "print(new_string)"
   ]
  },
  {
   "cell_type": "markdown",
   "metadata": {
    "solution2": "hidden",
    "solution2_first": true
   },
   "source": [
    "#### Exercise\n",
    "\n",
    "* Insert a new cell below here\n",
    "* Take the multi-line string:\n",
    "\n",
    "`'''\n",
    "----Remote sensing is the process of detecting and \n",
    "monitoring the physical characteristics of an \n",
    "area by measuring its reflected and emitted \n",
    "radiation at a distance (typically from \n",
    "satellite or aircraft).----\n",
    "'''`\n",
    "\n",
    "  and use it to generate a single line string, without the `-` characters at either end.\n",
    "    "
   ]
  },
  {
   "cell_type": "code",
   "execution_count": 101,
   "metadata": {
    "solution2": "hidden"
   },
   "outputs": [
    {
     "name": "stdout",
     "output_type": "stream",
     "text": [
      "\n",
      "----Remote sensing is the process of detecting and \n",
      "monitoring the physical characteristics of an \n",
      "area by measuring its reflected and emitted \n",
      "radiation at a distance (typically from \n",
      "satellite or aircraft).----\n",
      "\n",
      "Remote sensing is the process of detecting and monitoring the physical characteristics of an area by measuring its reflected and emitted radiation at a distance (typically from satellite or aircraft).\n"
     ]
    }
   ],
   "source": [
    "old_string = '''\n",
    "----Remote sensing is the process of detecting and \n",
    "monitoring the physical characteristics of an \n",
    "area by measuring its reflected and emitted \n",
    "radiation at a distance (typically from \n",
    "satellite or aircraft).----\n",
    "'''\n",
    "print(old_string)\n",
    "\n",
    "# replace newline with empty string!\n",
    "# and strip the result after\n",
    "new_string = old_string.replace('\\n','').strip('-')\n",
    "print(new_string)"
   ]
  },
  {
   "cell_type": "markdown",
   "metadata": {},
   "source": [
    "### `split()` and `join()`"
   ]
  },
  {
   "cell_type": "code",
   "execution_count": 63,
   "metadata": {},
   "outputs": [
    {
     "name": "stdout",
     "output_type": "stream",
     "text": [
      "Help on method_descriptor:\n",
      "\n",
      "split(self, /, sep=None, maxsplit=-1)\n",
      "    Return a list of the words in the string, using sep as the delimiter string.\n",
      "    \n",
      "    sep\n",
      "      The delimiter according which to split the string.\n",
      "      None (the default value) means split according to any whitespace,\n",
      "      and discard empty strings from the result.\n",
      "    maxsplit\n",
      "      Maximum number of splits to do.\n",
      "      -1 (the default value) means no limit.\n",
      "\n"
     ]
    }
   ],
   "source": [
    "help(str.split)"
   ]
  },
  {
   "cell_type": "markdown",
   "metadata": {},
   "source": [
    "A pair if really useful string methods are `split()` and `join()`. The former is used to split a string into a list of sub-strings. For example:"
   ]
  },
  {
   "cell_type": "code",
   "execution_count": 122,
   "metadata": {},
   "outputs": [
    {
     "name": "stdout",
     "output_type": "stream",
     "text": [
      "['Remote', 'sensing', 'is', 'the', 'process', 'of', 'detecting', 'and', 'monitoring', 'the', 'physical', 'characteristics', 'of', 'an', 'area', 'by', 'measuring', 'its', 'reflected', 'and', 'emitted', 'radiation', 'at', 'a', 'distance', '(typically', 'from', 'satellite', 'or', 'aircraft).']\n"
     ]
    }
   ],
   "source": [
    "string = \\\n",
    "\"   Remote sensing is the process of detecting and \\\n",
    "monitoring the physical characteristics of an \\\n",
    "area by measuring its reflected and emitted \\\n",
    "radiation at a distance (typically from \\\n",
    "satellite or aircraft).   \"\n",
    "\n",
    "string_list = string.split()\n",
    "\n",
    "print(string_list)"
   ]
  },
  {
   "cell_type": "markdown",
   "metadata": {},
   "source": [
    "We see that the string is 'parsed' into a list of separate sub-strings, which in this case represent words in the sentence. The default delimiter used to split the string is `' '`, whitespace (space or tab), though we could specify others if we needed.\n",
    "\n",
    "Any whitespece to the left or right of the string has no impact here, so we do not need to explicitly `strip()` the string.\n",
    "\n",
    "If we want to generate a string from a set of sub-strings, we use the `join()` method."
   ]
  },
  {
   "cell_type": "code",
   "execution_count": 118,
   "metadata": {},
   "outputs": [
    {
     "name": "stdout",
     "output_type": "stream",
     "text": [
      "Help on method_descriptor:\n",
      "\n",
      "join(self, iterable, /)\n",
      "    Concatenate any number of strings.\n",
      "    \n",
      "    The string whose method is called is inserted in between each given string.\n",
      "    The result is returned as a new string.\n",
      "    \n",
      "    Example: '.'.join(['ab', 'pq', 'rs']) -> 'ab.pq.rs'\n",
      "\n"
     ]
    }
   ],
   "source": [
    "help(str.join)"
   ]
  },
  {
   "cell_type": "markdown",
   "metadata": {},
   "source": [
    " For this, we declare the string delimiter we wish to use. For example, to reconstruct the sentence from the string list with whitespace delimitation:"
   ]
  },
  {
   "cell_type": "code",
   "execution_count": 121,
   "metadata": {},
   "outputs": [
    {
     "name": "stdout",
     "output_type": "stream",
     "text": [
      "Remote sensing is the process of detecting and monitoring the physical characteristics of an area by measuring its reflected and emitted radiation at a distance (typically from satellite or aircraft).\n"
     ]
    }
   ],
   "source": [
    "string_list = ['Remote', 'sensing', 'is', 'the', 'process', \n",
    "               'of', 'detecting', 'and', 'monitoring', 'the', \n",
    "               'physical', 'characteristics', 'of', 'an', 'area', \n",
    "               'by', 'measuring', 'its', 'reflected', 'and', 'emitted', \n",
    "               'radiation', 'at', 'a', 'distance', '(typically', 'from',\n",
    "               'satellite', 'or', 'aircraft).']\n",
    "\n",
    "string = ' '.join(string_list)\n",
    "print(string)"
   ]
  },
  {
   "cell_type": "markdown",
   "metadata": {},
   "source": [
    "#### Exercise\n",
    "\n",
    "* Insert a new cell below here\n",
    "* Take the string \n",
    "\n",
    "      The Owl and the Pussy-cat went to sea \n",
    "      In a beautiful pea-green boat, \n",
    "      They took some honey, and plenty of money, \n",
    "      Wrapped up in a five-pound note.\n",
    "    \n",
    "  and split it into a list of sub-strings.\n",
    "* Then re-construct the string, separating each word by a colon character `':'`\n",
    "* Print out the list of sub-strings and the re-constructed string"
   ]
  },
  {
   "cell_type": "code",
   "execution_count": 126,
   "metadata": {},
   "outputs": [
    {
     "name": "stdout",
     "output_type": "stream",
     "text": [
      "['The', 'Owl', 'and', 'the', 'Pussy-cat', 'went', 'to', 'sea', 'In', 'a', 'beautiful', 'pea-green', 'boat,', 'They', 'took', 'some', 'honey,', 'and', 'plenty', 'of', 'money,', 'Wrapped', 'up', 'in', 'a', 'five-pound', 'note.']\n",
      "The:Owl:and:the:Pussy-cat:went:to:sea:In:a:beautiful:pea-green:boat,:They:took:some:honey,:and:plenty:of:money,:Wrapped:up:in:a:five-pound:note.\n"
     ]
    }
   ],
   "source": [
    "# Answer\n",
    "\n",
    "# Take the string\n",
    "string = '''\n",
    "The Owl and the Pussy-cat went to sea \n",
    "In a beautiful pea-green boat, \n",
    "They took some honey, and plenty of money, \n",
    "Wrapped up in a five-pound note.\n",
    "'''\n",
    "\n",
    "# and split it into a list of sub-strings.\n",
    "list_string = string.split()\n",
    "# print this out\n",
    "print(list_string)\n",
    "\n",
    "# Then re-construct the string, separating each word by a colon character ':'\n",
    "recon_string = ':'.join(list_string)\n",
    "# print this out\n",
    "print(recon_string)"
   ]
  },
  {
   "cell_type": "code",
   "execution_count": 22,
   "metadata": {
    "solution2": "hidden"
   },
   "outputs": [
    {
     "name": "stdout",
     "output_type": "stream",
     "text": [
      " 0\n"
     ]
    }
   ],
   "source": [
    "# ANSWER\n",
    "# what might a zero-length string look like? \n",
    "# Try to generate one, and check its length.\n",
    "s = ''\n",
    "print(s,len(s))"
   ]
  },
  {
   "cell_type": "code",
   "execution_count": 21,
   "metadata": {
    "solution2": "hidden"
   },
   "outputs": [
    {
     "name": "stdout",
     "output_type": "stream",
     "text": [
      "the length of \"Hello there everyone\" is 20\n"
     ]
    }
   ],
   "source": [
    "# the Hello there everyone example above has no spaces between the words. \n",
    "# copy the code and modify it to have spaces.\n",
    "\n",
    "# generate a string called s\n",
    "# and see how long it is\n",
    "\n",
    "# lets have a spacer variable\n",
    "spacer = ' '\n",
    "quote = '\"'\n",
    "# add the spaces in\n",
    "s = \"Hello\" + spacer + \"there\" + spacer + \"everyone\"\n",
    "print ('the length of',quote+s+quote,'is',len(s))\n",
    "\n",
    "# confirm that you get the expected increase in length.\n",
    "# It is now 20 rather than 18 above"
   ]
  },
  {
   "cell_type": "markdown",
   "metadata": {},
   "source": [
    "### `slice` \n",
    "\n",
    "A string can be thought of as an ordered 'array' of characters. \n",
    "\n",
    "So, for example the string `hello` can be thought of as a construct containing `h` then `e`, `l`, `l`, and `o`. \n",
    "\n",
    "We can index a string, so that e.g. `'hello'[0]` is `h`, `'hello'[1]` is `e` etc. Notice that index `0` is used for the first item.\n",
    "\n",
    "We have seen above the idea of the 'length' of a string. In this example, the length of the string `hello` is 5. The final item in this case would be `'hello'[4]`, because we count indices from 0."
   ]
  },
  {
   "cell_type": "code",
   "execution_count": 132,
   "metadata": {},
   "outputs": [
    {
     "name": "stdout",
     "output_type": "stream",
     "text": [
      "length of hello is 5\n",
      "character 0 of hello is h\n",
      "character 3 of hello is l\n",
      "character 4 of hello is o\n"
     ]
    }
   ],
   "source": [
    "string = 'hello'\n",
    "\n",
    "# length\n",
    "slen = len(string)\n",
    "print('length of',string,'is',slen)\n",
    "\n",
    "# select these indices\n",
    "i = 0\n",
    "print('character',i,'of',string,'is',string[i])\n",
    "\n",
    "i = 3\n",
    "print('character',i,'of',string,'is',string[i])\n",
    "\n",
    "i = 4\n",
    "print('character',i,'of',string,'is',string[i])\n"
   ]
  },
  {
   "cell_type": "markdown",
   "metadata": {
    "solution2": "hidden",
    "solution2_first": true
   },
   "source": [
    "#### Exercise\n",
    "\n",
    "* Insert a new cell below here\n",
    "* copy the code above, and see what happens if you set `i` to be the value of length of the string. Why does it respond so?\n",
    "* make the code robust to this issue, but using an `if` statement to test if `index` is in the required range."
   ]
  },
  {
   "cell_type": "code",
   "execution_count": 136,
   "metadata": {
    "solution2": "hidden"
   },
   "outputs": [
    {
     "name": "stdout",
     "output_type": "stream",
     "text": [
      "length of hello is 5\n",
      "out of bounds error for i = 5 for string hello\n"
     ]
    }
   ],
   "source": [
    "# ANSWER\n",
    "\n",
    "# copy the code\n",
    "string = 'hello'\n",
    "\n",
    "# length\n",
    "slen = len(string)\n",
    "print('length of', string, 'is', slen)\n",
    "\n",
    "# select these indices\n",
    "i = slen\n",
    "# This will fail because string[5] does not exist\n",
    "# so we use an if statement\n",
    "# make the code robust to this issue, but using\n",
    "# an `if` statement to test if `index` is in the required range.\n",
    "if (i > 0) and (i < slen):\n",
    "    print('character', i, 'of', string, 'is', string[i])\n",
    "else:\n",
    "    # print a meaningful error message\n",
    "    print(\"out of bounds error for i =\", i, \"for string\", string)"
   ]
  },
  {
   "cell_type": "markdown",
   "metadata": {},
   "source": [
    "\n",
    "\n",
    "We can use the idea of a 'slice' to access particular elements within the string.\n",
    "\n",
    "For a slice, we can specify:\n",
    "\n",
    "* start index (0 is the first)\n",
    "* stop index (not including this)\n",
    "* skip (do every 'skip' character)\n",
    "\n",
    "When specifying this as array access, this is given as, e.g.:\n",
    "\n",
    "`array[start:stop:skip]`\n",
    "\n",
    "* The default start is 0\n",
    "* The default stop is the length of the array\n",
    "* The default skip is 1\n",
    "\n",
    "We can use negative numbers in specifying `start:stop:skip`: in that case, they are counted from the end of the string (`-1` is the last character).\n",
    "\n",
    "We can specify a slice with the default values by leaving the terms out:\n",
    "\n",
    "`array[::2]`\n",
    "\n",
    "would give values in the array `array` from 0 to the end, in steps of 2.\n",
    "\n",
    "This idea is fundamental to array processing in Python. We will see later that the same mechanism applies to all ordered groups.\n"
   ]
  },
  {
   "cell_type": "code",
   "execution_count": 139,
   "metadata": {},
   "outputs": [
    {
     "name": "stdout",
     "output_type": "stream",
     "text": [
      "Hello World 11\n",
      "HloWrd\n",
      "rld\n"
     ]
    }
   ],
   "source": [
    "s = \"Hello World\"\n",
    "print (s,len(s))\n",
    "\n",
    "start = 0\n",
    "stop  = 11\n",
    "skip  = 2\n",
    "print (s[start:stop:skip])\n",
    "\n",
    "# use -ve numbers to specify from the end\n",
    "# use None to take the default value\n",
    "start = -3\n",
    "stop  = None\n",
    "skip  = 1\n",
    "print (s[start:stop:skip])"
   ]
  },
  {
   "cell_type": "markdown",
   "metadata": {
    "solution2": "hidden",
    "solution2_first": true
   },
   "source": [
    "#### Exercise\n",
    "\n",
    "The example above allows us to access an individual character(s) of the array.\n",
    "\n",
    "* Insert a new cell below here\n",
    "* based on the example above, print the string starting from the default start value, up to the default stop value, in steps of `2`. This should be `HloWrd`.\n",
    "* write code to print out the 4$^{th}$ letter (character) of the string `s`. This should be `l`.\n"
   ]
  },
  {
   "cell_type": "code",
   "execution_count": 141,
   "metadata": {
    "solution2": "hidden"
   },
   "outputs": [
    {
     "name": "stdout",
     "output_type": "stream",
     "text": [
      "Hello World 11\n",
      "HloWrd\n"
     ]
    }
   ],
   "source": [
    "# ANSWER\n",
    "\n",
    "s = \"Hello World\"\n",
    "print (s,len(s))\n",
    "\n",
    "# based on the example above, print the string starting \n",
    "# from the default start value, up to the default stop value, in steps of `2`.\n",
    "\n",
    "# default start -> None\n",
    "start = None\n",
    "# default stop -> None\n",
    "stop  = None\n",
    "skip  = 2\n",
    "print (s[start:stop:skip])"
   ]
  },
  {
   "cell_type": "code",
   "execution_count": 143,
   "metadata": {
    "solution2": "hidden"
   },
   "outputs": [
    {
     "name": "stdout",
     "output_type": "stream",
     "text": [
      "l\n"
     ]
    }
   ],
   "source": [
    "# ANSWER\n",
    "\n",
    "s = \"Hello World\"\n",
    "# write code to print out the 4 𝑡ℎ  letter (character) of the string s.\n",
    "# index 3 is the 4th character !!!\n",
    "print(s[3])"
   ]
  },
  {
   "cell_type": "code",
   "execution_count": 178,
   "metadata": {
    "solution2": "hidden"
   },
   "outputs": [
    {
     "name": "stdout",
     "output_type": "stream",
     "text": [
      "what have the Romans ever done for us?\n",
      "what have the Romans ever done for us?\n"
     ]
    }
   ],
   "source": [
    "# ANSWER\n",
    "\n",
    "# create a template string of the form:\n",
    "template = \"what have the {people} ever done for us?\"\n",
    "\n",
    "# assign the word Romans to the variable people\n",
    "people = 'Romans'\n",
    "\n",
    "# use the str.format() method to insert this into the string, and print it out.\n",
    "print(template.format(people=people))\n",
    "\n",
    "# repeat thisl using an f-string directly.\n",
    "people = 'Romans'\n",
    "string = f\"what have the {people} ever done for us?\"\n",
    "print(string)\n"
   ]
  },
  {
   "cell_type": "markdown",
   "metadata": {},
   "source": [
    "## Summary\n",
    "\n",
    "In this section, we have introduced some more detail on string, especially string methods. There are many more methods you can use, but we have tried to cover the main ones here, but there are many [resources](https://www.w3schools.com/python/python_strings.asp#:~:text=Strings%20are%20Arrays,access%20elements%20of%20the%20string.) you can use to follow up."
   ]
  }
 ],
 "metadata": {
  "kernelspec": {
   "display_name": "Python 3",
   "language": "python",
   "name": "python3"
  },
  "language_info": {
   "codemirror_mode": {
    "name": "ipython",
    "version": 3
   },
   "file_extension": ".py",
   "mimetype": "text/x-python",
   "name": "python",
   "nbconvert_exporter": "python",
   "pygments_lexer": "ipython3",
   "version": "3.7.6"
  },
  "latex_envs": {
   "LaTeX_envs_menu_present": true,
   "autocomplete": true,
   "bibliofile": "biblio.bib",
   "cite_by": "apalike",
   "current_citInitial": 1,
   "eqLabelWithNumbers": true,
   "eqNumInitial": 1,
   "hotkeys": {
    "equation": "Ctrl-E",
    "itemize": "Ctrl-I"
   },
   "labels_anchors": false,
   "latex_user_defs": false,
   "report_style_numbering": false,
   "user_envs_cfg": false
  },
  "nbTranslate": {
   "displayLangs": [
    "*"
   ],
   "hotkey": "alt-t",
   "langInMainMenu": true,
   "sourceLang": "en",
   "targetLang": "fr",
   "useGoogleTranslate": true
  },
  "toc": {
   "base_numbering": 1,
   "nav_menu": {},
   "number_sections": false,
   "sideBar": true,
   "skip_h1_title": false,
   "title_cell": "Table of Contents",
   "title_sidebar": "Contents",
   "toc_cell": true,
   "toc_position": {
    "height": "calc(100% - 180px)",
    "left": "10px",
    "top": "150px",
    "width": "207px"
   },
   "toc_section_display": true,
   "toc_window_display": false
  },
  "varInspector": {
   "cols": {
    "lenName": 16,
    "lenType": 16,
    "lenVar": 40
   },
   "kernels_config": {
    "python": {
     "delete_cmd_postfix": "",
     "delete_cmd_prefix": "del ",
     "library": "var_list.py",
     "varRefreshCmd": "print(var_dic_list())"
    },
    "r": {
     "delete_cmd_postfix": ") ",
     "delete_cmd_prefix": "rm(",
     "library": "var_list.r",
     "varRefreshCmd": "cat(var_dic_list()) "
    }
   },
   "types_to_exclude": [
    "module",
    "function",
    "builtin_function_or_method",
    "instance",
    "_Feature"
   ],
   "window_display": false
  }
 },
 "nbformat": 4,
 "nbformat_minor": 1
}
