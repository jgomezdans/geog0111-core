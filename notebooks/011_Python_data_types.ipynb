{
 "cells": [
  {
   "cell_type": "markdown",
   "metadata": {},
   "source": [
    "# 011 Introduction to Python data types"
   ]
  },
  {
   "cell_type": "markdown",
   "metadata": {},
   "source": [
    "## Introduction\n",
    "\n",
    "\n",
    "### Purpose\n",
    "\n",
    "In this section we will learn some of the fundamental data types in Python (`int`, `float`, `str`, `bool`). \n",
    "\n",
    "\n",
    "### Prerequisites\n",
    "\n",
    "You will need some understanding of the following:\n",
    "\n",
    "* [001 Using Notebooks](001_Notebook_use.ipynb)\n",
    "* [005 Getting help](005_Help.ipynb)\n",
    "* [010 Variables, comments and print()](010_Python_Introduction.ipynb)\n",
    "\n",
    "Remember that you can 'run' the code in a code block using the 'run' widget (above) or hitting the keys ('typing') <shift> and <return> at the same time. \n",
    "\n",
    "### Timing\n",
    "\n",
    "The session should take around XX hours."
   ]
  },
  {
   "cell_type": "markdown",
   "metadata": {},
   "source": [
    "## Data types\n",
    "\n",
    "### Data types: `str`\n",
    "\n",
    "Recall how we can print out a message by first storing the text in a variable:"
   ]
  },
  {
   "cell_type": "code",
   "execution_count": 1,
   "metadata": {},
   "outputs": [
    {
     "name": "stdout",
     "output_type": "stream",
     "text": [
      "hello world\n"
     ]
    }
   ],
   "source": [
    "# set a variable called message to contain the string hello world\n",
    "message = 'hello world'\n",
    "\n",
    "# print the value of the variable message\n",
    "print(message)"
   ]
  },
  {
   "cell_type": "markdown",
   "metadata": {},
   "source": [
    "\n",
    "Above, we set the variable to be a string `str` type, because we wanted to use it to represent a string.\n",
    "\n",
    "In a string, each character is represented by an [ASCII](http://www.asciitable.com) codes.\n",
    "\n",
    "So the [string](https://en.wikibooks.org/wiki/Python_Programming/Text) `one` is built up of `o` + `n` + `e`, represented by the ASCII codes `111`, `110` and `101` respectively.\n"
   ]
  },
  {
   "cell_type": "markdown",
   "metadata": {
    "solution2": "hidden",
    "solution2_first": true
   },
   "source": [
    "#### Exercise\n",
    "\n",
    "* If the ASCII code for `e` is `101` and the code for `n` is `110`, what is the code for `a`?"
   ]
  },
  {
   "cell_type": "markdown",
   "metadata": {
    "solution2": "hidden"
   },
   "source": [
    "#### Answer\n",
    "\n",
    "We could find this by examining ASCII code [tables](http://www.asciitable.com) and see that `a` (lower case a) has the code 97.\n",
    "\n",
    "Alternatively, we could search for help on this topic, and find that the python function `ord()` converts from string to ASCII code: "
   ]
  },
  {
   "cell_type": "code",
   "execution_count": 9,
   "metadata": {
    "solution2": "hidden"
   },
   "outputs": [
    {
     "name": "stdout",
     "output_type": "stream",
     "text": [
      "the ASCII code for 'a' is 97\n"
     ]
    }
   ],
   "source": [
    "print(\"the ASCII code for 'a' is\",ord('a'))"
   ]
  },
  {
   "cell_type": "markdown",
   "metadata": {
    "solution2": "hidden"
   },
   "source": [
    "Alternatively, we might notice that `n` is the 14th letter of the alphabet, and `e`the 5th, so the code seems to be `97 + N` where `N` is the order the letter appears in the alphabet. We can confirm this with the 15th letter `o` which we see from above has the code `111`. "
   ]
  },
  {
   "cell_type": "markdown",
   "metadata": {},
   "source": [
    "### `type()`\n",
    "\n",
    "In a computing language, the *sort of thing* the variable can be set to is called its **data type**.  In Python, we can access this with the function `type()`:\n",
    "\n"
   ]
  },
  {
   "cell_type": "code",
   "execution_count": 8,
   "metadata": {},
   "outputs": [
    {
     "name": "stdout",
     "output_type": "stream",
     "text": [
      "this has type <class 'str'>\n"
     ]
    }
   ],
   "source": [
    "# assign the value 'one' to the variable (key) my_store\n",
    "my_store = 'one'\n",
    "\n",
    "# Print the value of my_store\n",
    "print('this has type', type(my_store))"
   ]
  },
  {
   "cell_type": "markdown",
   "metadata": {
    "solution2": "shown",
    "solution2_first": true
   },
   "source": [
    "#### Exercise\n",
    "\n",
    "* insert a new cell below here\n",
    "* set a variable called message to contain the string `hello world`\n",
    "* print the value and data type of the variable message"
   ]
  },
  {
   "cell_type": "code",
   "execution_count": 9,
   "metadata": {
    "solution2": "shown"
   },
   "outputs": [
    {
     "name": "stdout",
     "output_type": "stream",
     "text": [
      "hello world <class 'str'>\n"
     ]
    }
   ],
   "source": [
    "# ANSWER\n",
    "\n",
    "# set a variable called message to contain the string hello world\n",
    "message = 'hello world'\n",
    "\n",
    "# print the value and data type of the variable message\n",
    "print(message,type(message))"
   ]
  },
  {
   "cell_type": "markdown",
   "metadata": {},
   "source": [
    "### Data types: `float`\n",
    "\n",
    "Another fundamental data type is `float`, used to store decimal numbers such as `120.23`.\n",
    "\n",
    "Not surprisingly, we can use floating point numbers (and other number representations) to do arithmetic. We can use `print()` similarly to above to print an integer value. \n",
    "\n",
    "Sometimes, such as for very large or very small floating point values, we use [scientific notation](https://en.wikibooks.org/wiki/A-level_Computing/AQA/Paper_2/Fundamentals_of_data_representation/Floating_point_numbers), e.g. to represent Plank's constant:\n",
    "\n",
    "$$h = 6.62607015 \\times 10^{−34} J \\dot s $$\n",
    "    \n",
    "we would not want to have to write out over zero values after the decimal point. Instead, we use the **mantissa** $6.62607015$ and **exponent** $-34$ directly:\n",
    "\n",
    "     h = 6.62607015e-34\n",
    "\n",
    "\n",
    "You will sometimes see float numbers represented in this way. It is of additional interest because it is related more closely to how floating point numbers are [stored on a computer](https://users.cs.fiu.edu/~downeyt/cop2400/float.htm#:~:text=Eight%20digits%20are%20used%20to,means%20negative%2C%200%20means%20positive.).\n",
    "\n",
    "As an example of floating point arithmetic, let us consider the energy associated with a photon of a given wavelength $\\lambda$ (nm) using the [Planck-Einstein equation](https://web.archive.org/web/20160712123152/http://pveducation.org/pvcdrom/2-properties-sunlight/energy-photon):\n",
    "\n",
    "$$ E = \\frac{hc}{\\lambda}$$\n",
    "\n",
    "with:\n",
    "\n",
    "* $h$ as above, $=6.62607015 \\times 10^{−34} J \\dot s$\n",
    "* $c$ the speed of light $= 2.99792458 \\times 10^8 m/s$\n",
    "* $E$ the photon energy (in $J$)\n",
    "\n",
    "Given light with a wavelength of 1024 nanometers ($nm$), calculate the energy in $J$.\n",
    "\n",
    "First, since\n",
    "\n",
    "$$1\\ nm = 1 \\times 10^{−9} m$$\n",
    "\n",
    "we calculate the wavelength in $m$:\n",
    "\n",
    "    l_m = l_nm * 1e-9\n",
    "\n",
    "Then, implement the Planck-Einstein equation:\n",
    "\n",
    "    E = h * c / l_m\n"
   ]
  },
  {
   "cell_type": "code",
   "execution_count": 10,
   "metadata": {},
   "outputs": [
    {
     "name": "stdout",
     "output_type": "stream",
     "text": [
      "Photon of wavelength 1024.0 nm\n",
      "has an energy of 1.9398885323720004e-19 J\n"
     ]
    }
   ],
   "source": [
    "# values of c and h\n",
    "# in scientific notation\n",
    "c = 2.99792458e8       # m/s\n",
    "h = 6.62607015e-34     # J s\n",
    "\n",
    "# wavelength in nm\n",
    "l_nm = 1024.0          # nm\n",
    "\n",
    "# wavelength in m\n",
    "l_m = l_nm * 1e-9      # m\n",
    "\n",
    "# Planck-Einstein in J\n",
    "E_J = h * c / l_m      # J\n",
    "\n",
    "print('Photon of wavelength', l_nm, 'nm')\n",
    "print('has an energy of', E_J, 'J')"
   ]
  },
  {
   "cell_type": "markdown",
   "metadata": {},
   "source": [
    " We can compare the value of energy we get in $J$ with that using a [web calculator](http://www.calctool.org/CALC/other/converters/e_of_photon) and confirm the value of `1.93989e-19` for Near Infrared light (`1024` nm)."
   ]
  },
  {
   "cell_type": "markdown",
   "metadata": {
    "solution2": "hidden",
    "solution2_first": true
   },
   "source": [
    "#### Exercise\n",
    "\n",
    "Since the energy level expressed in $J$ is quite small, we might more conveniently express it in units of eV. Given that:\n",
    "\n",
    "$$\n",
    "    1\\ Electron\\ volt\\ (eV) = 1.602176565 \\times 10^{-19} J\n",
    "$$\n",
    "\n",
    "* Insert a new cell below here\n",
    "* calculate the energy associated with a blue photon at 450 nm, in eV\n",
    "* confirm your answer using a [web calculator](http://www.calctool.org/CALC/other/converters/e_of_photon)"
   ]
  },
  {
   "cell_type": "code",
   "execution_count": 11,
   "metadata": {
    "solution2": "hidden"
   },
   "outputs": [
    {
     "name": "stdout",
     "output_type": "stream",
     "text": [
      "1.9864458571489286e-25\n",
      "Photon of wavelength 450.0 nm\n",
      "has an energy of 2.7552045282834468 eV\n"
     ]
    }
   ],
   "source": [
    "# Answer\n",
    "# Copy mostly from above:\n",
    "\n",
    "# values of c and h\n",
    "c = 2.99792458e8\n",
    "h = 6.62607015e-34\n",
    "\n",
    "print(h * c)\n",
    "# wavelength in nm: BLUE\n",
    "# calculate the energy associated with a blue photon at 450 nm, in eV\n",
    "l_nm = 450.0\n",
    "\n",
    "# wavelength in m\n",
    "l_m = l_nm * 1e-9\n",
    "\n",
    "# Planck-Einstein in J\n",
    "E_J = h * c / l_m\n",
    "\n",
    "# conversion formula given above\n",
    "E_eV = E_J / 1.602176565e-19\n",
    "print('Photon of wavelength', l_nm, 'nm')\n",
    "print('has an energy of', E_eV, 'eV')\n",
    "# which compares with 2.75520 eV given in the web calculator"
   ]
  },
  {
   "cell_type": "code",
   "execution_count": 92,
   "metadata": {
    "solution2": "hidden"
   },
   "outputs": [
    {
     "name": "stdout",
     "output_type": "stream",
     "text": [
      "value is hello world\n",
      "type is <class 'str'>\n"
     ]
    }
   ],
   "source": [
    "# ANSWER\n",
    "\n",
    "message = 'hello world'\n",
    "print('value is', message)\n",
    "print('type is', type(message))"
   ]
  },
  {
   "cell_type": "markdown",
   "metadata": {},
   "source": [
    "### Data types: `int`\n",
    "\n",
    "Another fundamental data type is `int`, used to store integer (whole) numbers (in base 10).\n",
    "\n",
    "Not surprisingly, we can also use integers to do arithmetic, though we have to pay a little attention to whether we want the result of division to remain an integer or become a floating point number. We can use `print()` similarly to above to print an integer value. "
   ]
  },
  {
   "cell_type": "code",
   "execution_count": 102,
   "metadata": {},
   "outputs": [
    {
     "name": "stdout",
     "output_type": "stream",
     "text": [
      "y = 206\n"
     ]
    }
   ],
   "source": [
    "# set the variable x,m and c to integer\n",
    "# values\n",
    "x = 10\n",
    "m = 20\n",
    "c = 6\n",
    "\n",
    "# calculate y from the formula\n",
    "y = m * x + c\n",
    "\n",
    "# print the value of y\n",
    "print('y =', y)"
   ]
  },
  {
   "cell_type": "markdown",
   "metadata": {
    "solution2": "hidden",
    "solution2_first": true
   },
   "source": [
    "We have seen examples of addition `+` and multiplication `*`. We use `x ** y` to represent `x` to the power of `y`. For division, we use `//` to enforce integer division ([floor division](https://python-reference.readthedocs.io/en/latest/docs/operators/floor_division.html)).\n",
    "\n",
    "#### Exercise\n",
    "\n",
    "* insert a new cell below here\n",
    "* using integer arithmetic, print the result of:\n",
    "  - 2 to the power of 8\n",
    "  - 1024 divided by 2\n",
    "* set a variable called `x` to the result of 7 (floor) divided by 3.\n",
    "  - print the value of `x`, and confirm its data type is `int`\n",
    "  \n"
   ]
  },
  {
   "cell_type": "code",
   "execution_count": 110,
   "metadata": {
    "solution2": "hidden"
   },
   "outputs": [
    {
     "name": "stdout",
     "output_type": "stream",
     "text": [
      "256\n",
      "512\n",
      "Integer: 7 divided by 3 is 2 <class 'int'>\n",
      "7 divided by 3 is 2.3333333333333335 <class 'float'>\n"
     ]
    }
   ],
   "source": [
    "# ANSWER:\n",
    "# using integer arithmetic, print the result of:\n",
    "\n",
    "# 2 to the power of 8\n",
    "print(2**8)\n",
    "\n",
    "# 1024 divided by 2 integer division (floor)\n",
    "print(1024 // 2)\n",
    "\n",
    "# set a variable called x to the result of 7 divided by 3\n",
    "x = 7 // 3\n",
    "print('Integer: 7 divided by 3 is', x, type(x))\n",
    "\n",
    "# We contrast this with the use of /\n",
    "# which results in a variable of type float\n",
    "x = 7 / 3\n",
    "print('7 divided by 3 is', x, type(x))"
   ]
  },
  {
   "cell_type": "markdown",
   "metadata": {},
   "source": [
    "### Data types: `bool`\n",
    "\n",
    "The last fundamental data type we will deal with here is the Boolean or 'logical' type `bool`. Here, a variable can represent the value of `True` (equivalent to `1`) or `False` (equivalent to `0`).\n",
    "\n",
    "There are a great many uses for this in using logic in coding."
   ]
  },
  {
   "cell_type": "code",
   "execution_count": 5,
   "metadata": {},
   "outputs": [],
   "source": [
    "# examples of bool type\n",
    "is_set = True\n",
    "is_ready = False"
   ]
  },
  {
   "cell_type": "markdown",
   "metadata": {
    "solution2": "hidden",
    "solution2_first": true
   },
   "source": [
    "#### Exercise\n",
    "\n",
    "* Insert a new cell below here\n",
    "* Set a variable called `is_class_today` to the value `True`\n",
    "* print the variable name, its value, and its data type"
   ]
  },
  {
   "cell_type": "markdown",
   "metadata": {},
   "source": [
    "### Logical Operators: `not`, `and`, `or`\n",
    "\n",
    "Logical operators combine boolean variables. Recall from above:"
   ]
  },
  {
   "cell_type": "code",
   "execution_count": 1,
   "metadata": {},
   "outputs": [
    {
     "name": "stdout",
     "output_type": "stream",
     "text": [
      "<class 'bool'> <class 'bool'>\n"
     ]
    }
   ],
   "source": [
    "print (type(True),type(False));"
   ]
  },
  {
   "cell_type": "markdown",
   "metadata": {},
   "source": [
    "The three main logical operators you will use are:\n",
    "\n",
    "    not, and, or\n",
    "   \n",
    "The impact of the `not` operator should be straightforward to understand, though we can first write it in a 'truth table':   \n",
    "\n",
    "\n",
    "\n",
    "| A  | not A  | \n",
    "|:---:|:---:|\n",
    "|  T | F | \n",
    "|   F |  T | "
   ]
  },
  {
   "cell_type": "code",
   "execution_count": 2,
   "metadata": {},
   "outputs": [
    {
     "name": "stdout",
     "output_type": "stream",
     "text": [
      "not True is False\n",
      "not False is True\n"
     ]
    }
   ],
   "source": [
    "print('not True is',not True)\n",
    "print('not False is',not False)"
   ]
  },
  {
   "cell_type": "markdown",
   "metadata": {
    "solution2": "hidden",
    "solution2_first": true
   },
   "source": [
    "#### Exercise\n",
    "   \n",
    "* Insert a new cell below here\n",
    "* write a statement to set a variable `x` to `True` and print the value of `x` and `not x` \n",
    "* what does `not not x` give? Make sure you understand why \n"
   ]
  },
  {
   "cell_type": "code",
   "execution_count": 14,
   "metadata": {
    "solution2": "hidden"
   },
   "outputs": [
    {
     "name": "stdout",
     "output_type": "stream",
     "text": [
      "x is True\n",
      "not x is False\n",
      "not not x is True\n"
     ]
    }
   ],
   "source": [
    "# ANSWER\n",
    "\n",
    "# write a statement to set a variable x to True \n",
    "x = True\n",
    "\n",
    "# and print the value of x and not x\n",
    "print('x is',x)\n",
    "print('not x is',not x)\n",
    "\n",
    "# what does not not x give? \n",
    "print('not not x is',not not x)\n",
    "# A double negative cancels out, in effect"
   ]
  },
  {
   "cell_type": "markdown",
   "metadata": {},
   "source": [
    "The operators `and` and `or` should also be quite straightforward to understand: they have the same meaning as in normal english. Note that `or` is 'inclusive' (so, read `A or B` as 'either A or B or both of them')."
   ]
  },
  {
   "cell_type": "code",
   "execution_count": 7,
   "metadata": {},
   "outputs": [
    {
     "name": "stdout",
     "output_type": "stream",
     "text": [
      "True and True is True\n",
      "True and False is False\n",
      "False and True is False\n",
      "False and False is False\n"
     ]
    }
   ],
   "source": [
    "print('True and True is', True and True)\n",
    "print('True and False is', True and False)\n",
    "print('False and True is', False and True)\n",
    "print('False and False is', False and False)"
   ]
  },
  {
   "cell_type": "markdown",
   "metadata": {},
   "source": [
    "So, `A and B` is `True`, if and only if both `A` is `True` and `B` is `True`. Otherwise, it is `False`\n",
    "\n",
    "We can represent this in a 'truth table':\n",
    "\n",
    "\n",
    "| A  | B  | A and B  | \n",
    "|:---:|:---:|:---:|\n",
    "|  T |  T |  T | \n",
    "|  T |  F |  F | \n",
    "|  F |  T |  F | \n",
    "|  F |  F |  F | \n",
    "\n"
   ]
  },
  {
   "cell_type": "markdown",
   "metadata": {},
   "source": [
    "#### Exercise\n",
    "\n",
    "* draw a truth table *on some paper*, label the columns `A`, `B` and `A and B` and fill in the columns `A` and `B` as above\n",
    "* without looking at the example above, write the value of `A and B` in the third column.\n",
    "* draw another truth table *on some paper*, label the columns `A`, `B` and `A and B` and fill in the columns `A` and `B` as above\n",
    "* write the value of `A or B` in the third column.\n",
    "\n",
    "If you are unsure, test the response using code, below:"
   ]
  },
  {
   "cell_type": "code",
   "execution_count": 8,
   "metadata": {
    "solution2": "hidden",
    "solution2_first": true
   },
   "outputs": [
    {
     "name": "stdout",
     "output_type": "stream",
     "text": [
      "True\n"
     ]
    }
   ],
   "source": [
    "# do the testing here e.g.\n",
    "print (True or False)"
   ]
  },
  {
   "cell_type": "markdown",
   "metadata": {
    "solution2": "hidden"
   },
   "source": [
    "| blank  | A and B  | A or B  | \n",
    "|:---:|:---:|:---:|\n",
    "|  ![blank](images/tt1.png) |  ![blank](images/ttand.png) |  ![blank](images/ttor.png) | \n",
    "\n"
   ]
  },
  {
   "cell_type": "markdown",
   "metadata": {},
   "source": [
    "We can apply these principles to more complex compound statements. In building a truth table, we must state all of the possible permutations for the variables.\n",
    "\n",
    "For two variables (`A` and `B`) we had:\n",
    "\n",
    "\n",
    "| A  | B  | \n",
    "|:---:|:---:\n",
    "|  T |  T | \n",
    "|  T |  F |  \n",
    "|  F |  T |  \n",
    "|  F |  F | `\n",
    "\n",
    "\n",
    "\n",
    "Notice the pattern of alternating `T` and `F` in the columns.\n",
    "\n",
    "For three variables, the equivalent table is:\n",
    "\n",
    "| A  | B  | C | \n",
    "|:---:|:---:|:---:|\n",
    "| T|  T |  T |  \n",
    "| T|  T |  F |  \n",
    "| T|  F |  T | \n",
    "| T |  F |  F |  \n",
    "| F|  T |  T |  \n",
    "| F|  T |  F |   \n",
    "| F|  F |  T |  \n",
    "| F|  F |  F |  \n",
    "\n",
    "\n",
    "Again, notice the alternating patterns in the columns so that we cover all permutations.\n",
    "\n"
   ]
  },
  {
   "cell_type": "markdown",
   "metadata": {},
   "source": [
    "\n",
    "#### Exercise\n",
    "\n",
    "* Copy the 3 variable truth table from above onto paper \n",
    "* fill out a column with `A and B`\n",
    "* fill out a column with `((A and B) or C) `\n",
    "* Try some other compound statements\n",
    "\n",
    "If you are unsure, or to check your answers, test the response using code, below."
   ]
  },
  {
   "cell_type": "code",
   "execution_count": null,
   "metadata": {
    "solution2": "hidden",
    "solution2_first": true
   },
   "outputs": [],
   "source": [
    "# do the testing here e.g.\n",
    "print ((True and False) or True)"
   ]
  },
  {
   "cell_type": "markdown",
   "metadata": {
    "solution2": "hidden"
   },
   "source": [
    "| blank  | A and B  | ((A and B) or C) | \n",
    "|:---:|:---:|:---:|\n",
    "|  ![blank](images/tt2.png) |  ![blank](images/tt2and.png) |  ![blank](images/tt2or.png) | \n",
    "\n"
   ]
  },
  {
   "cell_type": "markdown",
   "metadata": {
    "solution2": "hidden"
   },
   "source": [
    "\n",
    "|   blank|  and | or  | \n",
    "|:---:|:---:|:---:|\n",
    "|  ![blank](images/tt1.png) |  ![blank](images/ttand.png)|  ![blank](images/ttor.png) | "
   ]
  },
  {
   "cell_type": "code",
   "execution_count": 5,
   "metadata": {
    "scrolled": true,
    "solution2": "hidden"
   },
   "outputs": [
    {
     "name": "stdout",
     "output_type": "stream",
     "text": [
      "x is True\n",
      "not x is False\n",
      "not not x is True\n"
     ]
    }
   ],
   "source": [
    "# ANSWER\n",
    "\n",
    "# write a statement to set a variable x to True a\n",
    "x = True\n",
    "\n",
    "# print the value of x \n",
    "print('x is',x)\n",
    "\n",
    "# print the value of not x \n",
    "print('not x is',not x)\n",
    "\n",
    "# what does not not x give?\n",
    "print('not not x is',not not x)\n",
    "# not not cancels out (double negative)"
   ]
  },
  {
   "cell_type": "code",
   "execution_count": 7,
   "metadata": {
    "solution2": "hidden"
   },
   "outputs": [
    {
     "name": "stdout",
     "output_type": "stream",
     "text": [
      "is_class_today True <class 'bool'>\n"
     ]
    }
   ],
   "source": [
    "# ANSWER\n",
    "\n",
    "# Set a variable called `is_class_today` to the value `True`\n",
    "is_class_today = True\n",
    "\n",
    "# print the variable name, its value, and its data type\n",
    "print('is_class_today',is_class_today,type(is_class_today))"
   ]
  },
  {
   "cell_type": "markdown",
   "metadata": {},
   "source": [
    "### Conversion between data types\n",
    "\n",
    "You can explicitly convert between data types **where this makes sense** using:\n",
    "\n",
    "    int()\n",
    "    float()\n",
    "    str()\n",
    "    bool()"
   ]
  },
  {
   "cell_type": "code",
   "execution_count": 24,
   "metadata": {},
   "outputs": [
    {
     "name": "stdout",
     "output_type": "stream",
     "text": [
      "starting with 1\n",
      "int_number 1 <class 'int'>\n",
      "float_number 1.0 <class 'float'>\n",
      "str_number 1 <class 'str'>\n",
      "bool_number True <class 'bool'>\n"
     ]
    }
   ],
   "source": [
    "start_number = 1\n",
    "print(\"starting with\",start_number)\n",
    "\n",
    "int_number = int(start_number) \n",
    "print('int_number',int_number,type(int_number))\n",
    "\n",
    "# now convert to float\n",
    "float_number = float(start_number)\n",
    "print('float_number',float_number,type(float_number))\n",
    "\n",
    "# now convert to str\n",
    "str_number = str(start_number)\n",
    "print('str_number',str_number,type(str_number))\n",
    "\n",
    "# now convert to bool\n",
    "bool_number = bool(start_number)\n",
    "print('bool_number',bool_number,type(bool_number))\n"
   ]
  },
  {
   "cell_type": "markdown",
   "metadata": {
    "solution2": "hidden",
    "solution2_first": true
   },
   "source": [
    "#### Exercise\n",
    "\n",
    "* insert a new cell below here\n",
    "* copy the code in the cell above, and set `start_number` to `0`\n",
    "    * What are the boolean representations of `0` and `1`?\n",
    "* What would happen if you set `start_number` to the string `'zero'`, and why?"
   ]
  },
  {
   "cell_type": "code",
   "execution_count": 23,
   "metadata": {
    "solution2": "hidden"
   },
   "outputs": [
    {
     "name": "stdout",
     "output_type": "stream",
     "text": [
      "starting with 0\n",
      "int_number 0 <class 'int'>\n",
      "float_number 0.0 <class 'float'>\n",
      "str_number 0 <class 'str'>\n",
      "bool_number False <class 'bool'>\n"
     ]
    }
   ],
   "source": [
    "# ANSWER\n",
    "\n",
    "# copy the code in the cell above, and set start_number to 0\n",
    "start_number = 0\n",
    "\n",
    "print(\"starting with\", start_number)\n",
    "int_number = int(start_number)\n",
    "print('int_number', int_number, type(int_number))\n",
    "# now convert to float\n",
    "float_number = float(int_number)\n",
    "print('float_number', float_number, type(float_number))\n",
    "# now convert to str\n",
    "str_number = str(int_number)\n",
    "print('str_number', str_number, type(str_number))\n",
    "# now convert to bool\n",
    "bool_number = bool(int_number)\n",
    "print('bool_number', bool_number, type(bool_number))\n",
    "\n",
    "# What is the boolean representation of 0?\n",
    "# 1 -> True\n",
    "# 0 -> False\n",
    "\n",
    "# If we set start_number to 'zero' then int('zero') will fail\n",
    "# because it cannot convert a word representation of this sort to an integer\n",
    "# only a character representation such as '0' or '1'"
   ]
  },
  {
   "cell_type": "markdown",
   "metadata": {},
   "source": [
    "## Summary\n",
    "\n",
    "In this section, we have been introduced to the core data types in Python:\n",
    "\n",
    "    int\n",
    "    float\n",
    "    str\n",
    "    bool\n",
    "\n",
    "and how to convert between then, where this is feasible:\n",
    "\n",
    "    int()\n",
    "    float()\n",
    "    str()\n",
    "    bool()\n",
    "    \n",
    "We have also learned the `type()` function to return the data type.\n",
    "\n",
    "We should also know how to do logical combinations of boolean variables, and visualise this with truth tables."
   ]
  }
 ],
 "metadata": {
  "kernelspec": {
   "display_name": "Python 3",
   "language": "python",
   "name": "python3"
  },
  "language_info": {
   "codemirror_mode": {
    "name": "ipython",
    "version": 3
   },
   "file_extension": ".py",
   "mimetype": "text/x-python",
   "name": "python",
   "nbconvert_exporter": "python",
   "pygments_lexer": "ipython3",
   "version": "3.7.6"
  },
  "latex_envs": {
   "LaTeX_envs_menu_present": true,
   "autocomplete": true,
   "bibliofile": "biblio.bib",
   "cite_by": "apalike",
   "current_citInitial": 1,
   "eqLabelWithNumbers": true,
   "eqNumInitial": 1,
   "hotkeys": {
    "equation": "Ctrl-E",
    "itemize": "Ctrl-I"
   },
   "labels_anchors": false,
   "latex_user_defs": false,
   "report_style_numbering": false,
   "user_envs_cfg": false
  },
  "toc": {
   "base_numbering": 1,
   "nav_menu": {},
   "number_sections": false,
   "sideBar": false,
   "skip_h1_title": false,
   "title_cell": "Table of Contents",
   "title_sidebar": "Contents",
   "toc_cell": false,
   "toc_position": {
    "height": "calc(100% - 180px)",
    "left": "10px",
    "top": "150px",
    "width": "207px"
   },
   "toc_section_display": false,
   "toc_window_display": false
  },
  "varInspector": {
   "cols": {
    "lenName": 16,
    "lenType": 16,
    "lenVar": 40
   },
   "kernels_config": {
    "python": {
     "delete_cmd_postfix": "",
     "delete_cmd_prefix": "del ",
     "library": "var_list.py",
     "varRefreshCmd": "print(var_dic_list())"
    },
    "r": {
     "delete_cmd_postfix": ") ",
     "delete_cmd_prefix": "rm(",
     "library": "var_list.r",
     "varRefreshCmd": "cat(var_dic_list()) "
    }
   },
   "types_to_exclude": [
    "module",
    "function",
    "builtin_function_or_method",
    "instance",
    "_Feature"
   ],
   "window_display": false
  }
 },
 "nbformat": 4,
 "nbformat_minor": 1
}
