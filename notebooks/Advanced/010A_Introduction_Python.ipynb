{
 "cells": [
  {
   "cell_type": "markdown",
   "metadata": {},
   "source": [
    "# Advanced topics\n",
    "\n",
    "\n",
    "\n",
    "## Character strings\n",
    "\n",
    "In the illustrations above, we set the variable to be a string `str` type, because we wanted to use it to represent a string.\n",
    "\n",
    "In a string, each character is represented by an [ASCII](http://www.asciitable.com) codes.\n",
    "\n",
    "So the [string](https://en.wikibooks.org/wiki/Python_Programming/Text) `one` is built up of `o` + `n` + `e`, represented by the ASCII codes `111`, `110` and `101` respectively.\n"
   ]
  },
  {
   "cell_type": "code",
   "execution_count": 1,
   "metadata": {},
   "outputs": [
    {
     "name": "stdout",
     "output_type": "stream",
     "text": [
      "111 110 101\n"
     ]
    }
   ],
   "source": [
    "# use the function ord() to get the ASCII code\n",
    "# so, for the characters on `one`\n",
    "print(ord('o'),ord('n'),ord('e'))"
   ]
  },
  {
   "cell_type": "markdown",
   "metadata": {},
   "source": [
    "The 'extended' set of ASCII codes use numbers from 0 to 255 (i.e. 8 bits, one byte, since `2^8 = 256`). \n",
    "\n",
    "We can refer to a wider set of characters using 32- or 64-bit [Unicode](https://home.unicode.org) values. Applications of this include multiple language character sets e.g. 中 or [emojii](https://unicode.org/emoji/charts/full-emoji-list.html) such as 😀. When the numbers get that big, we normally use [hexadecimal codes](https://www.geeksforgeeks.org/python-hex-function/) (base 16, rather than base 10):"
   ]
  },
  {
   "cell_type": "code",
   "execution_count": 2,
   "metadata": {},
   "outputs": [
    {
     "name": "stdout",
     "output_type": "stream",
     "text": [
      "0x4e2d 0x1f600\n",
      "中 😀\n"
     ]
    }
   ],
   "source": [
    "# for the characters 中 and 😀\n",
    "# print the hex code\n",
    "print(hex(ord('中')),hex(ord('😀')))\n",
    "\n",
    "# for the hex codes 0x4e2d and 0x1f600\n",
    "# print \n",
    "print(chr(0x4e2d),chr(0x1f600))"
   ]
  },
  {
   "cell_type": "code",
   "execution_count": null,
   "metadata": {},
   "outputs": [],
   "source": []
  }
 ],
 "metadata": {
  "kernelspec": {
   "display_name": "Python 3",
   "language": "python",
   "name": "python3"
  },
  "language_info": {
   "codemirror_mode": {
    "name": "ipython",
    "version": 3
   },
   "file_extension": ".py",
   "mimetype": "text/x-python",
   "name": "python",
   "nbconvert_exporter": "python",
   "pygments_lexer": "ipython3",
   "version": "3.7.6"
  },
  "varInspector": {
   "cols": {
    "lenName": 16,
    "lenType": 16,
    "lenVar": 40
   },
   "kernels_config": {
    "python": {
     "delete_cmd_postfix": "",
     "delete_cmd_prefix": "del ",
     "library": "var_list.py",
     "varRefreshCmd": "print(var_dic_list())"
    },
    "r": {
     "delete_cmd_postfix": ") ",
     "delete_cmd_prefix": "rm(",
     "library": "var_list.r",
     "varRefreshCmd": "cat(var_dic_list()) "
    }
   },
   "types_to_exclude": [
    "module",
    "function",
    "builtin_function_or_method",
    "instance",
    "_Feature"
   ],
   "window_display": false
  }
 },
 "nbformat": 4,
 "nbformat_minor": 4
}
