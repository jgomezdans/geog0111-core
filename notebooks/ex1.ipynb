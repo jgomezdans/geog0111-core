{
 "cells": [
  {
   "cell_type": "code",
   "execution_count": 17,
   "metadata": {},
   "outputs": [],
   "source": [
    "ice_cream_rating=10\n",
    "sleeping_rating=5"
   ]
  },
  {
   "cell_type": "code",
   "execution_count": 18,
   "metadata": {},
   "outputs": [
    {
     "name": "stdin",
     "output_type": "stream",
     "text": [
      "Enter your first name Philip\n",
      "Enter your last name Lewis\n"
     ]
    },
    {
     "name": "stdout",
     "output_type": "stream",
     "text": [
      "Philip Lewis\n"
     ]
    }
   ],
   "source": [
    "first_name=input(\"Enter your first name\")\n",
    "last_name=input(\"Enter your last name\")\n",
    "my_name=' '.join(i.capitalize() for i in [first_name,last_name])\n",
    "print(my_name)"
   ]
  },
  {
   "cell_type": "code",
   "execution_count": 19,
   "metadata": {},
   "outputs": [
    {
     "name": "stdout",
     "output_type": "stream",
     "text": [
      "7.5\n"
     ]
    }
   ],
   "source": [
    "ratings= [ice_cream_rating,sleeping_rating]\n",
    "\n",
    "happiness_rating = sum(ratings)/len(ratings)\n",
    "print(happiness_rating)"
   ]
  },
  {
   "cell_type": "code",
   "execution_count": 20,
   "metadata": {},
   "outputs": [
    {
     "name": "stdout",
     "output_type": "stream",
     "text": [
      "[<class 'int'>, <class 'str'>, <class 'float'>]\n"
     ]
    }
   ],
   "source": [
    "vars = [ice_cream_rating,first_name,happiness_rating]\n",
    "print([type(v) for v in vars])"
   ]
  },
  {
   "cell_type": "markdown",
   "metadata": {},
   "source": [
    "Yes, as expected"
   ]
  },
  {
   "cell_type": "code",
   "execution_count": 27,
   "metadata": {},
   "outputs": [
    {
     "name": "stdout",
     "output_type": "stream",
     "text": [
      "My name is Philip and I give eating ice cream a score of 10 out of 10!\n",
      "My name is Philip Lewis and my sleeping enjoyment rating is 5 / 10!\n",
      "Based on the factors above, my happiness rating is 7.5 out of 10, or 0.75 %!\n"
     ]
    }
   ],
   "source": [
    "print(f'My name is {first_name.capitalize()} and ' +\\\n",
    "      f'I give eating ice cream a score of {ice_cream_rating} out of 10!')\n",
    "print(f'My name is {first_name.capitalize()} {last_name.capitalize()} and ' +\\\n",
    "      f'my sleeping enjoyment rating is {sleeping_rating} / 10!')\n",
    "print(f'Based on the factors above, my happiness rating is {happiness_rating} ' +\\\n",
    "      f'out of 10, or {happiness_rating/10} %!')\n"
   ]
  }
 ],
 "metadata": {
  "kernelspec": {
   "display_name": "Python 3",
   "language": "python",
   "name": "python3"
  },
  "language_info": {
   "codemirror_mode": {
    "name": "ipython",
    "version": 3
   },
   "file_extension": ".py",
   "mimetype": "text/x-python",
   "name": "python",
   "nbconvert_exporter": "python",
   "pygments_lexer": "ipython3",
   "version": "3.7.6"
  }
 },
 "nbformat": 4,
 "nbformat_minor": 4
}
