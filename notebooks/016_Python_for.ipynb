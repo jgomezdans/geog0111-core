{
 "cells": [
  {
   "cell_type": "markdown",
   "metadata": {},
   "source": [
    "<img alt='UCL' src=\"images/ucl_logo.png\" align='center'>\n",
    "\n",
    "\n",
    "[<img src=\"images/noun_post_2109127.svg\" width=\"50\" align='right'>](017_Python_files.ipynb)\n",
    "[<img src=\"images/noun_pre_2109128.svg\" width=\"50\" align='right'>](015_Python_control.ipynb)\n",
    "\n"
   ]
  },
  {
   "cell_type": "markdown",
   "metadata": {},
   "source": [
    "# 016 More control in Python: `for`"
   ]
  },
  {
   "cell_type": "markdown",
   "metadata": {},
   "source": [
    "## Introduction\n",
    "\n",
    "### Purpose\n",
    "\n",
    "In this section we will learn how to add more control to our code by using loops. We will mainly be using the `for` statements for this.\n",
    "\n",
    "### Prerequisites\n",
    "\n",
    "You will need some understanding of the following:\n",
    "\n",
    "\n",
    "* [001 Using Notebooks](001_Notebook_use.ipynb)\n",
    "* [005 Getting help](005_Help.ipynb)\n",
    "* [010 Variables, comments and print()](010_Python_Introduction.ipynb)\n",
    "* [011 Data types](011_Python_data_types.ipynb) \n",
    "* [012 String formatting](012_Python_strings.ipynb)\n",
    "* [013_Python_string_methods](013_Python_string_methods.ipynb)\n",
    "* [014_Python_groups](014_Python_groups.ipynb)\n",
    "* [015_Python_control](015_Python_control.ipynb)\n",
    "\n",
    "### Timing\n",
    "\n",
    "The session should take around 30 minutes."
   ]
  },
  {
   "cell_type": "markdown",
   "metadata": {},
   "source": [
    "## Looping with `for`"
   ]
  },
  {
   "cell_type": "markdown",
   "metadata": {},
   "source": [
    "### `for ... in ...`\n",
    "\n",
    "Very commonly, we need to iterate or 'loop' over some set of items.\n",
    "\n",
    "The basic stucture for doing this (in Python, and many other languages) is `for item in group:`, where `item` is the name of some variable and `group` is a set of values. \n",
    "\n",
    "The loop is run so that `item` takes on the first value in `group`, then the second, etc. Notice in the code below that the expressions inside the loop use indentation to indicate the loop. As when we discussed indentation in `if` statements, be careful to align your statements or the code will fail."
   ]
  },
  {
   "cell_type": "code",
   "execution_count": 32,
   "metadata": {},
   "outputs": [
    {
     "name": "stdout",
     "output_type": "stream",
     "text": [
      "4\n",
      "3\n",
      "2\n",
      "1\n",
      "blast off!\n"
     ]
    }
   ],
   "source": [
    "'''\n",
    "for loop\n",
    "'''\n",
    "\n",
    "group = [4,3,2,1]\n",
    "\n",
    "for item in group:\n",
    "    # print item in loop\n",
    "    print(item)\n",
    "    \n",
    "print ('blast off!')"
   ]
  },
  {
   "cell_type": "markdown",
   "metadata": {},
   "source": [
    "The `group` in this example is the list of integer numbers `[4,3,2,1]`. A `list` is a group of comma-separated items contained in square brackets `[]` as we have seen before.\n",
    "\n",
    "In Python, the statement(s) we run whilst looping (here `print(item)`) are *indented*. \n",
    "\n",
    "The indent can be one or more spaces, the choice is up to the programmer. You can use `<tab>` but should probably avoid it. Whatever you use, it **must be consistent**. We suggest you use 4 spaces."
   ]
  },
  {
   "cell_type": "markdown",
   "metadata": {},
   "source": [
    "It is important to note the difference between the code above and:"
   ]
  },
  {
   "cell_type": "code",
   "execution_count": 33,
   "metadata": {},
   "outputs": [
    {
     "name": "stdout",
     "output_type": "stream",
     "text": [
      "4\n",
      "blast off!\n",
      "3\n",
      "blast off!\n",
      "2\n",
      "blast off!\n",
      "1\n",
      "blast off!\n"
     ]
    }
   ],
   "source": [
    "'''\n",
    "for loop\n",
    "'''\n",
    "\n",
    "group = [4,3,2,1]\n",
    "\n",
    "for item in group:\n",
    "    # print item in loop\n",
    "    print(item)\n",
    "    print ('blast off!')"
   ]
  },
  {
   "cell_type": "markdown",
   "metadata": {},
   "source": [
    "In the second case, we have the `print ('blast off!')` statement inside the loop as it is indented. So it is executed each time we are in the loop. In the first case, it is outside the loop and is only run once the loop is completed."
   ]
  },
  {
   "cell_type": "markdown",
   "metadata": {
    "solution2": "hidden",
    "solution2_first": true
   },
   "source": [
    "#### Exercise\n",
    "\n",
    "* generate a list of strings called `group` with the names of (some of) the items in your pocket or bag (or make some up!)\n",
    "* set up a `for` loop with `group`, setting the variable `item`\n",
    "* within the loop, print each value of item in turn"
   ]
  },
  {
   "cell_type": "code",
   "execution_count": 16,
   "metadata": {
    "solution2": "hidden"
   },
   "outputs": [
    {
     "name": "stdout",
     "output_type": "stream",
     "text": [
      "keys\n",
      "hat\n",
      "💄\n",
      "🌴\n"
     ]
    }
   ],
   "source": [
    "'''\n",
    "for loop\n",
    "'''\n",
    "\n",
    "group = ['keys','hat','💄','🌴']\n",
    "\n",
    "for item in group:\n",
    "    # print item in loop\n",
    "    print(item)"
   ]
  },
  {
   "cell_type": "markdown",
   "metadata": {},
   "source": [
    "Quite often, we want to keep track of the 'index' of the item in the loop (the 'item number').\n",
    "\n",
    "One way to do this would be to use a variable (called `count` here).\n",
    "\n",
    "Before we enter the loop, we initialise the `count` to zero. Then, within the loop, we would need to increment `count` b y one each time (i.e. add `1` to `count`):"
   ]
  },
  {
   "cell_type": "code",
   "execution_count": 25,
   "metadata": {},
   "outputs": [
    {
     "name": "stdout",
     "output_type": "stream",
     "text": [
      "count: 0 : cat\n",
      "count: 1 : fish\n",
      "count: 2 : 🦄\n",
      "count: 3 : house\n"
     ]
    }
   ],
   "source": [
    "'''\n",
    "for loop with enumeration\n",
    "'''\n",
    "\n",
    "group = ['cat', 'fish', '🦄', 'house']\n",
    "\n",
    "# Before we enter the loop, we initialise the `count` to zero.\n",
    "count = 0\n",
    "\n",
    "for item in group:\n",
    "    # print the count value and item\n",
    "    print(f'count: {count} : {item}')\n",
    "    # increment count by 1\n",
    "    count += 1\n"
   ]
  },
  {
   "cell_type": "markdown",
   "metadata": {
    "solution2": "hidden",
    "solution2_first": true
   },
   "source": [
    "#### Exercise\n",
    "\n",
    "* copy the code above\n",
    "* check to see if the value of `count` at the end of the loop is the same as the length of the list. \n",
    "* Why should this be so?"
   ]
  },
  {
   "cell_type": "code",
   "execution_count": 27,
   "metadata": {
    "solution2": "hidden"
   },
   "outputs": [
    {
     "name": "stdout",
     "output_type": "stream",
     "text": [
      "count: 0 : cat\n",
      "count: 1 : fish\n",
      "count: 2 : 🦄\n",
      "count: 3 : house\n",
      "----------\n",
      "count is now 4\n",
      "the length of the list group is 4\n",
      "\n",
      "    Why should this be so?\n",
      "\n",
      "    There are 4 items in the list group.\n",
      "    We initially set count to be 0, then add 1 to it\n",
      "    after we print each item in the for loop. So, after the \n",
      "    first item, it is 1, then 2 etc.\n",
      "\n",
      "    At the end of all 4 items, count will then be 4, the length\n",
      "    of the list we looped over\n",
      "\n"
     ]
    }
   ],
   "source": [
    "'''\n",
    "ANSWER\n",
    "\n",
    "for loop with enumeration\n",
    "'''\n",
    "\n",
    "# copy the code above\n",
    "group = ['cat', 'fish', '🦄', 'house']\n",
    "\n",
    "# Before we enter the loop, we initialise the `count` to zero.\n",
    "count = 0\n",
    "\n",
    "for item in group:\n",
    "    # print the count value and item\n",
    "    print(f'count: {count} : {item}')\n",
    "    # increment count by 1\n",
    "    count += 1\n",
    "\n",
    "# check to see if the value of `count` at the end \n",
    "# of the loop is the same as the length of the list. \n",
    "print('-'*10)\n",
    "print(f'count is now {count}')\n",
    "print(f'the length of the list group is {len(group)}')\n",
    "\n",
    "msg = '''\n",
    "    Why should this be so?\n",
    "\n",
    "    There are 4 items in the list group.\n",
    "    We initially set count to be 0, then add 1 to it\n",
    "    after we print each item in the for loop. So, after the \n",
    "    first item, it is 1, then 2 etc.\n",
    "\n",
    "    At the end of all 4 items, count will then be 4, the length\n",
    "    of the list we looped over\n",
    "'''\n",
    "print(msg)"
   ]
  },
  {
   "cell_type": "markdown",
   "metadata": {},
   "source": [
    "Since counting in loops is a common task, we can use the built in method [`enumerate()`](https://docs.python.org/3/library/functions.html#enumerate) to achieve the same thing as above. "
   ]
  },
  {
   "cell_type": "markdown",
   "metadata": {},
   "source": [
    "The syntax to achieve the same as the code above is then:"
   ]
  },
  {
   "cell_type": "code",
   "execution_count": 30,
   "metadata": {},
   "outputs": [
    {
     "name": "stdout",
     "output_type": "stream",
     "text": [
      "item 0 is hat\n",
      "item 1 is dog\n",
      "item 2 is keys\n"
     ]
    }
   ],
   "source": [
    "'''\n",
    "for loop with enumerate()\n",
    "'''\n",
    "group = ['hat','dog','keys']\n",
    "\n",
    "for count,item in enumerate(group):\n",
    "    # print counter in loop\n",
    "    print(f'item {count} is {item}')\n"
   ]
  },
  {
   "cell_type": "markdown",
   "metadata": {},
   "source": [
    "#### Exercise\n",
    "\n",
    "* copy the code above\n",
    "* as in the previous exercise, check to see if the value of `count` at the end of the loop is the same as the length of the list. \n",
    "* Explain why you get the result you do"
   ]
  },
  {
   "cell_type": "code",
   "execution_count": 36,
   "metadata": {},
   "outputs": [
    {
     "name": "stdout",
     "output_type": "stream",
     "text": [
      "item 0 is hat\n",
      "item 1 is dog\n",
      "item 2 is keys\n",
      "----------\n",
      "count is now 2\n",
      "the length of the list group is 3\n",
      "\n",
      "    Explain why you get the result you do\n",
      "\n",
      "    There are 4 items in the list group. \n",
      "    when we use enumerate to loop over the list\n",
      "    count is incremented by 1 each time we enter the loop.\n",
      "    In the previous example, in was incremented after\n",
      "    the print statement.\n",
      "    \n",
      "    So now, at the end of all 4 items, count will only be 3, the length\n",
      "    of the list we looped over, minus 1\n",
      "\n"
     ]
    }
   ],
   "source": [
    "'''\n",
    "ANSWER\n",
    "\n",
    "for loop with enumerate()\n",
    "'''\n",
    "\n",
    "# copy the code above\n",
    "group = ['hat','dog','keys']\n",
    "\n",
    "\n",
    "for count,item in enumerate(group):\n",
    "    # print counter in loop\n",
    "    print(f'item {count} is {item}')\n",
    "    \n",
    "# as in the previous exercise, \n",
    "# check to see if the value of `count` \n",
    "# at the end of the loop is the same as the length of the list. \n",
    "print('-'*10)\n",
    "print(f'count is now {count}')\n",
    "print(f'the length of the list group is {len(group)}')\n",
    "\n",
    "msg = '''\n",
    "    Explain why you get the result you do\n",
    "\n",
    "    There are 4 items in the list group. \n",
    "    when we use enumerate to loop over the list\n",
    "    count is incremented by 1 each time we enter the loop.\n",
    "    In the previous example, in was incremented after\n",
    "    the print statement.\n",
    "    \n",
    "    So now, at the end of all 4 items, count will only be 3, the length\n",
    "    of the list we looped over, minus 1\n",
    "'''\n",
    "print(msg)"
   ]
  },
  {
   "cell_type": "code",
   "execution_count": 3,
   "metadata": {
    "solution2": "hidden"
   },
   "outputs": [
    {
     "name": "stdout",
     "output_type": "stream",
     "text": [
      "keys\n",
      "phone\n",
      "one ring to rule them all\n"
     ]
    }
   ],
   "source": [
    "# ANSWER\n",
    "\n",
    "# generate a list of strings called `group` with \n",
    "# the names of (some of) the items in your pocket or bag (or make some up!)\n",
    "group = ['keys','phone','one ring to rule them all']\n",
    "\n",
    "# set up a `for` loop with `group`, setting the variable `item`\n",
    "for item in group:\n",
    "    # within the loop, print each value of item in turn\n",
    "    print(item)"
   ]
  },
  {
   "cell_type": "markdown",
   "metadata": {},
   "source": [
    "## Summary\n",
    "\n",
    "We should know know how to use `if` statements in Python to control program flow. We can make choices as to what happens in the code, depending on whether or not one or more tests are passed. This is a common feature of all coding languages, but it is important here that you get used to doing this in Python.\n",
    "\n",
    "We know that conditions inside `if` statements use indentation in Python, and we know to be careful in our use of this."
   ]
  },
  {
   "cell_type": "markdown",
   "metadata": {},
   "source": [
    "\n",
    "[<img src=\"images/noun_post_2109127.svg\" width=\"50\" align='right'>](017_Python_files.ipynb)\n",
    "[<img src=\"images/noun_pre_2109128.svg\" width=\"50\" align='right'>](015_Python_control.ipynb)\n"
   ]
  }
 ],
 "metadata": {
  "kernelspec": {
   "display_name": "Python 3",
   "language": "python",
   "name": "python3"
  },
  "language_info": {
   "codemirror_mode": {
    "name": "ipython",
    "version": 3
   },
   "file_extension": ".py",
   "mimetype": "text/x-python",
   "name": "python",
   "nbconvert_exporter": "python",
   "pygments_lexer": "ipython3",
   "version": "3.7.8"
  },
  "latex_envs": {
   "LaTeX_envs_menu_present": true,
   "autocomplete": true,
   "bibliofile": "biblio.bib",
   "cite_by": "apalike",
   "current_citInitial": 1,
   "eqLabelWithNumbers": true,
   "eqNumInitial": 1,
   "hotkeys": {
    "equation": "Ctrl-E",
    "itemize": "Ctrl-I"
   },
   "labels_anchors": false,
   "latex_user_defs": false,
   "report_style_numbering": false,
   "user_envs_cfg": false
  },
  "toc": {
   "base_numbering": 1,
   "nav_menu": {},
   "number_sections": false,
   "sideBar": false,
   "skip_h1_title": false,
   "title_cell": "Table of Contents",
   "title_sidebar": "Contents",
   "toc_cell": false,
   "toc_position": {
    "height": "calc(100% - 180px)",
    "left": "10px",
    "top": "150px",
    "width": "207px"
   },
   "toc_section_display": false,
   "toc_window_display": false
  },
  "varInspector": {
   "cols": {
    "lenName": 16,
    "lenType": 16,
    "lenVar": 40
   },
   "kernels_config": {
    "python": {
     "delete_cmd_postfix": "",
     "delete_cmd_prefix": "del ",
     "library": "var_list.py",
     "varRefreshCmd": "print(var_dic_list())"
    },
    "r": {
     "delete_cmd_postfix": ") ",
     "delete_cmd_prefix": "rm(",
     "library": "var_list.r",
     "varRefreshCmd": "cat(var_dic_list()) "
    }
   },
   "types_to_exclude": [
    "module",
    "function",
    "builtin_function_or_method",
    "instance",
    "_Feature"
   ],
   "window_display": false
  }
 },
 "nbformat": 4,
 "nbformat_minor": 1
}
