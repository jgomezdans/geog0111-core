{
 "cells": [
  {
   "cell_type": "markdown",
   "metadata": {},
   "source": [
    "<img alt='UCL' src=\"images/ucl_logo.png\" align='center'>\n",
    "\n",
    "[<img src=\"images/noun_post_2109127.svg\" width=\"50\" align='right'>](010_Python_Introduction.ipynb)\n",
    "[<img src=\"images/noun_pre_2109128.svg\" width=\"50\" align='right'>](001_Notebook_use.ipynb)\n",
    "\n"
   ]
  },
  {
   "cell_type": "markdown",
   "metadata": {
    "hide_input": true
   },
   "source": [
    "\n",
    "# 005 Help\n",
    "\n",
    "## Introduction\n",
    "\n",
    "### Purpose\n",
    "\n",
    "In this notebook, we will learn how to get useful information on python commands using `help()` and associated methods.\n",
    "\n",
    "We will use `help(list)` as an example to learn about the class `list` from the help material. You are not expected to learn everything about `lists` here, as we will return to it later in the course. But you should find this useful in learning how to learn.\n",
    "\n",
    "We will learn how completion can help us understand our options.\n",
    "\n",
    "We will learn how to access some on-line resources.\n",
    "\n",
    "### Prerequisites\n",
    "\n",
    "You will need some understanding of the following:\n",
    "\n",
    "* [001 Using Notebooks](001_Notebook_use.ipynb)\n",
    "\n",
    "\n",
    "We will use some technical vocabulary that you should familiarize yourself: \n",
    "\n",
    "* [functions and method](https://www.tutorialspoint.com/difference-between-method-and-function-in-python)\n",
    "* [list](https://www.w3schools.com/python/python_lists.asp)\n",
    "* [class](https://docs.python.org/3/tutorial/classes.html)\n",
    "* [in place](https://www.geeksforgeeks.org/inplace-vs-standard-operators-python/)\n",
    "* [Completion](#Completion)\n",
    "\n",
    "### Timing\n",
    "\n",
    "The session should take around 30 minutes."
   ]
  },
  {
   "cell_type": "markdown",
   "metadata": {
    "hide_input": false
   },
   "source": [
    "## Help Method\n",
    "\n",
    "### help()\n",
    "\n",
    "You can get help on an object using the `help()` method. This will return a full manual page of the class documentation. You need to gain some experience in reading these and understanding some of the terminology. \n"
   ]
  },
  {
   "cell_type": "code",
   "execution_count": 32,
   "metadata": {
    "ExecuteTime": {
     "end_time": "2020-07-22T08:29:08.607974Z",
     "start_time": "2020-07-22T08:29:08.561456Z"
    },
    "scrolled": false
   },
   "outputs": [
    {
     "name": "stdout",
     "output_type": "stream",
     "text": [
      "Help on class list in module builtins:\n",
      "\n",
      "class list(object)\n",
      " |  list(iterable=(), /)\n",
      " |  \n",
      " |  Built-in mutable sequence.\n",
      " |  \n",
      " |  If no argument is given, the constructor creates a new empty list.\n",
      " |  The argument must be an iterable if specified.\n",
      " |  \n",
      " |  Methods defined here:\n",
      " |  \n",
      " |  __add__(self, value, /)\n",
      " |      Return self+value.\n",
      " |  \n",
      " |  __contains__(self, key, /)\n",
      " |      Return key in self.\n",
      " |  \n",
      " |  __delitem__(self, key, /)\n",
      " |      Delete self[key].\n",
      " |  \n",
      " |  __eq__(self, value, /)\n",
      " |      Return self==value.\n",
      " |  \n",
      " |  __ge__(self, value, /)\n",
      " |      Return self>=value.\n",
      " |  \n",
      " |  __getattribute__(self, name, /)\n",
      " |      Return getattr(self, name).\n",
      " |  \n",
      " |  __getitem__(...)\n",
      " |      x.__getitem__(y) <==> x[y]\n",
      " |  \n",
      " |  __gt__(self, value, /)\n",
      " |      Return self>value.\n",
      " |  \n",
      " |  __iadd__(self, value, /)\n",
      " |      Implement self+=value.\n",
      " |  \n",
      " |  __imul__(self, value, /)\n",
      " |      Implement self*=value.\n",
      " |  \n",
      " |  __init__(self, /, *args, **kwargs)\n",
      " |      Initialize self.  See help(type(self)) for accurate signature.\n",
      " |  \n",
      " |  __iter__(self, /)\n",
      " |      Implement iter(self).\n",
      " |  \n",
      " |  __le__(self, value, /)\n",
      " |      Return self<=value.\n",
      " |  \n",
      " |  __len__(self, /)\n",
      " |      Return len(self).\n",
      " |  \n",
      " |  __lt__(self, value, /)\n",
      " |      Return self<value.\n",
      " |  \n",
      " |  __mul__(self, value, /)\n",
      " |      Return self*value.\n",
      " |  \n",
      " |  __ne__(self, value, /)\n",
      " |      Return self!=value.\n",
      " |  \n",
      " |  __repr__(self, /)\n",
      " |      Return repr(self).\n",
      " |  \n",
      " |  __reversed__(self, /)\n",
      " |      Return a reverse iterator over the list.\n",
      " |  \n",
      " |  __rmul__(self, value, /)\n",
      " |      Return value*self.\n",
      " |  \n",
      " |  __setitem__(self, key, value, /)\n",
      " |      Set self[key] to value.\n",
      " |  \n",
      " |  __sizeof__(self, /)\n",
      " |      Return the size of the list in memory, in bytes.\n",
      " |  \n",
      " |  append(self, object, /)\n",
      " |      Append object to the end of the list.\n",
      " |  \n",
      " |  clear(self, /)\n",
      " |      Remove all items from list.\n",
      " |  \n",
      " |  copy(self, /)\n",
      " |      Return a shallow copy of the list.\n",
      " |  \n",
      " |  count(self, value, /)\n",
      " |      Return number of occurrences of value.\n",
      " |  \n",
      " |  extend(self, iterable, /)\n",
      " |      Extend list by appending elements from the iterable.\n",
      " |  \n",
      " |  index(self, value, start=0, stop=9223372036854775807, /)\n",
      " |      Return first index of value.\n",
      " |      \n",
      " |      Raises ValueError if the value is not present.\n",
      " |  \n",
      " |  insert(self, index, object, /)\n",
      " |      Insert object before index.\n",
      " |  \n",
      " |  pop(self, index=-1, /)\n",
      " |      Remove and return item at index (default last).\n",
      " |      \n",
      " |      Raises IndexError if list is empty or index is out of range.\n",
      " |  \n",
      " |  remove(self, value, /)\n",
      " |      Remove first occurrence of value.\n",
      " |      \n",
      " |      Raises ValueError if the value is not present.\n",
      " |  \n",
      " |  reverse(self, /)\n",
      " |      Reverse *IN PLACE*.\n",
      " |  \n",
      " |  sort(self, /, *, key=None, reverse=False)\n",
      " |      Stable sort *IN PLACE*.\n",
      " |  \n",
      " |  ----------------------------------------------------------------------\n",
      " |  Static methods defined here:\n",
      " |  \n",
      " |  __new__(*args, **kwargs) from builtins.type\n",
      " |      Create and return a new object.  See help(type) for accurate signature.\n",
      " |  \n",
      " |  ----------------------------------------------------------------------\n",
      " |  Data and other attributes defined here:\n",
      " |  \n",
      " |  __hash__ = None\n",
      "\n"
     ]
    }
   ],
   "source": [
    "#the method help()\n",
    "help(list)"
   ]
  },
  {
   "cell_type": "markdown",
   "metadata": {},
   "source": [
    "You need to have some practice in interpreting this sort of information.\n",
    "\n",
    "\n",
    "\n",
    "Scanning the above, we notice for example:\n",
    "\n",
    "* `list` is a class in python\n",
    "* It has some methods such as `append(self, object, /)` and `clear(self, /)`.\n",
    "\n",
    "We now create two object instances of a list class:"
   ]
  },
  {
   "cell_type": "code",
   "execution_count": 3,
   "metadata": {
    "ExecuteTime": {
     "end_time": "2020-07-22T08:30:16.805628Z",
     "start_time": "2020-07-22T08:30:16.803121Z"
    },
    "scrolled": true
   },
   "outputs": [],
   "source": [
    "alist = [1, 2, 3]\n",
    "blist = [4, 5, 6]"
   ]
  },
  {
   "cell_type": "markdown",
   "metadata": {},
   "source": [
    "and apply methods we see in the Help documentation, here: `append()` and `clear()`:"
   ]
  },
  {
   "cell_type": "code",
   "execution_count": 4,
   "metadata": {
    "ExecuteTime": {
     "end_time": "2020-07-22T08:31:07.394759Z",
     "start_time": "2020-07-22T08:31:07.378464Z"
    },
    "scrolled": true
   },
   "outputs": [
    {
     "name": "stdout",
     "output_type": "stream",
     "text": [
      "alist = [1, 2, 3, [4, 5, 6]]\n",
      "blist = []\n"
     ]
    }
   ],
   "source": [
    "alist = [1, 2, 3]\n",
    "blist = [4, 5, 6]\n",
    "\n",
    "# append blist as the last element of alist\n",
    "alist.append(blist)\n",
    "print('alist =', alist)\n",
    "\n",
    "# clear blist\n",
    "blist.clear()\n",
    "print('blist =', blist)"
   ]
  },
  {
   "cell_type": "markdown",
   "metadata": {
    "solution2": "hidden",
    "solution2_first": true
   },
   "source": [
    "#### Exercise\n",
    "\n",
    "* Read through the help information for list, above.\n",
    "* In a new cell, create lists called `alist` and `blist`:\n",
    "\n",
    "        alist = ['one','three','two']\n",
    "        blist = ['four','six','zero']\n",
    "    \n",
    "* print the lists with:\n",
    "\n",
    "        print(alist,blist)\n",
    "    \n",
    "Using the help information, work out how to:\n",
    "\n",
    "* extend `alist` with `blist` to create `['one','three','two','four','six','zero']`. N.B. This is not quite the same as our use of `append()` above.\n",
    "* sort the new `alist` into **alpabetical order** and print the results\n"
   ]
  },
  {
   "cell_type": "code",
   "execution_count": 5,
   "metadata": {
    "ExecuteTime": {
     "end_time": "2020-07-22T08:38:21.816823Z",
     "start_time": "2020-07-22T08:38:21.812055Z"
    },
    "scrolled": true,
    "solution2": "hidden"
   },
   "outputs": [
    {
     "name": "stdout",
     "output_type": "stream",
     "text": [
      "['one', 'three', 'two'] ['four', 'six', 'zero']\n",
      "extended ['one', 'three', 'two', 'four', 'six', 'zero']\n",
      "sorted ['four', 'one', 'six', 'three', 'two', 'zero']\n"
     ]
    }
   ],
   "source": [
    "# ANSWERS\n",
    "alist = ['one', 'three', 'two']\n",
    "blist = ['four', 'six', 'zero']\n",
    "print(alist, blist)\n",
    "\n",
    "# join: \n",
    "# extend(self, iterable, /)\n",
    "#      Extend list by appending elements from the iterable.\n",
    "alist.extend(blist)\n",
    "print(\"extended\", alist)\n",
    "\n",
    "# sort\n",
    "# sort(self, /, *, key=None, reverse=False)\n",
    "#       Stable sort *IN PLACE*.\n",
    "alist.sort()\n",
    "print(\"sorted\", alist)"
   ]
  },
  {
   "cell_type": "markdown",
   "metadata": {},
   "source": [
    "You may have noticed that the help (e.g. for `sort()` mentions [`IN PLACE`](https://www.geeksforgeeks.org/inplace-vs-standard-operators-python/) in the help information. This means that the operation affects the contents of the variable. So, a standard operation would be e.g.:\n",
    "\n",
    "    alist = ['one','three','two']\n",
    "    blist = ['four','six','zero']\n",
    "\n",
    "    c = alist + blist\n",
    "    print(alist)\n",
    "    \n",
    "where the results from the `+` operation is returned, and the contents of `c` set to this."
   ]
  },
  {
   "cell_type": "markdown",
   "metadata": {},
   "source": [
    "We can demonstrate the effect of `IN PLACE` with the following examples:"
   ]
  },
  {
   "cell_type": "code",
   "execution_count": 6,
   "metadata": {
    "ExecuteTime": {
     "end_time": "2020-07-22T08:40:02.356229Z",
     "start_time": "2020-07-22T08:40:02.352245Z"
    },
    "scrolled": true
   },
   "outputs": [
    {
     "name": "stdout",
     "output_type": "stream",
     "text": [
      "['one', 'three', 'two']\n"
     ]
    }
   ],
   "source": [
    "# NOT In-Place (standard)\n",
    "alist = ['one','three','two']\n",
    "blist = ['four','six','zero']\n",
    "\n",
    "c = alist + blist\n",
    "print(alist)"
   ]
  },
  {
   "cell_type": "markdown",
   "metadata": {},
   "source": [
    "\n",
    "For in-place, e.g. list `alist.extend()`, the contents of `alist` are altered:"
   ]
  },
  {
   "cell_type": "code",
   "execution_count": 7,
   "metadata": {
    "ExecuteTime": {
     "end_time": "2020-07-22T08:40:04.257495Z",
     "start_time": "2020-07-22T08:40:04.253031Z"
    },
    "scrolled": true
   },
   "outputs": [
    {
     "name": "stdout",
     "output_type": "stream",
     "text": [
      "['one', 'three', 'two', 'four', 'six', 'zero']\n"
     ]
    }
   ],
   "source": [
    "# In-Place:\n",
    "alist = ['one','three','two']\n",
    "blist = ['four','six','zero']\n",
    "\n",
    "alist.extend(blist)\n",
    "print(alist)"
   ]
  },
  {
   "cell_type": "markdown",
   "metadata": {
    "solution2": "hidden",
    "solution2_first": true
   },
   "source": [
    "#### Exercise\n",
    "\n",
    "* Create a code cell below\n",
    "* Create a variable called `alist` containing a list of numbers (not in order)\n",
    "* Print `alist`\n",
    "* Create a variable called `blist` containing another list of numbers (not in order)\n",
    "* Print `blist`\n",
    "* Join the list `blist` to `alist` using the in-place method `.extend()`\n",
    "* Print `alist`\n",
    "* reverse `alist` \n",
    "* print alist\n",
    "* What advantages and disadvantages do you think in-place methods have?"
   ]
  },
  {
   "cell_type": "code",
   "execution_count": 8,
   "metadata": {
    "solution2": "hidden"
   },
   "outputs": [
    {
     "name": "stdout",
     "output_type": "stream",
     "text": [
      "[4, 5, -3, 7]\n",
      "[1, 2, 0, -1]\n",
      "[4, 5, -3, 7, 1, 2, 0, -1]\n",
      "[-1, 0, 2, 1, 7, -3, 5, 4]\n",
      "\n",
      "What advantages and disadvantages do you think in-place methods have?\n",
      "\n",
      " Using the in-place methods like sort and reverse are memory efficient:\n",
      " we do not need to create new variables with the result of the sorting\n",
      " or reverseing etc. \n",
      " The downside is that you need to be careful when using them:\n",
      " Don't make the mistake of using the returned value as this\n",
      " will be 0 if the operation was successful.\n",
      " As an example, we might think that\n",
      "\n",
      "    alist.sort().reverse()\n",
      " \n",
      " would work, but it wont, because alist.sort() returns 0\n",
      " then the second operation we attempt is 0.reverse() which\n",
      " is meaningless and will fail. Rather, we ust do:\n",
      "    \n",
      "    alist.sort()\n",
      "    alist.reverse()\n",
      "\n",
      " as separate operations\n",
      " \n"
     ]
    }
   ],
   "source": [
    "# ANSWERS\n",
    "# Create a variable called `alist` containing a list of numbers (not in order)\n",
    "alist = [4,5,-3,7]\n",
    "# Print `alist`\n",
    "print(alist)\n",
    "\n",
    "# Create a variable called `blist` containing another list of numbers (not in order)\n",
    "blist = [1,2,0,-1]\n",
    "# Print `blist`\n",
    "print(blist)\n",
    "\n",
    "# Join the list `blist` to `alist` using the in-place method `.extend()`\n",
    "alist.extend(blist)\n",
    "# Print `alist`\n",
    "print(alist)\n",
    "\n",
    "# reverse `alist` \n",
    "alist.reverse()\n",
    "# print alist\n",
    "print(alist)\n",
    "\n",
    "info='''\n",
    "What advantages and disadvantages do you think in-place methods have?\n",
    "\n",
    " Using the in-place methods like sort and reverse are memory efficient:\n",
    " we do not need to create new variables with the result of the sorting\n",
    " or reverseing etc. \n",
    " The downside is that you need to be careful when using them:\n",
    " Don't make the mistake of using the returned value as this\n",
    " will be 0 if the operation was successful.\n",
    " As an example, we might think that\n",
    "\n",
    "    alist.sort().reverse()\n",
    " \n",
    " would work, but it wont, because alist.sort() returns 0\n",
    " then the second operation we attempt is 0.reverse() which\n",
    " is meaningless and will fail. Rather, we ust do:\n",
    "    \n",
    "    alist.sort()\n",
    "    alist.reverse()\n",
    "\n",
    " as separate operations\n",
    " '''\n",
    "print(info)"
   ]
  },
  {
   "cell_type": "markdown",
   "metadata": {},
   "source": [
    "## online help\n",
    "\n",
    "Not surprisingly, there is lots of help online. A key resource is [www.python.org](https://www.python.org/). Another useful one is [www.w3schools.com/python](https://www.w3schools.com/python):\n",
    "\n",
    "* [list](https://www.w3schools.com/python/python_ref_list.asp)\n",
    "* [list sort](https://www.w3schools.com/python/ref_list_sort.asp)\n",
    "* [list sort: try it yourself](https://www.w3schools.com/python/trypython.asp?filename=demo_ref_list_sort)\n",
    "\n",
    "A useful forum you can search for help on coding problems is [https://stackoverflow.com](https://stackoverflow.com), for example [https://stackoverflow.com/search?q=help+on+python+lists](https://stackoverflow.com/search?q=help+on+python+lists), but not all posts are equally useful: pay attention to comments from other users on any answer, as well as post votes. Do not look on `stackoverflow` until you have exhausted simpler help methods."
   ]
  },
  {
   "cell_type": "markdown",
   "metadata": {},
   "source": [
    "## help?\n",
    "\n",
    "You can get a shorter set of basic help by putting `?` after the object. \n",
    "\n",
    "In a notebook, this will show in a new window at the bottom of the book. You can get rid of this by clicking the `x`."
   ]
  },
  {
   "cell_type": "code",
   "execution_count": 9,
   "metadata": {
    "scrolled": true
   },
   "outputs": [],
   "source": [
    "list?"
   ]
  },
  {
   "cell_type": "markdown",
   "metadata": {},
   "source": [
    "## `dir()` and `locals()`"
   ]
  },
  {
   "cell_type": "markdown",
   "metadata": {},
   "source": [
    "### `dir`\n",
    "\n",
    "We can use the function `dir` to get a list of attributes for some class. "
   ]
  },
  {
   "cell_type": "code",
   "execution_count": 10,
   "metadata": {},
   "outputs": [
    {
     "name": "stdout",
     "output_type": "stream",
     "text": [
      "Help on built-in function dir in module builtins:\n",
      "\n",
      "dir(...)\n",
      "    dir([object]) -> list of strings\n",
      "    \n",
      "    If called without an argument, return the names in the current scope.\n",
      "    Else, return an alphabetized list of names comprising (some of) the attributes\n",
      "    of the given object, and of attributes reachable from it.\n",
      "    If the object supplies a method named __dir__, it will be used; otherwise\n",
      "    the default dir() logic is used and returns:\n",
      "      for a module object: the module's attributes.\n",
      "      for a class object:  its attributes, and recursively the attributes\n",
      "        of its bases.\n",
      "      for any other object: its attributes, its class's attributes, and\n",
      "        recursively the attributes of its class's base classes.\n",
      "\n"
     ]
    }
   ],
   "source": [
    "help(dir)"
   ]
  },
  {
   "cell_type": "markdown",
   "metadata": {},
   "source": [
    "If we use `dir()` with no arguments, we will see a list of the names of variables defined in this notebook:"
   ]
  },
  {
   "cell_type": "code",
   "execution_count": 23,
   "metadata": {
    "scrolled": false
   },
   "outputs": [
    {
     "name": "stdout",
     "output_type": "stream",
     "text": [
      "['In', 'NamespaceMagics', 'Out', '_', '_11', '_17', '_Jupyter', '__', '___', '__builtin__', '__builtins__', '__doc__', '__loader__', '__name__', '__package__', '__spec__', '_dh', '_getshapeof', '_getsizeof', '_i', '_i1', '_i10', '_i11', '_i12', '_i13', '_i14', '_i15', '_i16', '_i17', '_i18', '_i19', '_i2', '_i20', '_i21', '_i22', '_i23', '_i3', '_i4', '_i5', '_i6', '_i7', '_i8', '_i9', '_ih', '_ii', '_iii', '_nms', '_oh', 'alist', 'blist', 'c', 'exit', 'get_ipython', 'getsizeof', 'info', 'json', 'msg', 'my_var', 'np', 'quit', 'var_dic_list', 'yapf_reformat']\n"
     ]
    }
   ],
   "source": [
    "print(dir())"
   ]
  },
  {
   "cell_type": "markdown",
   "metadata": {},
   "source": [
    "You might notice that we see the variable names `alist` and `blist` in here, as we created them in an earlier cell."
   ]
  },
  {
   "cell_type": "markdown",
   "metadata": {},
   "source": [
    "### `locals()`\n",
    "\n",
    "The function `locals()` is similar to `dir()` used as above, but it contains the *values* that the variables are set to. So, we recall that there is a variable with the name `alist` from above.\n"
   ]
  },
  {
   "cell_type": "code",
   "execution_count": 27,
   "metadata": {},
   "outputs": [
    {
     "name": "stdout",
     "output_type": "stream",
     "text": [
      "Help on built-in function locals in module builtins:\n",
      "\n",
      "locals()\n",
      "    Return a dictionary containing the current scope's local variables.\n",
      "    \n",
      "    NOTE: Whether or not updates to this dictionary will affect name lookups in\n",
      "    the local scope and vice-versa is *implementation dependent* and not\n",
      "    covered by any backwards compatibility guarantees.\n",
      "\n"
     ]
    }
   ],
   "source": [
    "help(locals)"
   ]
  },
  {
   "cell_type": "markdown",
   "metadata": {},
   "source": [
    "We could of course just print this as above via:"
   ]
  },
  {
   "cell_type": "code",
   "execution_count": 28,
   "metadata": {},
   "outputs": [
    {
     "name": "stdout",
     "output_type": "stream",
     "text": [
      "[-1, 0, 2, 1, 7, -3, 5, 4]\n"
     ]
    }
   ],
   "source": [
    "print(alist)"
   ]
  },
  {
   "cell_type": "markdown",
   "metadata": {},
   "source": [
    "but sometimes, we want to access the variable through its name `alias`. In this case, we can type:"
   ]
  },
  {
   "cell_type": "code",
   "execution_count": 29,
   "metadata": {},
   "outputs": [
    {
     "name": "stdout",
     "output_type": "stream",
     "text": [
      "[-1, 0, 2, 1, 7, -3, 5, 4]\n"
     ]
    }
   ],
   "source": [
    "print(locals()['alist'])"
   ]
  },
  {
   "cell_type": "markdown",
   "metadata": {},
   "source": [
    "Use of `dir()` and `locals()` in this way can be very useful if you want to see what variables have been set to."
   ]
  },
  {
   "cell_type": "markdown",
   "metadata": {
    "solution2": "hidden",
    "solution2_first": true
   },
   "source": [
    "#### Exercise\n",
    "\n",
    "* Create a code cell below and assign the variable `my_var` the value of `10` (hint: `my_var = 10`)\n",
    "* Run `dir()` again and confirm that `my_var` now appears in the list\n"
   ]
  },
  {
   "cell_type": "code",
   "execution_count": 30,
   "metadata": {
    "scrolled": true,
    "solution2": "hidden"
   },
   "outputs": [
    {
     "name": "stdout",
     "output_type": "stream",
     "text": [
      "['In', 'NamespaceMagics', 'Out', '_', '_11', '_17', '_Jupyter', '__', '___', '__builtin__', '__builtins__', '__doc__', '__loader__', '__name__', '__package__', '__spec__', '_dh', '_getshapeof', '_getsizeof', '_i', '_i1', '_i10', '_i11', '_i12', '_i13', '_i14', '_i15', '_i16', '_i17', '_i18', '_i19', '_i2', '_i20', '_i21', '_i22', '_i23', '_i24', '_i25', '_i26', '_i27', '_i28', '_i29', '_i3', '_i30', '_i4', '_i5', '_i6', '_i7', '_i8', '_i9', '_ih', '_ii', '_iii', '_nms', '_oh', 'alist', 'blist', 'c', 'exit', 'get_ipython', 'getsizeof', 'info', 'json', 'msg', 'my_var', 'np', 'quit', 'var_dic_list', 'yapf_reformat']\n",
      "\n",
      "I can see my_var in the list printed out\n",
      "\n"
     ]
    }
   ],
   "source": [
    "# ANSWER\n",
    "# Create a code cell below and assign the variable my_var the value of 10 (hint: my_var = 10)\n",
    "my_var = 10\n",
    "\n",
    "# Run dir() again \n",
    "print(dir())\n",
    "\n",
    "# confirm that my_var now appears in the list\n",
    "msg = '''\n",
    "I can see my_var in the list printed out\n",
    "'''\n",
    "print(msg)"
   ]
  },
  {
   "cell_type": "markdown",
   "metadata": {
    "solution2": "hidden",
    "solution2_first": true
   },
   "source": [
    "#### Exercise\n",
    "\n",
    "* Print the value of `my_var` using `print(my_var)`\n",
    "* Print the value of `my_var` using `print(locals()['my_var'])`\n",
    "* confirm that they give the same answer"
   ]
  },
  {
   "cell_type": "code",
   "execution_count": 24,
   "metadata": {
    "solution2": "hidden"
   },
   "outputs": [
    {
     "name": "stdout",
     "output_type": "stream",
     "text": [
      "10\n",
      "10\n",
      "\n",
      "I can see they are the same\n",
      "\n"
     ]
    }
   ],
   "source": [
    "# Print the value of my_var using print(my_var)\n",
    "print(my_var)\n",
    "\n",
    "# Print the value of my_var using print(locals()['my_var'])\n",
    "print(locals()['my_var'])\n",
    "\n",
    "# confirm that they give the same answer\n",
    "msg = '''\n",
    "I can see they are the same\n",
    "'''\n",
    "print(msg)"
   ]
  },
  {
   "cell_type": "markdown",
   "metadata": {},
   "source": [
    "## Completion\n",
    "\n",
    "\n",
    "### `dir(list)`\n",
    "\n",
    "If we type `dir(list)` you will see that it gives the list of methods we can use for the class `list`. You should notice that this is the same as the list of methods we saw when we used `help(list)`:"
   ]
  },
  {
   "cell_type": "code",
   "execution_count": 25,
   "metadata": {},
   "outputs": [
    {
     "name": "stdout",
     "output_type": "stream",
     "text": [
      "['__add__', '__class__', '__contains__', '__delattr__', '__delitem__', '__dir__', '__doc__', '__eq__', '__format__', '__ge__', '__getattribute__', '__getitem__', '__gt__', '__hash__', '__iadd__', '__imul__', '__init__', '__init_subclass__', '__iter__', '__le__', '__len__', '__lt__', '__mul__', '__ne__', '__new__', '__reduce__', '__reduce_ex__', '__repr__', '__reversed__', '__rmul__', '__setattr__', '__setitem__', '__sizeof__', '__str__', '__subclasshook__', 'append', 'clear', 'copy', 'count', 'extend', 'index', 'insert', 'pop', 'remove', 'reverse', 'sort']\n"
     ]
    }
   ],
   "source": [
    "print(dir(list))"
   ]
  },
  {
   "cell_type": "markdown",
   "metadata": {},
   "source": [
    "### Completion\n",
    "\n",
    "Another useful thing is to see a list of potential methods in a class or e.g. to know what variables already declared start with `f`.\n",
    "\n",
    "Modern editors, [IDEs](https://en.wikipedia.org/wiki/Integrated_development_environment) and related tools often have features for completion of filenames, variables etc. This can help you minimise typing errors (especially for variables), and also help you to keep track of filenames, functions etc.\n",
    "\n",
    "The Jupyter notebooks we are using have this sort of completion feature. Exactly how it works depends on the browser and the server used, but it will usually involve using the `<TAB>` key (either once or twice), and/or spacebar and/or hovering over the text.\n",
    "\n",
    "The information this gives is similar to what youy get using `dir` as above."
   ]
  },
  {
   "cell_type": "markdown",
   "metadata": {},
   "source": [
    "Try this out now, broadly following the guidelines below. Note down what works for you and get used to using it.\n",
    "\n",
    "If you are using a jupyter hub server (or similar)\n",
    "\n",
    "      place the cursor after the `.` below\n",
    "      hit the <tab> key, rather than <return> in this cell\n",
    "      Dont run this cell"
   ]
  },
  {
   "cell_type": "code",
   "execution_count": null,
   "metadata": {
    "scrolled": true
   },
   "outputs": [],
   "source": [
    "# Dont run this cell\n",
    "list."
   ]
  },
  {
   "cell_type": "markdown",
   "metadata": {},
   "source": [
    "Really, this is just using the fact that `<tab>` key performs variable name completion.\n",
    "\n",
    "This means that if you e.g. have variables called `the_long_one` and `the_long_two` set:"
   ]
  },
  {
   "cell_type": "code",
   "execution_count": null,
   "metadata": {
    "scrolled": true
   },
   "outputs": [],
   "source": [
    "the_long_one = 1\n",
    "the_long_two = 2"
   ]
  },
  {
   "cell_type": "markdown",
   "metadata": {},
   "source": [
    "The next time you want to refer to this string in code, you need only type as many letters needed to distinguish this from other variable names, then hit `<tab>` to complete the name as far as possible."
   ]
  },
  {
   "cell_type": "markdown",
   "metadata": {},
   "source": [
    "#### Exercise\n",
    "\n",
    "* in the cell below, place the cursor after the letter t and hit `<tab>`. It should show you a list of things that begin with `t`. \n",
    "* Use this to write the line of code `the_long_one = 1000`\n",
    "* in the cell below, place the cursor after the letters `th` and hit `<tab>`. It should show you a list of things that begin with `th`. In this case it should just give you the options of `the_long_one` or `the_long_two`. \n",
    "* If you hit `<tab>` again, the variable name will be completed as far as it can, here, up to `the_long_`. Use this to write the line of code `the_long_two = 2000`"
   ]
  },
  {
   "cell_type": "code",
   "execution_count": null,
   "metadata": {
    "scrolled": true
   },
   "outputs": [],
   "source": [
    "# do exercise here ... put the cursor after the t or th and\n",
    "# use <tab> for completion. Dont run this cell\n",
    "t\n",
    "th"
   ]
  },
  {
   "cell_type": "markdown",
   "metadata": {
    "solution2": "hidden",
    "solution2_first": true
   },
   "source": [
    "### Learning new things\n",
    "\n",
    "Let's use that knowledge to learn something new:\n",
    "\n",
    "* Use online material from [https://www.w3schools.com](https://www.w3schools.com/python) or elsewhere to learn the basics of `for` loops.\n",
    "\n",
    "#### Exercise\n",
    "\n",
    "* Find help for the class `range` to understand how to use this to generate a sequence of integers from 10 to 1 in steps of -1\n",
    "* Use what you have learned to write a `for` loop below that counts backwards from 10 to 0"
   ]
  },
  {
   "cell_type": "code",
   "execution_count": null,
   "metadata": {
    "scrolled": false,
    "solution2": "hidden"
   },
   "outputs": [],
   "source": [
    "# Use what you have learned to write a \n",
    "# `for` loop below that counts backwards from 10 to 0\n",
    "\n",
    "for i in range(10,0,-1):\n",
    "    print(i)"
   ]
  },
  {
   "cell_type": "markdown",
   "metadata": {},
   "source": [
    "## Summary\n",
    "\n",
    "In this session, we  have learned some different ways to access help on the operation and options for python commands. These include: `help()`, use of `?`, completion, and using online help. Practically, you may use one or more of these methods to find out how something works, or get some examples. \n",
    "\n",
    "You might notice that there are many online forums you can post to to get advice on coding, and we mention  [https://stackoverflow.com](https://stackoverflow.com) as an example. Remember that not all posts are equally useful: pay attention to comments from other users on any answer, as well as post votes. Do not look on `stackoverflow` until you have exhausted simpler help methods. You should *not* generally be posting on these in this course. You will find answers to all that you need in these notes or on existing online pages. You most certainly must *not* post on forums asking questions about anyt exercises you need to complete or work you need to submit. The course administrators may monitor this\n"
   ]
  },
  {
   "cell_type": "markdown",
   "metadata": {},
   "source": [
    "[<img src=\"images/noun_post_2109127.svg\" width=\"50\" align='right'>](010_Python_Introduction.ipynb)\n",
    "[<img src=\"images/noun_pre_2109128.svg\" width=\"50\" align='right'>](001_Notebook_use.ipynb)\n",
    "\n"
   ]
  }
 ],
 "metadata": {
  "gist": {
   "data": {
    "description": "Chapter0_help.ipynb",
    "public": true
   },
   "id": ""
  },
  "hide_input": false,
  "kernelspec": {
   "display_name": "Python 3",
   "language": "python",
   "name": "python3"
  },
  "language_info": {
   "codemirror_mode": {
    "name": "ipython",
    "version": 3
   },
   "file_extension": ".py",
   "mimetype": "text/x-python",
   "name": "python",
   "nbconvert_exporter": "python",
   "pygments_lexer": "ipython3",
   "version": "3.7.8"
  },
  "latex_envs": {
   "LaTeX_envs_menu_present": true,
   "autocomplete": true,
   "bibliofile": "biblio.bib",
   "cite_by": "apalike",
   "current_citInitial": 1,
   "eqLabelWithNumbers": true,
   "eqNumInitial": 1,
   "hotkeys": {
    "equation": "Ctrl-E",
    "itemize": "Ctrl-I"
   },
   "labels_anchors": false,
   "latex_user_defs": false,
   "report_style_numbering": false,
   "user_envs_cfg": false
  },
  "toc": {
   "base_numbering": "1.1",
   "nav_menu": {},
   "number_sections": false,
   "sideBar": true,
   "skip_h1_title": false,
   "title_cell": "Table of Contents",
   "title_sidebar": "Contents",
   "toc_cell": false,
   "toc_position": {
    "height": "calc(100% - 180px)",
    "left": "10px",
    "top": "150px",
    "width": "207px"
   },
   "toc_section_display": true,
   "toc_window_display": false
  },
  "varInspector": {
   "cols": {
    "lenName": 16,
    "lenType": 16,
    "lenVar": 40
   },
   "kernels_config": {
    "python": {
     "delete_cmd_postfix": "",
     "delete_cmd_prefix": "del ",
     "library": "var_list.py",
     "varRefreshCmd": "print(var_dic_list())"
    },
    "r": {
     "delete_cmd_postfix": ") ",
     "delete_cmd_prefix": "rm(",
     "library": "var_list.r",
     "varRefreshCmd": "cat(var_dic_list()) "
    }
   },
   "types_to_exclude": [
    "module",
    "function",
    "builtin_function_or_method",
    "instance",
    "_Feature"
   ],
   "window_display": false
  }
 },
 "nbformat": 4,
 "nbformat_minor": 1
}
