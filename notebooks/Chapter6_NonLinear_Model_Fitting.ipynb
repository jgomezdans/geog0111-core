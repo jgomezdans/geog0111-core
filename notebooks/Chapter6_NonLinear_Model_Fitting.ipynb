{
 "cells": [
  {
   "cell_type": "code",
   "execution_count": 1,
   "metadata": {
    "ExecuteTime": {
     "end_time": "2018-11-14T19:27:31.922669Z",
     "start_time": "2018-11-14T19:27:31.125860Z"
    }
   },
   "outputs": [],
   "source": [
    "# All imports go here. Run me first!\n",
    "import datetime\n",
    "from pathlib import Path  # Checks for files and so on\n",
    "import numpy as np  # Numpy for arrays and so on\n",
    "import pandas as pd\n",
    "import sys\n",
    "import matplotlib.pyplot as plt  # Matplotlib for plotting\n",
    "# Ensure the plots are shown in the notebook\n",
    "%matplotlib inline\n",
    "\n",
    "import gdal\n",
    "import osr\n",
    "import numpy as np\n",
    "%matplotlib inline"
   ]
  },
  {
   "cell_type": "markdown",
   "metadata": {},
   "source": [
    "# Fitting non-linear models\n",
    "\n",
    "In the previous session, we looked at fitting linear models to observations. While this is a very common task, complex processes might require models which are non-linear.\n",
    "\n",
    "<div class=\"alert alert-success\">\n",
    "Can you think of any non-linear models that you have come across?\n",
    "</div>\n",
    "\n",
    "One non-linear model is modelling LAI as a function of time (or temperature). In the Nothern Hemisphere, and for temperate latitudes, there is a clear seasonal cycle in vegetation, particularly visible in leaf area index (LAI). LAI dynamics can possibly be depicted by a \"double logistic\" curve. Mathematically, the double logistic looks like this\n",
    "\n",
    "\n",
    "![A double logistic](https://camo.githubusercontent.com/7a664a29ec5bc190d71d8ba5ec391bcf98848df7/687474703a2f2f777777322e67656f672e75636c2e61632e756b2f7e706c657769732f67656f67673132342f5f696d616765732f7a68616e67312e706e67)\n",
    "\n",
    "Mathematically, the function predicts the e.g. LAI (or some vegetation index) as\n",
    "\n",
    "$$\n",
    "y = p_0 - p_1\\cdot\\left[\\frac{1}{1+\\exp\\left(p_2\\cdot(t-p_3)\\right)} + \\frac{1}{1+\\exp\\left(-p_4\\cdot(t-p_5)\\right)} - 1\\right].\n",
    "$$\n",
    "\n",
    "If we inspect this form, we can probably guess that $p_0$ and $p_1$ scale the vertical span of the function, whereas $p_3$ and $p_5$ are some sort of temporal shift, and the remaining parameters $p_2$ and $p_4$ control the slope of the two flanks. Something that will give rise to a self-respecting LAI curve might be\n",
    "\n",
    "* $p_0= 0.1$\n",
    "* $p_1= 2.5$\n",
    "* $p_2=0.19$\n",
    "* $p_3= 120$\n",
    "* $p_4= 0.13$\n",
    "* $p_5= 220$\n",
    "\n",
    "<div class=\"alert alert-danger\">\n",
    "<p>Write a function that produces the double logistic when passed an array of time steps (e.g. 1 to 365), and an array with six parameters.</p>\n",
    "<p>Do some plots and try to get some intuition on the model parameters!</p>\n",
    "</div>\n",
    "\n"
   ]
  },
  {
   "cell_type": "code",
   "execution_count": null,
   "metadata": {},
   "outputs": [],
   "source": []
  },
  {
   "cell_type": "markdown",
   "metadata": {},
   "source": [
    "## A synthetic experiment\n",
    "\n",
    "A first step is to do a synthetic experiment. This has the marked advantage of being a situation where we're in control of everything. "
   ]
  },
  {
   "cell_type": "code",
   "execution_count": 2,
   "metadata": {
    "ExecuteTime": {
     "end_time": "2018-11-14T19:27:36.186520Z",
     "start_time": "2018-11-14T19:27:35.702036Z"
    }
   },
   "outputs": [
    {
     "data": {
      "text/plain": [
       "Text(0,0.5,'LAI')"
      ]
     },
     "execution_count": 2,
     "metadata": {},
     "output_type": "execute_result"
    },
    {
     "name": "stderr",
     "output_type": "stream",
     "text": [
      "/home/ucfajlg/miniconda3/envs/python3/lib/python3.6/site-packages/matplotlib/font_manager.py:1328: UserWarning: findfont: Font family ['sans-serif'] not found. Falling back to DejaVu Sans\n",
      "  (prop.get_family(), self.defaultFamily[fontext]))\n"
     ]
    },
    {
     "data": {
      "image/png": "[encoded data removed]",
      "text/plain": [
       "<Figure size 1080x288 with 1 Axes>"
      ]
     },
     "metadata": {},
     "output_type": "display_data"
    }
   ],
   "source": [
    "\n",
    "t = np.arange(1, 366)\n",
    "p = np.array([0.1, 2.5, 0.19, 120, 0.13, 220])\n",
    "y = dbl_sigmoid_function(p, t)\n",
    "yn = y + np.random.randn(len(t))*0.6\n",
    "\n",
    "selector = np.random.rand(365)\n",
    "\n",
    "passer = np.where(selector > 0.9, True, False)\n",
    "\n",
    "tn = t[passer]\n",
    "yn = yn[passer]\n",
    "\n",
    "fig = plt.figure(figsize=(15, 4))\n",
    "_ = plt.plot(t, y, '-', label=\"Ground truth\")\n",
    "_ = plt.plot(tn, yn, 'o', label=\"Simulated observations\")\n",
    "plt.legend(loc=\"best\")\n",
    "plt.xlabel(\"DoY\")\n",
    "plt.ylabel(\"LAI\")\n",
    "\n"
   ]
  },
  {
   "cell_type": "markdown",
   "metadata": {},
   "source": [
    "We know that the \"true parameters\" are given by `p = np.array([0.1, 2.5, 0.19, 120, 0.13, 220])`, but we see that the data is quite noisy and has significant gaps. As per last session, we could try to modify the parameters \"by hand\", and see how far we get, but given that it's 6, with different ranges, it looks a bit daunting. Also, we'd need to assess how good the solution is for a particular set of parameters, in other words, select a metric to quantify the goodness of fit.\n",
    "\n",
    "It is useful to consider a model of the incomplete, noisy observations of LAI ($y_n$) and the true value of LAI, $y$. For overlapping time steps, the noisy data are just the \"true\" data plus some random Gaussian value with zero mean and a given variance $\\sigma_{obs}^2$ (in the experiment above, $\\sigma_{obs}=0.6$):\n",
    "\n",
    "$$\n",
    "y_n^{i} = y^{i} + \\mathcal{N}(0, \\sigma_{obs}^2).\n",
    "$$\n",
    "\n",
    "Rearranging things, we have that $y_n - y$ should be a zero mean Gaussian distribution with known variance. We have assumed that our model is $f(\\vec{p})=y$, so we can write the *likelihood function*, $l(\\vec{p})$\n",
    "\n",
    "$$\n",
    "l(\\vec{p}) = \\left[\\frac{1}{\\sqrt{2\\pi\\sigma_{obs}^2}}\\right]^{N}\\displaystyle{\\prod_{i=1}^{N} \\exp\\left[-\\frac{(y_n^{i}-f(\\vec{p})^{i})^2}{2\\sigma_{obs}^2}   \\right]}.\n",
    "$$\n",
    "\n",
    "It is convenient to take a logarithm of $l(\\vec{p})$, so that we have the **log-likelihood**:\n",
    "\n",
    "$$\n",
    "L(\\vec{p}) = -\\displaystyle{\\sum_{i=1}^{N} \\left[\\frac{(y_n^{i}-f(\\vec{p})^{i})^2}{2\\sigma_{obs}^2}   \\right]} + \\textrm{Const.}\n",
    "$$\n",
    "\n",
    "<div class=\"alert alert-success\">\n",
    "Think about the likelihood and log-likelihood... Think (and possibly plot) how a negative exponential curve looks like, and what conditions are for some interesting points.\n",
    "</div>"
   ]
  },
  {
   "cell_type": "code",
   "execution_count": null,
   "metadata": {},
   "outputs": [],
   "source": []
  },
  {
   "cell_type": "code",
   "execution_count": 3,
   "metadata": {
    "ExecuteTime": {
     "end_time": "2018-11-14T19:27:53.372292Z",
     "start_time": "2018-11-14T19:27:52.964380Z"
    }
   },
   "outputs": [
    {
     "data": {
      "text/plain": [
       "<matplotlib.legend.Legend at 0x7fdd3698d358>"
      ]
     },
     "execution_count": 3,
     "metadata": {},
     "output_type": "execute_result"
    },
    {
     "name": "stderr",
     "output_type": "stream",
     "text": [
      "/home/ucfajlg/miniconda3/envs/python3/lib/python3.6/site-packages/matplotlib/font_manager.py:1328: UserWarning: findfont: Font family ['sans-serif'] not found. Falling back to DejaVu Sans\n",
      "  (prop.get_family(), self.defaultFamily[fontext]))\n"
     ]
    },
    {
     "data": {
      "image/png": "[encoded data removed]",
      "text/plain": [
       "<Figure size 432x288 with 1 Axes>"
      ]
     },
     "metadata": {},
     "output_type": "display_data"
    }
   ],
   "source": []
  },
  {
   "cell_type": "markdown",
   "metadata": {},
   "source": [
    "So for a sum of squares, the most likely result would be if all the mismatches were zero, which means that the log-likelihood is 0, and the likelihood, $exp(0)=1$! \n",
    "\n",
    "However, the mismatch might not be 0, due to the added noise. So what we're effectively looking for is a **maximum** in the log-likelihood, or a **minimum** of its negative as a function of $\\vec{p}$:\n",
    "\n",
    "$$\n",
    "\\frac{\\partial (-L(\\vec{p}))}{\\partial \\vec{p}} \\triangleq \\min\n",
    "$$\n",
    "\n",
    "So, we can try our brute force guessing approach by **minimising the cost function given by $L(\\vec{p})$**\n",
    "\n",
    "<div class=\"alert alert-danger\">\n",
    "Write the cost function! Test it possibly shifting one parameter over some range of values\n",
    "</div>"
   ]
  },
  {
   "cell_type": "code",
   "execution_count": null,
   "metadata": {},
   "outputs": [],
   "source": []
  },
  {
   "cell_type": "markdown",
   "metadata": {
    "ExecuteTime": {
     "end_time": "2018-11-14T18:38:20.957145Z",
     "start_time": "2018-11-14T18:38:20.953937Z"
    }
   },
   "source": [
    "The easiest way to obtain the solution is to use numerical optimisation techniques to minimise the cost function. In scipy, there's [a good selection of function optimisers](https://docs.scipy.org/doc/scipy/reference/optimize.html). We'll be looking at **local** optimisers: these will look for a minimum in the vicinity of a user-given starting point, usually by looking at the gradient of the cost function. The main function to consider here is [`minimise`](https://docs.scipy.org/doc/scipy/reference/generated/scipy.optimize.minimize.html#scipy.optimize.minimize). Basically, `minimize` takes a cost function, a starting point, and maybe extra arguments that are passed to the cost function, and uses one of several algorithms to minimise the cost function. We import it with\n",
    "\n",
    "```python\n",
    "    from scipy.optimize import minimize\n",
    "```\n",
    "\n",
    "From the [documentation](https://docs.scipy.org/doc/scipy/reference/generated/scipy.optimize.minimize.html#scipy.optimize.minimize),\n",
    "```python\n",
    "    minimize(fun, x0, args=(), method=None,\n",
    "             jac=None, hess=None, hessp=None,\n",
    "             bounds=None, constraints=(), tol=None,\n",
    "             callback=None, options=None)\n",
    "```\n",
    "\n",
    "Basically, `fun` is the name of the cost function. The first parameter you pass to the cost function has to be an array with the parameters that will be used to calculate the cost. `x0` is the starting point. `args` allows you to add extra parameters that are required for the cost function (in our example, these would be `t, y_obs, passer, sigma_obs`).\n",
    "\n",
    "The `minimize` function returns an object with the \n",
    "\n",
    "1. Value of the function at the minimum,\n",
    "2. The value of the input parameters that attain the minimum,\n",
    "3. A message telling you whether the optimisation succeeded\n",
    "4. The number of iterations (`nit`) and total function evaluations (`nfev`)\n",
    "5. Some diagnostics \n",
    "\n",
    "\n",
    "\n"
   ]
  },
  {
   "cell_type": "code",
   "execution_count": null,
   "metadata": {},
   "outputs": [],
   "source": [
    "from scipy.optimize import minimize"
   ]
  },
  {
   "cell_type": "code",
   "execution_count": 44,
   "metadata": {
    "ExecuteTime": {
     "end_time": "2018-11-14T19:08:28.122451Z",
     "start_time": "2018-11-14T19:08:28.082724Z"
    }
   },
   "outputs": [
    {
     "name": "stdout",
     "output_type": "stream",
     "text": [
      "      fun: 21.342085853280015\n",
      " hess_inv: array([[ 1.72923106e-02, -2.15349312e-02,  2.11636346e-03,\n",
      "         2.98572159e-02,  4.47526187e-03, -5.30376564e-02],\n",
      "       [-2.15349312e-02,  1.13986002e-01, -4.73509772e-02,\n",
      "         5.02075575e-01, -5.17466259e-02, -4.55944527e-01],\n",
      "       [ 2.11636346e-03, -4.73509772e-02,  7.51102753e-02,\n",
      "        -5.51690150e-01,  2.61989471e-02,  2.73170740e-01],\n",
      "       [ 2.98572159e-02,  5.02075575e-01, -5.51690150e-01,\n",
      "         9.54855368e+00, -3.19209970e-01, -3.30673084e+00],\n",
      "       [ 4.47526187e-03, -5.17466259e-02,  2.61989471e-02,\n",
      "        -3.19209970e-01,  5.74465509e-02,  3.44439220e-01],\n",
      "       [-5.30376564e-02, -4.55944527e-01,  2.73170740e-01,\n",
      "        -3.30673084e+00,  3.44439220e-01,  8.29858275e+00]])\n",
      "      jac: array([ 4.76837158e-07,  4.52995300e-06, -4.76837158e-07, -4.76837158e-07,\n",
      "        9.53674316e-07,  4.76837158e-07])\n",
      "  message: 'Optimization terminated successfully.'\n",
      "     nfev: 616\n",
      "      nit: 63\n",
      "     njev: 77\n",
      "   status: 0\n",
      "  success: True\n",
      "        x: array([2.15760787e-01, 2.22197385e+00, 2.73744085e-01, 1.23505589e+02,\n",
      "       2.63305511e-01, 2.22200329e+02])\n",
      "********************************************\n",
      "Optimisation successful\n",
      "Value of the function at the minimum: 21.3421\n",
      "Value of the solution: [2.15760787e-01 2.22197385e+00 2.73744085e-01 1.23505589e+02\n",
      " 2.63305511e-01 2.22200329e+02]\n"
     ]
    }
   ],
   "source": [
    "from scipy.optimize import minimize\n",
    "\n",
    "p0 = np.array([0, 5, 0.01, 90, 0.01, 200])\n",
    "\n",
    "retval = minimize(cost_function, p0, args=(t, yn, passer, 0.6))\n",
    "\n",
    "print(retval)\n",
    "\n",
    "print (\"********************************************\")\n",
    "if retval.success:\n",
    "    print(\"Optimisation successful!\")\n",
    "    print(f\"Value of the function at the minimum: {retval.fun:g}\")\n",
    "    print(f\"Value of the solution: {str(retval.x):s}\")"
   ]
  },
  {
   "cell_type": "markdown",
   "metadata": {},
   "source": [
    "<div class=\"alert alert-danger\">\n",
    "Do some synthetic experiments. For example:\n",
    "<ol>\n",
    "    <li> Change the true parameters and see how the solution tracks the change.</li>\n",
    "    <li> Increase the added variance</li>\n",
    "    <li> Reduce or increase the number of observations</li>\n",
    "</ol>\n",
    "\n",
    "Use these experiments to challenge your understanding of the problem: Try to think what the expected result of these changes is, and write a set of functions that simplify the exploration.\n",
    "</div>\n",
    "\n",
    "\n",
    "\n"
   ]
  },
  {
   "cell_type": "code",
   "execution_count": null,
   "metadata": {},
   "outputs": [],
   "source": []
  },
  {
   "cell_type": "markdown",
   "metadata": {},
   "source": [
    "## Next: Real data\n",
    "\n",
    "In the next session, you'll be applying these techniques to MODIS LAI data"
   ]
  },
  {
   "cell_type": "code",
   "execution_count": null,
   "metadata": {},
   "outputs": [],
   "source": []
  }
 ],
 "metadata": {
  "kernelspec": {
   "display_name": "Python 3",
   "language": "python",
   "name": "python3"
  },
  "language_info": {
   "codemirror_mode": {
    "name": "ipython",
    "version": 3
   },
   "file_extension": ".py",
   "mimetype": "text/x-python",
   "name": "python",
   "nbconvert_exporter": "python",
   "pygments_lexer": "ipython3",
   "version": "3.6.6"
  }
 },
 "nbformat": 4,
 "nbformat_minor": 2
}
