{
 "cells": [
  {
   "cell_type": "markdown",
   "metadata": {
    "ExecuteTime": {
     "end_time": "2020-07-22T08:47:27.276868Z",
     "start_time": "2020-07-22T08:47:27.273435Z"
    }
   },
   "source": [
    "![UCL Geography](images/ucl_logo.png)\n",
    "\n",
    "\n",
    "# Functions"
   ]
  },
  {
   "cell_type": "markdown",
   "metadata": {},
   "source": [
    "## Introduction\n",
    "\n",
    "### Purpose\n",
    "\n",
    "In this session, we will learn about Functions in Python.\n",
    "\n",
    "### Prerequisites\n",
    "\n",
    "You will need some understanding of the following:\n",
    "\n",
    "* Using Notebooks\n",
    "* strings\n",
    "\n"
   ]
  },
  {
   "cell_type": "markdown",
   "metadata": {
    "ExecuteTime": {
     "end_time": "2020-07-22T08:49:07.668226Z",
     "start_time": "2020-07-22T08:49:07.665432Z"
    }
   },
   "source": [
    "## Functions\n",
    "\n",
    "### Introduction\n",
    "\n",
    "A [function](https://docs.python.org/3/glossary.html#term-function) is a block of code statements that we can use to carry out a specific purpose. \n",
    "\n",
    "We could think of the the function as **a sort of filter** then: it takes some inputs (specified in the arguments), makes some calculation based on these, i.e. that is a *function* of these inputs, and returns an output.\n",
    "\n",
    " * It will generally have one or more [arguments](https://docs.python.org/3/glossary.html#argument): `(arg1, arg2, ...)` that form the inputs.\n",
    " * It will often return some value (or set of values): `retval`\n",
    " * It will have a name: `my_function`\n",
    "\n",
    "![function](images/im_funct.png)\n",
    "\n",
    "### Anatomy of a function\n",
    "\n",
    "The format of a function in Python is:\n",
    "\n",
    "    def my_function(arg1,arg2,...):\n",
    "      '''\n",
    "      Document string \n",
    "      '''\n",
    "\n",
    "      # comments\n",
    "\n",
    "      retval =  ... \n",
    "\n",
    "      # return\n",
    "      return retval\n",
    "      \n",
    "The keyword `def` defines a function, followed by the function name, a list (actually, a [`tuple`](https://docs.python.org/3/library/stdtypes.html?highlight=tuple#tuple)) of arguments, then a semicolon `:`.\n",
    "\n",
    "The contents of the function are indented to a consistent level of spaces.\n",
    "\n",
    "The function will typically have a document string, generally a multi-line string defined within triple quotes. We use this to document information about the function, such as its author, purpose, and inputs and outputs.\n",
    "\n",
    "Within the function, we can refer to the arguments (`arg1` and `arg2` here, though they will generally have more meaningful names), make some calculation based on these, and generally, return some value (`retval` here).\n",
    "\n",
    "### Preliminary design \n",
    "\n",
    "This idea of a *filter* can be useful when thinking how to design a function. We can see that we need to define:\n",
    "\n",
    "    * purpose\n",
    "    * inputs\n",
    "    * output\n",
    "\n",
    "Let's suppose we need to design a function that will take a first name and last name, and combine them into your full name (assuming for now that you have two names).\n",
    "\n",
    "The *purpose* of our function could be stated as:\n",
    "\n",
    "    purpose: \n",
    "    \n",
    "        generate the full name\n",
    "    \n",
    "The inputs could be:\n",
    "\n",
    "    inputs:\n",
    "      - name_list : list of names\n",
    "      \n",
    "And the output:\n",
    "\n",
    "    return:\n",
    "      - the full name\n",
    "      \n",
    "Without knowing any real coding then, we could develop the template for this function, along with an initial document string. \n",
    "\n",
    "We do need to give the function a name, so let's use `full_name` here:"
   ]
  },
  {
   "cell_type": "code",
   "execution_count": 14,
   "metadata": {
    "ExecuteTime": {
     "end_time": "2020-07-22T09:57:12.987397Z",
     "start_time": "2020-07-22T09:57:12.983646Z"
    },
    "collapsed": true
   },
   "outputs": [],
   "source": [
    "def full_name(name_list):\n",
    "  '''\n",
    "  purpose: \n",
    "    generate the full name\n",
    "    \n",
    "  inputs:\n",
    "  - name_list : list of names\n",
    "\n",
    "  return:\n",
    "    - the full name\n",
    "  '''\n",
    "  # just return the inoput for the moment\n",
    "  # to test it runs\n",
    "  retval = name_list\n",
    "\n",
    "  # return\n",
    "  return retval"
   ]
  },
  {
   "cell_type": "markdown",
   "metadata": {
    "ExecuteTime": {
     "end_time": "2020-07-22T09:33:23.106686Z",
     "start_time": "2020-07-22T09:33:23.097710Z"
    }
   },
   "source": [
    "That's a good start, and it allows us to develop a function that we can run and test. \n",
    "\n",
    "To test, we can set a list of example strings. We then *call* the function `full_name()` with this argument, and set the value returned in the variable `full`."
   ]
  },
  {
   "cell_type": "code",
   "execution_count": 16,
   "metadata": {
    "ExecuteTime": {
     "end_time": "2020-07-22T09:57:20.969141Z",
     "start_time": "2020-07-22T09:57:20.965164Z"
    },
    "collapsed": true
   },
   "outputs": [
    {
     "name": "stdout",
     "output_type": "stream",
     "text": [
      "['Fred', 'Bloggs']\n"
     ]
    }
   ],
   "source": [
    "names = ['Fred','Bloggs']\n",
    "\n",
    "full = full_name(names)\n",
    "print(full)"
   ]
  },
  {
   "cell_type": "markdown",
   "metadata": {},
   "source": [
    "From our test, we can see that the function doesn't yet achieve what we wanted: it simply returns the input list, rather than the full name.\n",
    "\n",
    "To proceed, we need to know how to make a combined string. \n",
    "\n",
    "One way to do this would be to use the string [`join`](https://docs.python.org/3/library/stdtypes.html#str.join) operation.\n",
    "\n",
    "This works by placing a key string between string items in a list. For example, if we want to separate strings by `:`, we would use:\n",
    "\n",
    "    ':'.join(names)"
   ]
  },
  {
   "cell_type": "code",
   "execution_count": 22,
   "metadata": {
    "ExecuteTime": {
     "end_time": "2020-07-22T10:01:51.087769Z",
     "start_time": "2020-07-22T10:01:51.083552Z"
    },
    "collapsed": true
   },
   "outputs": [
    {
     "data": {
      "text/plain": [
       "'Fred:Bloggs'"
      ]
     },
     "execution_count": 22,
     "metadata": {},
     "output_type": "execute_result"
    }
   ],
   "source": [
    "':'.join(names)"
   ]
  },
  {
   "cell_type": "markdown",
   "metadata": {},
   "source": [
    "In our function, we want to use a single 'whitespace' value, so `' '` as the key:"
   ]
  },
  {
   "cell_type": "code",
   "execution_count": 23,
   "metadata": {
    "ExecuteTime": {
     "end_time": "2020-07-22T10:01:51.922936Z",
     "start_time": "2020-07-22T10:01:51.918946Z"
    },
    "collapsed": true
   },
   "outputs": [
    {
     "data": {
      "text/plain": [
       "'Fred Bloggs'"
      ]
     },
     "execution_count": 23,
     "metadata": {},
     "output_type": "execute_result"
    }
   ],
   "source": [
    "' '.join(names)"
   ]
  },
  {
   "cell_type": "markdown",
   "metadata": {},
   "source": [
    "Now we are sure of the coding concept to achieve what we ant in the filter, we can write the function:"
   ]
  },
  {
   "cell_type": "code",
   "execution_count": 24,
   "metadata": {
    "ExecuteTime": {
     "end_time": "2020-07-22T10:03:31.466723Z",
     "start_time": "2020-07-22T10:03:31.463279Z"
    },
    "collapsed": true
   },
   "outputs": [],
   "source": [
    "def full_name(name_list):\n",
    "  '''\n",
    "  purpose: \n",
    "    generate the full name\n",
    "    \n",
    "  inputs:\n",
    "  - name_list : list of names\n",
    "\n",
    "  return:\n",
    "    - the full name\n",
    "  '''\n",
    "  # join the names in name_list together\n",
    "  retval = ' '.join(name_list)\n",
    "\n",
    "  # return\n",
    "  return retval"
   ]
  },
  {
   "cell_type": "code",
   "execution_count": 31,
   "metadata": {
    "ExecuteTime": {
     "end_time": "2020-07-22T10:10:24.734693Z",
     "start_time": "2020-07-22T10:10:24.731280Z"
    }
   },
   "outputs": [
    {
     "name": "stdout",
     "output_type": "stream",
     "text": [
      "Help on function full_name in module __main__:\n",
      "\n",
      "full_name(name_list)\n",
      "    purpose: \n",
      "      generate the full name\n",
      "      \n",
      "    inputs:\n",
      "    - name_list : list of names\n",
      "    \n",
      "    return:\n",
      "      - the full name\n",
      "\n"
     ]
    }
   ],
   "source": [
    "help(full_name)"
   ]
  },
  {
   "cell_type": "code",
   "execution_count": 26,
   "metadata": {
    "ExecuteTime": {
     "end_time": "2020-07-22T10:04:01.094448Z",
     "start_time": "2020-07-22T10:04:01.091423Z"
    }
   },
   "outputs": [
    {
     "name": "stdout",
     "output_type": "stream",
     "text": [
      "Fred Bloggs\n"
     ]
    }
   ],
   "source": [
    "full = full_name(['Fred','Bloggs'])\n",
    "print(full)"
   ]
  },
  {
   "cell_type": "markdown",
   "metadata": {
    "ExecuteTime": {
     "end_time": "2020-07-22T10:04:27.323659Z",
     "start_time": "2020-07-22T10:04:27.320977Z"
    },
    "solution2": "hidden",
    "solution2_first": true
   },
   "source": [
    "## Exercise\n",
    "\n",
    "XXX execise"
   ]
  },
  {
   "cell_type": "code",
   "execution_count": 29,
   "metadata": {
    "ExecuteTime": {
     "end_time": "2020-07-22T10:07:23.310168Z",
     "start_time": "2020-07-22T10:07:23.307454Z"
    },
    "collapsed": true,
    "solution2": "hidden"
   },
   "outputs": [],
   "source": [
    "#Answer"
   ]
  },
  {
   "cell_type": "markdown",
   "metadata": {
    "ExecuteTime": {
     "end_time": "2020-07-22T10:07:11.812609Z",
     "start_time": "2020-07-22T10:07:11.810291Z"
    }
   },
   "source": [
    "## keyword arguments"
   ]
  },
  {
   "cell_type": "code",
   "execution_count": 30,
   "metadata": {
    "ExecuteTime": {
     "end_time": "2020-07-22T10:07:43.832299Z",
     "start_time": "2020-07-22T10:07:43.829991Z"
    },
    "collapsed": true,
    "solution2": "hidden",
    "solution2_first": true
   },
   "outputs": [],
   "source": [
    "## Exercise"
   ]
  },
  {
   "cell_type": "code",
   "execution_count": null,
   "metadata": {
    "collapsed": true,
    "solution2": "hidden"
   },
   "outputs": [],
   "source": [
    "#answer"
   ]
  },
  {
   "cell_type": "markdown",
   "metadata": {},
   "source": [
    "## Summary\n",
    "\n",
    "In this section, we have learned about writing a function. We have seen that they generally will have zero or more input positional arguments and zero or more keyword arguments. They will typically return some value. We have also seen how we can define a `doc string`"
   ]
  }
 ],
 "metadata": {
  "kernelspec": {
   "display_name": "Python 3",
   "language": "python",
   "name": "python3"
  },
  "language_info": {
   "codemirror_mode": {
    "name": "ipython",
    "version": 3
   },
   "file_extension": ".py",
   "mimetype": "text/x-python",
   "name": "python",
   "nbconvert_exporter": "python",
   "pygments_lexer": "ipython3",
   "version": "3.7.6"
  },
  "toc": {
   "base_numbering": "",
   "nav_menu": {},
   "number_sections": false,
   "sideBar": false,
   "skip_h1_title": false,
   "title_cell": "Table of Contents",
   "title_sidebar": "Contents",
   "toc_cell": false,
   "toc_position": {},
   "toc_section_display": false,
   "toc_window_display": false
  },
  "varInspector": {
   "cols": {
    "lenName": 16,
    "lenType": 16,
    "lenVar": 40
   },
   "kernels_config": {
    "python": {
     "delete_cmd_postfix": "",
     "delete_cmd_prefix": "del ",
     "library": "var_list.py",
     "varRefreshCmd": "print(var_dic_list())"
    },
    "r": {
     "delete_cmd_postfix": ") ",
     "delete_cmd_prefix": "rm(",
     "library": "var_list.r",
     "varRefreshCmd": "cat(var_dic_list()) "
    }
   },
   "types_to_exclude": [
    "module",
    "function",
    "builtin_function_or_method",
    "instance",
    "_Feature"
   ],
   "window_display": false
  }
 },
 "nbformat": 4,
 "nbformat_minor": 4
}
