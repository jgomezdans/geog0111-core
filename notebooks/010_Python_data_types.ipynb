{
 "cells": [
  {
   "cell_type": "markdown",
   "metadata": {},
   "source": [
    "# Introduction to Python data types"
   ]
  },
  {
   "cell_type": "markdown",
   "metadata": {},
   "source": [
    "## Introduction\n",
    "\n",
    "[Python](https://anaconda.org/anaconda/python) is a popular general purpose, free language. As opposed to other systems that are focused towards a particular task (e.g. R for statistics), Python has a strong following on the web, on systems operations and in data analysis. For scientific computing, a large number of useful add-ons (\"libraries\") are available to help you analyse and process data. This is an invaluable resource.\n",
    "\n",
    "In addition to being free, Python is also very portable, and easy to pick up. \n",
    "\n",
    "\n",
    "### Purpose\n",
    "\n",
    "In this section we will learn some of the fundamental concepts in Python. \n",
    "\n",
    "Mainly, this is based around fundamental data types in Python (`int`, `float`, `str`, `bool` etc.). We will use the functions `print()` and `type()`.\n",
    "\n",
    "Although some of the examples we use are very simple to explain a concept, the more developed ones should be directly applicable to the sort of programming you are likely to need to do.\n",
    "\n",
    "Further, a more advanced section of the chapter is available, that goes into some more detail and complications. This too has a set of exercises with worked examples.\n",
    "\n",
    "### Prerequisites\n",
    "\n",
    "You will need some understanding of the following:\n",
    "\n",
    "* Using Notebooks\n",
    "* Getting help\n",
    "\n",
    "Remember that you can 'run' the code in a code block using the 'run' widget (above) or hitting the keys ('typing') <shift> and <return> at the same time. \n",
    "\n",
    "### Timing\n",
    "\n",
    "The session should take around XX hours."
   ]
  },
  {
   "cell_type": "markdown",
   "metadata": {},
   "source": [
    "## Getting Started"
   ]
  },
  {
   "cell_type": "markdown",
   "metadata": {},
   "source": [
    "### Comments and print function\n",
    "\n",
    "Comments are statements ignored by the language interpreter.\n",
    "\n",
    "Any text after a `#` in a *code block* is a comment."
   ]
  },
  {
   "cell_type": "markdown",
   "metadata": {},
   "source": [
    "   \n",
    "#### Exercise\n",
    "* Try running the code block below\n",
    "* Explain what happened ('what the computer did')"
   ]
  },
  {
   "cell_type": "code",
   "execution_count": 1,
   "metadata": {
    "solution2": "hidden",
    "solution2_first": true
   },
   "outputs": [],
   "source": [
    "# Hello world"
   ]
  },
  {
   "cell_type": "markdown",
   "metadata": {
    "solution2": "hidden"
   },
   "source": [
    "<mark>**ANSWER**\n",
    "    \n",
    "<mark>Nothing 'apparently' happened, but really, the code block was interpreted as a set of Python commands and executed. As there is only a comment, there was no output."
   ]
  },
  {
   "cell_type": "markdown",
   "metadata": {},
   "source": [
    "### `print()`\n"
   ]
  },
  {
   "cell_type": "code",
   "execution_count": 12,
   "metadata": {
    "ExecuteTime": {
     "end_time": "2020-07-22T14:28:42.215616Z",
     "start_time": "2020-07-22T14:28:42.212303Z"
    }
   },
   "outputs": [
    {
     "name": "stdout",
     "output_type": "stream",
     "text": [
      "Help on built-in function print in module builtins:\n",
      "\n",
      "print(...)\n",
      "    print(value, ..., sep=' ', end='\\n', file=sys.stdout, flush=False)\n",
      "    \n",
      "    Prints the values to a stream, or to sys.stdout by default.\n",
      "    Optional keyword arguments:\n",
      "    file:  a file-like object (stream); defaults to the current sys.stdout.\n",
      "    sep:   string inserted between values, default a space.\n",
      "    end:   string appended after the last value, default a newline.\n",
      "    flush: whether to forcibly flush the stream.\n",
      "\n"
     ]
    }
   ],
   "source": [
    "help(print)"
   ]
  },
  {
   "cell_type": "markdown",
   "metadata": {},
   "source": [
    "To print some value (by default, to the terminal you are using, knows as the standard output `stdout`), use the `print(...)` function.\n",
    "\n"
   ]
  },
  {
   "cell_type": "code",
   "execution_count": 8,
   "metadata": {},
   "outputs": [
    {
     "name": "stdout",
     "output_type": "stream",
     "text": [
      "hello world\n",
      "hello world\n"
     ]
    }
   ],
   "source": [
    "# For example, to print the string 'hello world':\n",
    "print('hello world')\n",
    "\n",
    "# to print the list ('hello','world'):\n",
    "print('hello', 'world')"
   ]
  },
  {
   "cell_type": "markdown",
   "metadata": {
    "solution2": "hidden",
    "solution2_first": true
   },
   "source": [
    "#### Exercise\n",
    "\n",
    "* Insert a new cell below here\n",
    "* Print out the string `Today I am learning Python`."
   ]
  },
  {
   "cell_type": "code",
   "execution_count": 9,
   "metadata": {
    "scrolled": true,
    "solution2": "hidden"
   },
   "outputs": [
    {
     "name": "stdout",
     "output_type": "stream",
     "text": [
      "Today I am learning Python\n",
      "Today I am learning Python\n"
     ]
    }
   ],
   "source": [
    "# Answer\n",
    "# Notice that the string must be in quotes\n",
    "print('Today I am learning Python')\n",
    "\n",
    "# Or, as a list:\n",
    "print('Today', 'I', 'am', 'learning', 'Python')"
   ]
  },
  {
   "cell_type": "markdown",
   "metadata": {},
   "source": [
    "## Variables, Values and Data types"
   ]
  },
  {
   "cell_type": "markdown",
   "metadata": {},
   "source": [
    "### Variables and values\n",
    "\n",
    "The idea of **variables** is fundamental to any programming. \n",
    "\n",
    "You can think of this as the *name* of *something*, so it is a way of allowing us to refer to some object in the language. A related idea we will find useful is to think of the variable name as a **key**. What the variable *is* set to is called its **value**.\n",
    "\n",
    "Putting these ideas together, we can think of the variable name and its value as a `key: value` pair:\n",
    "\n",
    "    key: value\n",
    "\n",
    "**Remember: the `key` is the name of the variable, the `value` is what is stored in the variable.**"
   ]
  },
  {
   "cell_type": "markdown",
   "metadata": {},
   "source": [
    "So let's start with a variable we will call (*declare to be*) `my_store`.\n",
    "\n",
    "We will give a *value* of the string `'one'` to this variable:"
   ]
  },
  {
   "cell_type": "code",
   "execution_count": 14,
   "metadata": {},
   "outputs": [
    {
     "name": "stdout",
     "output_type": "stream",
     "text": [
      "one\n"
     ]
    }
   ],
   "source": [
    "# assign the value 'one' to the variable (key) my_store\n",
    "my_store = 'one'\n",
    "\n",
    "# Print the value of my_store\n",
    "print(my_store)"
   ]
  },
  {
   "cell_type": "markdown",
   "metadata": {
    "solution2": "hidden",
    "solution2_first": true
   },
   "source": [
    "#### Exercise\n",
    "\n",
    "* Insert a new cell below here\n",
    "* set a variable called `message` to contain the string `hello world`\n",
    "* print the value of the variable `message`"
   ]
  },
  {
   "cell_type": "code",
   "execution_count": 13,
   "metadata": {
    "solution2": "hidden"
   },
   "outputs": [
    {
     "name": "stdout",
     "output_type": "stream",
     "text": [
      "hello world\n"
     ]
    }
   ],
   "source": [
    "# ANSWER\n",
    "\n",
    "message = 'hello world'\n",
    "print(message)"
   ]
  },
  {
   "cell_type": "markdown",
   "metadata": {},
   "source": [
    "### Data types: `str`\n",
    "\n",
    "In the illustrations above, we set the variable to be a string `str` type, because we wanted to use it to represent a string.\n",
    "\n",
    "In a string, each character is represented by an [ASCII](http://www.asciitable.com) codes.\n",
    "\n",
    "So the [string](https://en.wikibooks.org/wiki/Python_Programming/Text) `one` is built up of `o` + `n` + `e`, represented by the ASCII codes `111`, `110` and `101` respectively.\n"
   ]
  },
  {
   "cell_type": "markdown",
   "metadata": {
    "solution2": "hidden",
    "solution2_first": true
   },
   "source": [
    "#### Exercise\n",
    "\n",
    "* If the ASCII code for `e` is `101` and the code for `n` is `110`, what is the code for `a`?"
   ]
  },
  {
   "cell_type": "markdown",
   "metadata": {
    "solution2": "hidden"
   },
   "source": [
    "#### Answer\n",
    "\n",
    "We could find this by examining ASCII code [tables](http://www.asciitable.com) and see that `a` (lower case a) has the code 97.\n",
    "\n",
    "Alternatively, we could search for help on this topic, and find that the python function `ord()` converts from string to ASCII code: "
   ]
  },
  {
   "cell_type": "code",
   "execution_count": 87,
   "metadata": {
    "solution2": "hidden"
   },
   "outputs": [
    {
     "name": "stdout",
     "output_type": "stream",
     "text": [
      "the ASCII code for 'a' is 97\n"
     ]
    }
   ],
   "source": [
    "print(\"the ASCII code for 'a' is\",ord('a'))"
   ]
  },
  {
   "cell_type": "markdown",
   "metadata": {
    "solution2": "hidden"
   },
   "source": [
    "Alternatively, we might notice that `n` is the 14th letter of the alphabet, and `e`the 5th, so the code seems to be `97 + N` where `N` is the order the letter appears in the alphabet. We can confirm this with the 15th letter `o` which we see from above has the code `111`. "
   ]
  },
  {
   "cell_type": "markdown",
   "metadata": {},
   "source": [
    "In a computing language, the *sort of thing* the variable can be set to is called its **data type**.  In Python, we can access this with the function `type()`:\n",
    "\n"
   ]
  },
  {
   "cell_type": "code",
   "execution_count": 93,
   "metadata": {},
   "outputs": [
    {
     "name": "stdout",
     "output_type": "stream",
     "text": [
      "this has type <class 'str'>\n"
     ]
    }
   ],
   "source": [
    "# assign the value 'one' to the variable (key) my_store\n",
    "my_store = 'one'\n",
    "\n",
    "# Print the value of my_store\n",
    "print('this has type', type(my_store))"
   ]
  },
  {
   "cell_type": "markdown",
   "metadata": {
    "solution2": "hidden",
    "solution2_first": true
   },
   "source": [
    "#### Exercise\n",
    "\n",
    "* insert a new cell below here\n",
    "* set a variable called message to contain the string hello world\n",
    "* print the value and data type of the variable message"
   ]
  },
  {
   "cell_type": "markdown",
   "metadata": {},
   "source": [
    "### Data types: `float`\n",
    "\n",
    "Another fundamental data type is `float`, used to store decimal numbers such as `120.23`.\n",
    "\n",
    "Not surprisingly, we can use floating point numbers (and other number representations) to do arithmetic. We can use `print()` similarly to above to print an integer value. \n",
    "\n",
    "Sometimes, such as for very large or very small floating point values, we use an [exponent and mantissa representation](https://en.wikibooks.org/wiki/A-level_Computing/AQA/Paper_2/Fundamentals_of_data_representation/Floating_point_numbers), e.g. to represent Plank's constant:\n",
    "\n",
    "$$h = 6.62607015×10^{−34} J⋅s $$\n",
    "    \n",
    "we would not want to have to write out over zero values after the decimal point. Instead, we use the mantissa $6.62607015$ and exponent $-34$ directly:\n",
    "\n",
    "     h = 6.62607015e-34\n",
    "\n",
    "As an example of floating point arithmetic, let us consider the energy associated with a photon of a given wavelength $\\lambda$ (nm) using the [Planck-Einstein equation](https://web.archive.org/web/20160712123152/http://pveducation.org/pvcdrom/2-properties-sunlight/energy-photon):\n",
    "\n",
    "$$ E = \\frac{hc}{\\lambda}$$\n",
    "\n",
    "with:\n",
    "\n",
    "* $h$ as above, $=6.62607015×10^{−34} J⋅s$\n",
    "* $c$ the speed of light $= 2.99792458 × 10^8 m/s$\n",
    "* $E$ the photon energy (in $J$)\n",
    "\n",
    "Given light with a wavelength of 1024 nanometers (nm), calculate the energy.\n",
    "\n",
    "First, calculate the wavelength in m:\n",
    "\n",
    "    l_m = l_nm * 1e-9\n",
    "\n",
    "Then, implement the Planck-Einstein equation:\n",
    "\n",
    "    E = h * c / l_m\n"
   ]
  },
  {
   "cell_type": "code",
   "execution_count": 128,
   "metadata": {},
   "outputs": [
    {
     "name": "stdout",
     "output_type": "stream",
     "text": [
      "1.9864458571489286e-25\n",
      "Photon of wavelength 1024.0 nm\n",
      "has an energy of 1.9398885323720004e-19 J\n"
     ]
    }
   ],
   "source": [
    "# values of c and h\n",
    "c = 2.99792458e8\n",
    "h = 6.62607015e-34\n",
    "\n",
    "print(h * c)\n",
    "# wavelength in nm\n",
    "l_nm = 1024.0\n",
    "\n",
    "# wavelength in m\n",
    "l_m = l_nm * 1e-9\n",
    "\n",
    "# Planck-Einstein in J\n",
    "E_J = h * c / l_m\n",
    "\n",
    "print('Photon of wavelength', l_nm, 'nm')\n",
    "print('has an energy of', E_J, 'J')"
   ]
  },
  {
   "cell_type": "markdown",
   "metadata": {},
   "source": [
    " We can compare the value of energy we get in $J$ with that using a [web calculator](http://www.calctool.org/CALC/other/converters/e_of_photon) and confirm the value of `1.93989e-19` for Near Infrared light (`1024` nm)."
   ]
  },
  {
   "cell_type": "markdown",
   "metadata": {
    "solution2": "hidden",
    "solution2_first": true
   },
   "source": [
    "#### Exercise\n",
    "\n",
    "Since the energy level expressed in $J$ is quite small, we might more conveniently express it in units of eV. Given that:\n",
    "\n",
    "$$\n",
    "    1\\ Electron\\ volt\\ (eV) = 1.602176565 × 10^{-19} J\n",
    "$$\n",
    "\n",
    "* Insert a new cell below here\n",
    "* calculate the energy associated with a blue photon at 450 nm, in eV\n",
    "* confirm your answer using a [web calculator](http://www.calctool.org/CALC/other/converters/e_of_photon)"
   ]
  },
  {
   "cell_type": "code",
   "execution_count": 130,
   "metadata": {
    "solution2": "hidden"
   },
   "outputs": [
    {
     "name": "stdout",
     "output_type": "stream",
     "text": [
      "1.9864458571489286e-25\n",
      "Photon of wavelength 450.0 nm\n",
      "has an energy of 2.7552045282834468 eV\n"
     ]
    }
   ],
   "source": [
    "# Answer\n",
    "# Copy mostly from above:\n",
    "\n",
    "# values of c and h\n",
    "c = 2.99792458e8\n",
    "h = 6.62607015e-34\n",
    "\n",
    "print(h * c)\n",
    "# wavelength in nm: BLUE\n",
    "l_nm = 450.0\n",
    "\n",
    "# wavelength in m\n",
    "l_m = l_nm * 1e-9\n",
    "\n",
    "# Planck-Einstein in J\n",
    "E_J = h * c / l_m\n",
    "\n",
    "# conversion formula given above\n",
    "E_eV = E_J / 1.602176565e-19\n",
    "print('Photon of wavelength', l_nm, 'nm')\n",
    "print('has an energy of', E_eV, 'eV')\n",
    "# which compares with 2.75520 eV given in the web calculator"
   ]
  },
  {
   "cell_type": "code",
   "execution_count": 92,
   "metadata": {
    "solution2": "hidden"
   },
   "outputs": [
    {
     "name": "stdout",
     "output_type": "stream",
     "text": [
      "value is hello world\n",
      "type is <class 'str'>\n"
     ]
    }
   ],
   "source": [
    "# ANSWER\n",
    "\n",
    "message = 'hello world'\n",
    "print('value is', message)\n",
    "print('type is', type(message))"
   ]
  },
  {
   "cell_type": "markdown",
   "metadata": {},
   "source": [
    "### Data types: `int`\n",
    "\n",
    "Another fundamental data type is `int`, used to store integer (whole) numbers (in base 10).\n",
    "\n",
    "Not surprisingly, we can also use integers to do arithmetic, though we have to pay a little attention to whether we want the result of division to remain an integer or become a floating point number. We can use `print()` similarly to above to print an integer value. "
   ]
  },
  {
   "cell_type": "code",
   "execution_count": 102,
   "metadata": {},
   "outputs": [
    {
     "name": "stdout",
     "output_type": "stream",
     "text": [
      "y = 206\n"
     ]
    }
   ],
   "source": [
    "# set the variable x,m and c to integer\n",
    "# values\n",
    "x = 10\n",
    "m = 20\n",
    "c = 6\n",
    "\n",
    "# calculate y from the formula\n",
    "y = m * x + c\n",
    "\n",
    "# print the value of y\n",
    "print('y =', y)"
   ]
  },
  {
   "cell_type": "markdown",
   "metadata": {
    "solution2": "hidden",
    "solution2_first": true
   },
   "source": [
    "We have seen examples of addition `+` and multiplication `*`. We use `x ** y` to represent `x` to the power of `y`. For division, we use `//` to enforce integer division (floor).\n",
    "\n",
    "#### Exercise\n",
    "\n",
    "* insert a new cell below here\n",
    "* using integer arithmetic, print the result of:\n",
    "  - 2 to the power of 8\n",
    "  - 1024 divided by 2\n",
    "* set a variable called `x` to the result of 7 divided by 3.\n",
    "  - print the value of `x`, and confirm its data type is `int`\n",
    "  \n"
   ]
  },
  {
   "cell_type": "code",
   "execution_count": 110,
   "metadata": {
    "solution2": "hidden"
   },
   "outputs": [
    {
     "name": "stdout",
     "output_type": "stream",
     "text": [
      "256\n",
      "512\n",
      "Integer: 7 divided by 3 is 2 <class 'int'>\n",
      "7 divided by 3 is 2.3333333333333335 <class 'float'>\n"
     ]
    }
   ],
   "source": [
    "# ANSWER:\n",
    "# using integer arithmetic, print the result of:\n",
    "\n",
    "# 2 to the power of 8\n",
    "print(2**8)\n",
    "\n",
    "# 1024 divided by 2 integer division (floor)\n",
    "print(1024 // 2)\n",
    "\n",
    "# set a variable called x to the result of 7 divided by 3\n",
    "x = 7 // 3\n",
    "print('Integer: 7 divided by 3 is', x, type(x))\n",
    "\n",
    "# We contrast this with the use of /\n",
    "# which results in a variable of type float\n",
    "x = 7 / 3\n",
    "print('7 divided by 3 is', x, type(x))"
   ]
  },
  {
   "cell_type": "markdown",
   "metadata": {},
   "source": [
    "### Data types: `bool`\n",
    "\n",
    "The last fundamental data type we will deal with here is the Boolean or 'logical' type `bool`. Here, a variable can represent the value of `True` (equivalent to `1`) or `False` (equivalent to `0`).\n",
    "\n",
    "There are a great many uses for this in using logic in coding."
   ]
  },
  {
   "cell_type": "markdown",
   "metadata": {},
   "source": [
    "You can explicitly convert between data types, e.g.:"
   ]
  },
  {
   "cell_type": "markdown",
   "metadata": {},
   "source": [
    "#### Logical Operators\n",
    "\n",
    "Logical operators combine boolean variables. Recall from above:"
   ]
  },
  {
   "cell_type": "code",
   "execution_count": 131,
   "metadata": {},
   "outputs": [
    {
     "name": "stdout",
     "output_type": "stream",
     "text": [
      "<class 'bool'> <class 'bool'>\n"
     ]
    }
   ],
   "source": [
    "print (type(True),type(False))"
   ]
  },
  {
   "cell_type": "markdown",
   "metadata": {},
   "source": [
    "The three main logical operators you will use are:\n",
    "\n",
    "    not, and, or\n",
    "    \n",
    "The impact of the `not` opeartor should be straightforward to understand, though we can first write it in a 'truth table':   \n",
    "\n",
    "\n",
    "\n",
    "| A  | not A  | \n",
    "|:---:|:---:|\n",
    "|  T | F | \n",
    "|   F |  T | "
   ]
  },
  {
   "cell_type": "code",
   "execution_count": 35,
   "metadata": {},
   "outputs": [
    {
     "name": "stdout",
     "output_type": "stream",
     "text": [
      "not True is False\n",
      "not False is True\n"
     ]
    }
   ],
   "source": [
    "print('not True is',not True)\n",
    "print('not False is',not False)"
   ]
  },
  {
   "cell_type": "markdown",
   "metadata": {},
   "source": [
    "**E1.1.11 Exercise:**\n",
    "    \n",
    "* write a statement to set a variable `x` to `True` and print the value of `x` and `not x`\n",
    "       \n",
    "* what does `not not x` give? Make sure you understand why \n",
    "    \n",
    "\n",
    "\n",
    "\n"
   ]
  },
  {
   "cell_type": "code",
   "execution_count": 36,
   "metadata": {},
   "outputs": [
    {
     "name": "stdout",
     "output_type": "stream",
     "text": [
      "True\n",
      "False\n",
      "True\n"
     ]
    }
   ],
   "source": [
    "# do the exercise here\n",
    "# ANSWER\n",
    "\n",
    "x = True\n",
    "print(x)\n",
    "print(not x)\n",
    "print(not not x)"
   ]
  },
  {
   "cell_type": "markdown",
   "metadata": {},
   "source": [
    "<mark>not not cancels out."
   ]
  },
  {
   "cell_type": "markdown",
   "metadata": {},
   "source": [
    "The operators `and` and `or` should also be quite straightforward to understand: they have the same meaning as in normal english. Note that `or` is 'inclusive' (so, read `A or B` as 'either A or B or both of them')."
   ]
  },
  {
   "cell_type": "code",
   "execution_count": 37,
   "metadata": {},
   "outputs": [
    {
     "name": "stdout",
     "output_type": "stream",
     "text": [
      "True and True is True\n",
      "True and False is False\n",
      "False and True is False\n",
      "False and False is False\n"
     ]
    }
   ],
   "source": [
    "print ('True and True is',True and True)\n",
    "print ('True and False is',True and False)\n",
    "print ('False and True is',False and True)\n",
    "print ('False and False is',False and False)"
   ]
  },
  {
   "cell_type": "markdown",
   "metadata": {},
   "source": [
    "So, `A and B` is `True`, if and only if both `A` is `True` and `B` is `True`. Otherwise, it is `False`\n",
    "\n",
    "We can represent this in a 'truth table':\n",
    "\n",
    "\n",
    "| A  | B  | A and B  | \n",
    "|:---:|:---:|:---:|\n",
    "|  T |  T |  T | \n",
    "|  T |  F |  F | \n",
    "|  F |  T |  F | \n",
    "|  F |  F |  F | \n",
    "\n",
    "\n",
    "**E1.1.12 Exercise:**\n",
    "\n",
    "* draw a truth table *on some paper*, label the columns `A`, `B` and `A and B` and fill in the columns `A` and `B` as above\n",
    "* without looking at the example above, write the value of `A and B` in the third column.\n",
    "* draw another truth table *on some paper*, label the columns `A`, `B` and `A and B` and fill in the columns `A` and `B` as above\n",
    "* write the value of `A or B` in the third column.\n",
    "\n",
    "If you are unsure, test the response using code, below."
   ]
  },
  {
   "cell_type": "code",
   "execution_count": 237,
   "metadata": {},
   "outputs": [
    {
     "name": "stdout",
     "output_type": "stream",
     "text": [
      "True\n"
     ]
    }
   ],
   "source": [
    "# do the testing here e.g.\n",
    "print (True or False)"
   ]
  },
  {
   "cell_type": "markdown",
   "metadata": {},
   "source": [
    "\n",
    "<mark>ANSWER\n",
    "    \n",
    "![](images/tt.pdf)\n",
    "\n",
    "![](images/tt2.pdf)"
   ]
  },
  {
   "cell_type": "markdown",
   "metadata": {},
   "source": [
    "**E1.1.13 Exercise**\n",
    "\n",
    "* Copy the following truth table onto paper and fill in the final column:\n",
    "\n",
    "| A  | B  | C | ((A and B) or C)  | \n",
    "|:---:|:---:|:---:|:---:|\n",
    "| T|  T |  T |   | \n",
    "| T|  T |  F |   | \n",
    "| T|  F |  T |   | \n",
    "| T |  F |  F |   | \n",
    "| F|  T |  T |   | \n",
    "| F|  T |  F |   | \n",
    "| F|  F |  T |   | \n",
    "| F |  F |  F |   | \n",
    "\n",
    "* Try some other compound statements\n",
    "\n",
    "If you are unsure, or to check your answers, test the response using code, below.\n"
   ]
  },
  {
   "cell_type": "code",
   "execution_count": 238,
   "metadata": {},
   "outputs": [
    {
     "name": "stdout",
     "output_type": "stream",
     "text": [
      "True\n"
     ]
    }
   ],
   "source": [
    "# do the testing here e.g.\n",
    "print ((True and False) or True)"
   ]
  },
  {
   "cell_type": "markdown",
   "metadata": {},
   "source": [
    "<mark>ANSWER\n",
    "    \n",
    "Do it one statement at a time:\n",
    "    \n",
    "| A  | B  | C | A and B  | (A and B) or C\n",
    "|:---:|:---:|:---:|:---:|:---:|\n",
    "| T|  T |  T |  T |   T | \n",
    "| T|  T |  F |  T |   T | \n",
    "| T|  F |  T |  F |   T | \n",
    "| T |  F |  F | F  |  F  | \n",
    "| F|  T |  T |  F |   T | \n",
    "| F|  T |  F | F  |   F | \n",
    "| F|  F |  T |  F |   T | \n",
    "| F |  F |  F |  F |  F  | \n",
    "\n"
   ]
  },
  {
   "cell_type": "markdown",
   "metadata": {},
   "source": [
    "### 1.1.7 Summary\n",
    "\n",
    "In this section, you have had an introduction to the Python programming language, running in a [`jupyter notebook`](http://jupyter.org) environment.\n",
    "\n",
    "You have seen how to write comments in code, how to form `print` statements and basic concepts of variables, values, and data types. You have seen how to maniputae data with arithmetic and assignment operators, as well as the basics in dealing with logic and tests returning logical values."
   ]
  }
 ],
 "metadata": {
  "kernelspec": {
   "display_name": "Python 3",
   "language": "python",
   "name": "python3"
  },
  "language_info": {
   "codemirror_mode": {
    "name": "ipython",
    "version": 3
   },
   "file_extension": ".py",
   "mimetype": "text/x-python",
   "name": "python",
   "nbconvert_exporter": "python",
   "pygments_lexer": "ipython3",
   "version": "3.7.6"
  },
  "latex_envs": {
   "LaTeX_envs_menu_present": true,
   "autocomplete": true,
   "bibliofile": "biblio.bib",
   "cite_by": "apalike",
   "current_citInitial": 1,
   "eqLabelWithNumbers": true,
   "eqNumInitial": 1,
   "hotkeys": {
    "equation": "Ctrl-E",
    "itemize": "Ctrl-I"
   },
   "labels_anchors": false,
   "latex_user_defs": false,
   "report_style_numbering": false,
   "user_envs_cfg": false
  },
  "toc": {
   "base_numbering": 1,
   "nav_menu": {},
   "number_sections": false,
   "sideBar": false,
   "skip_h1_title": false,
   "title_cell": "Table of Contents",
   "title_sidebar": "Contents",
   "toc_cell": false,
   "toc_position": {
    "height": "calc(100% - 180px)",
    "left": "10px",
    "top": "150px",
    "width": "207px"
   },
   "toc_section_display": false,
   "toc_window_display": false
  },
  "varInspector": {
   "cols": {
    "lenName": 16,
    "lenType": 16,
    "lenVar": 40
   },
   "kernels_config": {
    "python": {
     "delete_cmd_postfix": "",
     "delete_cmd_prefix": "del ",
     "library": "var_list.py",
     "varRefreshCmd": "print(var_dic_list())"
    },
    "r": {
     "delete_cmd_postfix": ") ",
     "delete_cmd_prefix": "rm(",
     "library": "var_list.r",
     "varRefreshCmd": "cat(var_dic_list()) "
    }
   },
   "types_to_exclude": [
    "module",
    "function",
    "builtin_function_or_method",
    "instance",
    "_Feature"
   ],
   "window_display": false
  }
 },
 "nbformat": 4,
 "nbformat_minor": 1
}
