{
 "cells": [
  {
   "cell_type": "markdown",
   "metadata": {
    "toc": true
   },
   "source": [
    "<h1>Table of Contents<span class=\"tocSkip\"></span></h1>\n",
    "<div class=\"toc\"><ul class=\"toc-item\"><li><span><a href=\"#3.5-LAI-Movies\" data-toc-modified-id=\"3.5-LAI-Movies-1\">3.5 LAI Movies</a></span></li></ul></div>"
   ]
  },
  {
   "cell_type": "markdown",
   "metadata": {},
   "source": [
    "# 3.5 LAI Movies"
   ]
  },
  {
   "cell_type": "markdown",
   "metadata": {},
   "source": [
    "![](images/MCD15A3H.A2017.h1_78_v0_34_BE.006.gif)\n",
    "\n",
    "![](images/MCD15A3H.A2017.h1_78_v0_34_UK.006.gif)\n",
    "\n",
    "![](images/MCD15A3H.A2017.h1_78_v0_34_NL.006.gif)\n",
    "\n",
    "![](images/MCD15A3H.A2017.h1_78_v0_34_GM.006.gif)\n",
    "\n",
    "![](images/MCD15A3H.A2017.h1_78_v0_34_FR.006.gif)\n",
    "\n",
    "![](images/MCD15A3H.A2017.h1_78_v0_34_LU.006.gif)\n",
    "\n",
    "![](images/MCD15A3H.A2017.h1_78_v0_34_SP.006.gif)\n",
    "\n",
    "![](images/MCD15A3H.A2017.h1_78_v0_34_PO.006.gif)"
   ]
  },
  {
   "cell_type": "code",
   "execution_count": null,
   "metadata": {},
   "outputs": [],
   "source": []
  }
 ],
 "metadata": {
  "kernelspec": {
   "display_name": "Python 3",
   "language": "python",
   "name": "python3"
  },
  "language_info": {
   "codemirror_mode": {
    "name": "ipython",
    "version": 3
   },
   "file_extension": ".py",
   "mimetype": "text/x-python",
   "name": "python",
   "nbconvert_exporter": "python",
   "pygments_lexer": "ipython3",
   "version": "3.6.6"
  },
  "toc": {
   "base_numbering": 1,
   "nav_menu": {},
   "number_sections": false,
   "sideBar": true,
   "skip_h1_title": false,
   "title_cell": "Table of Contents",
   "title_sidebar": "Contents",
   "toc_cell": true,
   "toc_position": {},
   "toc_section_display": true,
   "toc_window_display": true
  }
 },
 "nbformat": 4,
 "nbformat_minor": 2
}
